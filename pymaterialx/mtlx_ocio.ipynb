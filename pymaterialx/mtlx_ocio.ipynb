{
 "cells": [
  {
   "cell_type": "markdown",
   "metadata": {},
   "source": [
    "## OCIO and MaterialX\n",
    "\n",
    "This notebook will cover one workflow of using OCIO to generate code for MaterialX.\n",
    "We will be using the API based on OCIO 2.2 and above (released in October 2022). \n",
    "\n",
    "The aim of this notebook is to go over how OCIO can be used to generate \"implementations\".\n",
    "The longer term MaterialX aim is to generate functional node graphs. This book will cover the setup required for generation, but can only show how source code implementation generation can be performed at the curren time.\n",
    "\n",
    "The workflow covered is the \"green\" parts in this overall workflow diagram:\n",
    "<img loading="lazy" src=\"./images/OCIO_MaterialX_Workflow.png\">\n",
    "\n",
    "If / when graph generation is possible source code implementations can be swapped out for graph implementations.\n",
    "\n",
    "The breakdown is as follows:\n",
    "1. OCIO setup\n",
    "2. Setting up OCIO configurations and getting available color spaces. \n",
    "4. Setting up OCIO  \"processors\" for generating color transforms\n",
    "5. Generating source code implementations\n",
    "6. Creating MaterialX implementations and definition wrappers for `color3` and `color4` variants.\n",
    "7. Add definitions and implementations to the \"standard\" transform\n",
    "library (`cmlib`)\n",
    "\n",
    "For further OCI there is a fair bit of documentation available with a useful starting place [here](https://opencolorio.readthedocs.io/en/latest/guides/developing/developing.html)"
   ]
  },
  {
   "cell_type": "markdown",
   "metadata": {},
   "source": [
    "### Setup\n",
    "\n",
    "OpenColorIO is available as a pre-built Python package on PyPi [here](https://pypi.org/project/opencolorio/)\n",
    "\n",
    "`pip` can be used to install the package which is called `PyOpenColorIO`\n",
    "\n",
    "User can also build OpenColorIO by cloning the [GitHub repository](https://github.com/AcademySoftwareFoundation/OpenColorIO/).\n",
    "\n",
    "For the purposes of generating color transform implementation, most of the build options can be disabled. For For building and installing the Python package, make sure that the appropriate build option is set (current `OCIO_BUILD_PYTHON`, `OCIO_INSTALL_EXT_PACKAGES` respectively).\n",
    "\n",
    "An example set of options is given here:\n",
    "```\n",
    "-DOPENIMAGEIO_INCLUDE_DIR=\"\" -DOPENIMAGEIO_LIBRARY=\"\" -DOCIO_BUILD_DOCS=OFF -DBUILD_SHARED_LIBS=OFF -DOCIO_BUILD_TESTS=ON -DOCIO_BUILD_GPU_TESTS=OFF -DOCIO_BUILD_PYTHON=1 -DOCIO_BUILD_JAVA=0 -DOCIO_INSTALL_EXT_PACKAGES=ALL -DOCIO_BUILD_APPS=0 -DOCIO_BUILD_NUKE=0\n",
    "```\n",
    "\n",
    "A third alternative is to use a pre-built Python package which comes with another installation such as a DCC. A check should be made to not inadvertently use the incorrect version of the package.\n",
    "\n",
    "For this book, we install from PyPi."
   ]
  },
  {
   "cell_type": "code",
   "execution_count": 61,
   "metadata": {
    "vscode": {
     "languageId": "shellscript"
    }
   },
   "outputs": [],
   "source": [
    "# Package install\n",
    "#pip install OpenColorIO"
   ]
  },
  {
   "cell_type": "markdown",
   "metadata": {},
   "source": [
    "Here we import PyOpenColorIO and MaterialX."
   ]
  },
  {
   "cell_type": "code",
   "execution_count": 62,
   "metadata": {},
   "outputs": [
    {
     "name": "stdout",
     "output_type": "stream",
     "text": [
      "OCIO version: 2.3.0\n",
      "MaterialX version: 1.38.8\n"
     ]
    }
   ],
   "source": [
    "# Import OCIO package\n",
    "import PyOpenColorIO as OCIO\n",
    "import MaterialX as mx\n",
    "\n",
    "print('OCIO version:', OCIO.GetVersion())\n",
    "print('MaterialX version:', mx.getVersionString())"
   ]
  },
  {
   "cell_type": "markdown",
   "metadata": {},
   "source": [
    "### Configurations\n",
    "\n",
    "As of version 2.2, `ACES Cg Config` and `ACES Studio Config` are packaged with `OCIO`, meaning that they are available to use without having to download them separately. The `getBuildInConfigs()` API is explained [here](https://opencolorio.readthedocs.io/en/latest/releases/ocio_2_2.html)"
   ]
  },
  {
   "cell_type": "code",
   "execution_count": 63,
   "metadata": {},
   "outputs": [],
   "source": [
    "# Get the OCIO built in configs\n",
    "registry = OCIO.BuiltinConfigRegistry().getBuiltinConfigs()\n"
   ]
  },
  {
   "cell_type": "markdown",
   "metadata": {},
   "source": [
    "This items return canned be scanned and the appropriate configuration instantiated using `CreateFromBuiltInConfig()` In the following example we built a dictionary of configs along with the available color spaces."
   ]
  },
  {
   "cell_type": "code",
   "execution_count": 64,
   "metadata": {},
   "outputs": [
    {
     "name": "stdout",
     "output_type": "stream",
     "text": [
      "Built-in config: cg-config-v2.1.0_aces-v1.3_ocio-v2.3\n",
      "- Number of color spaces: 15\n",
      "Built-in config: studio-config-v2.1.0_aces-v1.3_ocio-v2.3\n",
      "- Number of color spaces: 41\n"
     ]
    }
   ],
   "source": [
    "\n",
    "# Create a dictionary of configs\n",
    "configs = {}\n",
    "for item in registry:\n",
    "    # The short_name is the URI-style name.\n",
    "    # The ui_name is the name to use in a user interface.\n",
    "    short_name, ui_name, isRecommended, isDefault = item\n",
    "\n",
    "    # Don't present built-in configs to users if they are no longer recommended.\n",
    "    if isRecommended:\n",
    "        # Create a config using the Cg config\n",
    "        config = OCIO.Config.CreateFromBuiltinConfig(short_name)\n",
    "        colorSpaces = None\n",
    "        if config:\n",
    "            colorSpaces = config.getColorSpaces()\n",
    "\n",
    "        if colorSpaces:\n",
    "            configs[short_name] = [config, colorSpaces]\n",
    "\n",
    "# Print the configs\n",
    "for config in configs:\n",
    "    print('Built-in config:', config)\n",
    "    csnames = configs[config][0].getColorSpaceNames()\n",
    "    print('- Number of color spaces: %d' % len(csnames))\n",
    "    #for csname in csnames:\n",
    "    #    print('  -', csname)\n"
   ]
  },
  {
   "cell_type": "markdown",
   "metadata": {},
   "source": [
    "A more direct way to get the desired config is to call `CreateFomFile` with the appropriate built in path. In this case we get the `ACES Cg Config`.`"
   ]
  },
  {
   "cell_type": "code",
   "execution_count": 65,
   "metadata": {},
   "outputs": [
    {
     "name": "stdout",
     "output_type": "stream",
     "text": [
      "Built-in config: cg-config-v1.0.0_aces-v1.3_ocio-v2.1\n",
      "- Number of color spaces: 14\n"
     ]
    }
   ],
   "source": [
    "acesCgConfigPath = 'ocio://cg-config-v1.0.0_aces-v1.3_ocio-v2.1'\n",
    "builtinCfgC = OCIO.Config.CreateFromFile(acesCgConfigPath)\n",
    "print('Built-in config:', builtinCfgC.getName())\n",
    "csnames = builtinCfgC.getColorSpaceNames()\n",
    "print('- Number of color spaces: %d' % len(csnames))"
   ]
  },
  {
   "cell_type": "markdown",
   "metadata": {},
   "source": [
    "### Color Spaces\n",
    "\n",
    "To check what color space identifiers can be used we print out each color space name along with any aliases by calling `getAliases()` on each color space. \n"
   ]
  },
  {
   "cell_type": "code",
   "execution_count": 66,
   "metadata": {},
   "outputs": [
    {
     "data": {
      "text/markdown": [
       "<details><summary>Color Spaces</summary>\n",
       "\n",
       "| Configuration | Color Space | Aliases |\n",
       "| --- | --- | --- |\n",
       "| cg-config-v2.1.0_aces-v1.3_ocio-v2.3 | ACES2065-1 | aces2065_1, ACES - ACES2065-1, lin_ap0 |\n",
       "| cg-config-v2.1.0_aces-v1.3_ocio-v2.3 | ACEScc | ACES - ACEScc, acescc_ap1 |\n",
       "| cg-config-v2.1.0_aces-v1.3_ocio-v2.3 | ACEScct | ACES - ACEScct, acescct_ap1 |\n",
       "| cg-config-v2.1.0_aces-v1.3_ocio-v2.3 | ACEScg | ACES - ACEScg, lin_ap1 |\n",
       "| cg-config-v2.1.0_aces-v1.3_ocio-v2.3 | Linear P3-D65 | lin_p3d65, Utility - Linear - P3-D65, lin_displayp3, Linear Display P3 |\n",
       "| cg-config-v2.1.0_aces-v1.3_ocio-v2.3 | Linear Rec.2020 | lin_rec2020, Utility - Linear - Rec.2020 |\n",
       "| cg-config-v2.1.0_aces-v1.3_ocio-v2.3 | Linear Rec.709 (sRGB) | lin_rec709_srgb, Utility - Linear - Rec.709, lin_rec709, lin_srgb, Utility - Linear - sRGB |\n",
       "| cg-config-v2.1.0_aces-v1.3_ocio-v2.3 | Gamma 1.8 Rec.709 - Texture | g18_rec709_tx, Utility - Gamma 1.8 - Rec.709 - Texture, g18_rec709 |\n",
       "| cg-config-v2.1.0_aces-v1.3_ocio-v2.3 | Gamma 2.2 AP1 - Texture | g22_ap1_tx, g22_ap1 |\n",
       "| cg-config-v2.1.0_aces-v1.3_ocio-v2.3 | Gamma 2.2 Rec.709 - Texture | g22_rec709_tx, Utility - Gamma 2.2 - Rec.709 - Texture, g22_rec709 |\n",
       "| cg-config-v2.1.0_aces-v1.3_ocio-v2.3 | Gamma 2.4 Rec.709 - Texture | g24_rec709_tx, g24_rec709, rec709_display, Utility - Rec.709 - Display |\n",
       "| cg-config-v2.1.0_aces-v1.3_ocio-v2.3 | sRGB Encoded AP1 - Texture | srgb_encoded_ap1_tx, srgb_ap1 |\n",
       "| cg-config-v2.1.0_aces-v1.3_ocio-v2.3 | sRGB Encoded P3-D65 - Texture | srgb_encoded_p3d65_tx, srgb_p3d65, srgb_displayp3 |\n",
       "| cg-config-v2.1.0_aces-v1.3_ocio-v2.3 | sRGB - Texture | srgb_tx, Utility - sRGB - Texture, srgb_texture, Input - Generic - sRGB - Texture |\n",
       "| cg-config-v2.1.0_aces-v1.3_ocio-v2.3 | Raw | Utility - Raw |\n",
       "| studio-config-v2.1.0_aces-v1.3_ocio-v2.3 | ACES2065-1 | aces2065_1, ACES - ACES2065-1, lin_ap0 |\n",
       "| studio-config-v2.1.0_aces-v1.3_ocio-v2.3 | ACEScc | ACES - ACEScc, acescc_ap1 |\n",
       "| studio-config-v2.1.0_aces-v1.3_ocio-v2.3 | ACEScct | ACES - ACEScct, acescct_ap1 |\n",
       "| studio-config-v2.1.0_aces-v1.3_ocio-v2.3 | ACEScg | ACES - ACEScg, lin_ap1 |\n",
       "| studio-config-v2.1.0_aces-v1.3_ocio-v2.3 | ADX10 | Input - ADX - ADX10 |\n",
       "| studio-config-v2.1.0_aces-v1.3_ocio-v2.3 | ADX16 | Input - ADX - ADX16 |\n",
       "| studio-config-v2.1.0_aces-v1.3_ocio-v2.3 | Linear ARRI Wide Gamut 3 | lin_arri_wide_gamut_3, Input - ARRI - Linear - ALEXA Wide Gamut, lin_alexawide |\n",
       "| studio-config-v2.1.0_aces-v1.3_ocio-v2.3 | ARRI LogC3 (EI800) | arri_logc3_ei800, Input - ARRI - V3 LogC (EI800) - Wide Gamut, logc3ei800_alexawide |\n",
       "| studio-config-v2.1.0_aces-v1.3_ocio-v2.3 | Linear ARRI Wide Gamut 4 | lin_arri_wide_gamut_4, lin_awg4 |\n",
       "| studio-config-v2.1.0_aces-v1.3_ocio-v2.3 | ARRI LogC4 | arri_logc4 |\n",
       "| studio-config-v2.1.0_aces-v1.3_ocio-v2.3 | BMDFilm WideGamut Gen5 | bmdfilm_widegamut_gen5 |\n",
       "| studio-config-v2.1.0_aces-v1.3_ocio-v2.3 | DaVinci Intermediate WideGamut | davinci_intermediate_widegamut |\n",
       "| studio-config-v2.1.0_aces-v1.3_ocio-v2.3 | Linear BMD WideGamut Gen5 | lin_bmd_widegamut_gen5 |\n",
       "| studio-config-v2.1.0_aces-v1.3_ocio-v2.3 | Linear DaVinci WideGamut | lin_davinci_widegamut |\n",
       "| studio-config-v2.1.0_aces-v1.3_ocio-v2.3 | CanonLog2 CinemaGamut D55 | canonlog2_cinemagamut_d55, Input - Canon - Canon-Log2 - Cinema Gamut Daylight, canonlog2_cgamutday |\n",
       "| studio-config-v2.1.0_aces-v1.3_ocio-v2.3 | CanonLog3 CinemaGamut D55 | canonlog3_cinemagamut_d55, Input - Canon - Canon-Log3 - Cinema Gamut Daylight, canonlog3_cgamutday |\n",
       "| studio-config-v2.1.0_aces-v1.3_ocio-v2.3 | Linear CinemaGamut D55 | lin_cinemagamut_d55, Input - Canon - Linear - Canon Cinema Gamut Daylight, lin_canoncgamutday |\n",
       "| studio-config-v2.1.0_aces-v1.3_ocio-v2.3 | Linear V-Gamut | lin_vgamut, Input - Panasonic - Linear - V-Gamut |\n",
       "| studio-config-v2.1.0_aces-v1.3_ocio-v2.3 | V-Log V-Gamut | vlog_vgamut, Input - Panasonic - V-Log - V-Gamut |\n",
       "| studio-config-v2.1.0_aces-v1.3_ocio-v2.3 | Linear REDWideGamutRGB | lin_redwidegamutrgb, Input - RED - Linear - REDWideGamutRGB, lin_rwg |\n",
       "| studio-config-v2.1.0_aces-v1.3_ocio-v2.3 | Log3G10 REDWideGamutRGB | log3g10_redwidegamutrgb, Input - RED - REDLog3G10 - REDWideGamutRGB, rl3g10_rwg |\n",
       "| studio-config-v2.1.0_aces-v1.3_ocio-v2.3 | Linear S-Gamut3 | lin_sgamut3, Input - Sony - Linear - S-Gamut3 |\n",
       "| studio-config-v2.1.0_aces-v1.3_ocio-v2.3 | Linear S-Gamut3.Cine | lin_sgamut3cine, Input - Sony - Linear - S-Gamut3.Cine |\n",
       "| studio-config-v2.1.0_aces-v1.3_ocio-v2.3 | Linear Venice S-Gamut3 | lin_venice_sgamut3, Input - Sony - Linear - Venice S-Gamut3 |\n",
       "| studio-config-v2.1.0_aces-v1.3_ocio-v2.3 | Linear Venice S-Gamut3.Cine | lin_venice_sgamut3cine, Input - Sony - Linear - Venice S-Gamut3.Cine |\n",
       "| studio-config-v2.1.0_aces-v1.3_ocio-v2.3 | S-Log3 S-Gamut3 | slog3_sgamut3, Input - Sony - S-Log3 - S-Gamut3 |\n",
       "| studio-config-v2.1.0_aces-v1.3_ocio-v2.3 | S-Log3 S-Gamut3.Cine | slog3_sgamut3cine, Input - Sony - S-Log3 - S-Gamut3.Cine, slog3_sgamutcine |\n",
       "| studio-config-v2.1.0_aces-v1.3_ocio-v2.3 | S-Log3 Venice S-Gamut3 | slog3_venice_sgamut3, Input - Sony - S-Log3 - Venice S-Gamut3 |\n",
       "| studio-config-v2.1.0_aces-v1.3_ocio-v2.3 | S-Log3 Venice S-Gamut3.Cine | slog3_venice_sgamut3cine, Input - Sony - S-Log3 - Venice S-Gamut3.Cine, slog3_venice_sgamutcine |\n",
       "| studio-config-v2.1.0_aces-v1.3_ocio-v2.3 | Camera Rec.709 | camera_rec709, Utility - Rec.709 - Camera, rec709_camera |\n",
       "| studio-config-v2.1.0_aces-v1.3_ocio-v2.3 | Linear P3-D65 | lin_p3d65, Utility - Linear - P3-D65, lin_displayp3, Linear Display P3 |\n",
       "| studio-config-v2.1.0_aces-v1.3_ocio-v2.3 | Linear Rec.2020 | lin_rec2020, Utility - Linear - Rec.2020 |\n",
       "| studio-config-v2.1.0_aces-v1.3_ocio-v2.3 | Linear Rec.709 (sRGB) | lin_rec709_srgb, Utility - Linear - Rec.709, lin_rec709, lin_srgb, Utility - Linear - sRGB |\n",
       "| studio-config-v2.1.0_aces-v1.3_ocio-v2.3 | Gamma 1.8 Rec.709 - Texture | g18_rec709_tx, Utility - Gamma 1.8 - Rec.709 - Texture, g18_rec709 |\n",
       "| studio-config-v2.1.0_aces-v1.3_ocio-v2.3 | Gamma 2.2 AP1 - Texture | g22_ap1_tx, g22_ap1 |\n",
       "| studio-config-v2.1.0_aces-v1.3_ocio-v2.3 | Gamma 2.2 Rec.709 - Texture | g22_rec709_tx, Utility - Gamma 2.2 - Rec.709 - Texture, g22_rec709 |\n",
       "| studio-config-v2.1.0_aces-v1.3_ocio-v2.3 | Gamma 2.4 Rec.709 - Texture | g24_rec709_tx, g24_rec709, rec709_display, Utility - Rec.709 - Display |\n",
       "| studio-config-v2.1.0_aces-v1.3_ocio-v2.3 | sRGB Encoded AP1 - Texture | srgb_encoded_ap1_tx, srgb_ap1 |\n",
       "| studio-config-v2.1.0_aces-v1.3_ocio-v2.3 | sRGB Encoded P3-D65 - Texture | srgb_encoded_p3d65_tx, srgb_p3d65, srgb_displayp3 |\n",
       "| studio-config-v2.1.0_aces-v1.3_ocio-v2.3 | sRGB - Texture | srgb_tx, Utility - sRGB - Texture, srgb_texture, Input - Generic - sRGB - Texture |\n",
       "| studio-config-v2.1.0_aces-v1.3_ocio-v2.3 | Raw | Utility - Raw |\n",
       "</details>"
      ]
     },
     "metadata": {},
     "output_type": "display_data"
    }
   ],
   "source": [
    "from IPython.display import display_markdown\n",
    "\n",
    "title = '| Configuration | Color Space | Aliases |\\n'\n",
    "title = title + '| --- | --- | --- |\\n'\n",
    "\n",
    "rows = ''\n",
    "for c in configs:\n",
    "    config = configs[c][0]\n",
    "    colorSpaces = configs[c][1]\n",
    "    for colorSpace in colorSpaces:\n",
    "        aliases = colorSpace.getAliases()\n",
    "        rows = rows + '| ' + c + ' | ' + colorSpace.getName() + ' | ' + ', '.join(aliases) + ' |\\n'\n",
    "\n",
    "md = '<details><summary>Color Spaces</summary>\\n\\n' + title + rows + '</details>'\n",
    "display_markdown(md, raw=True)"
   ]
  },
  {
   "cell_type": "markdown",
   "metadata": {},
   "source": [
    "### Supported Color Spaces in MaterialX\n",
    "\n",
    "MaterialX currently uses color space names for :\n",
    "1. Color space (`colorspace` attribute) tagging for input images (`filename` attributes) and colors (`color3` and `color4` types). \n",
    "2. Node category identifiers for node definitions of the form `<from color space>_<to color space name>` to specify color space conversion nodes. (Node definitions are support as of MaterialX 1.38.7)\n",
    "\n",
    "Note that any valid color space name can be used for input tagging. \n",
    "\n",
    "At time of writing only specific color space conversions are supported via node definitions and hence can perform code injection during shader code generation.\n",
    "Any color space information can still be passed as meta-data to the code generated (e.g. as is possible with the `OSL` generator).\n",
    "\n",
    "Further note that only certain **aliases** which are valid MaterialX identifiers are recognized in this context. For example `g18_rec709` is used for color space `Gamma 1.8 Rec.709 - Texture` and `lin_rec709` is used for color space `Linear Rec.709 (sRGB)`."
   ]
  },
  {
   "cell_type": "markdown",
   "metadata": {},
   "source": [
    "### OCIO Shader Code Generation\n",
    "\n",
    "It is possible to generate code color space transforms for certain code generation targets. \n",
    "\n",
    "This is done by:\n",
    "\n",
    "1. Calling `getProcessor()` on the config with desired \"source\" and \"destination\" color spaces for the transform.\n",
    "2. Creating a CPU or GPU processor \n",
    "3. Set the appropriate target language\n",
    "4. Getting the shader code using `getShaderText()`"
   ]
  },
  {
   "cell_type": "code",
   "execution_count": 67,
   "metadata": {},
   "outputs": [
    {
     "data": {
      "text/markdown": [
       "<details><summary>Transform Code for GLSL</summary>\n",
       "\n",
       "| Source | Target | Code |\n",
       "| --- | --- | --- |\n",
       "| ACES2065-1 | lin_rec709 | <code><br>// Declaration of the OCIO shader function<br><br>vec4 OCIOMain(vec4 inPixel)<br>{<br>  vec4 outColor = inPixel;<br>  <br>  // Add Matrix processing<br>  <br>  {<br>    vec4 res = vec4(outColor.rgb.r, outColor.rgb.g, outColor.rgb.b, outColor.a);<br>    vec4 tmp = res;<br>    res = mat4(2.5216861867438798, -0.27647991422992202, -0.015378064966034201, 0., -1.1341309882397199, 1.37271908766826, -0.152975335867399, 0., -0.38755519850416398, -0.096239173438334005, 1.16835340083343, 0., 0., 0., 0., 1.) * tmp;<br>    outColor.rgb = vec3(res.x, res.y, res.z);<br>    outColor.a = res.w;<br>  }<br><br>  return outColor;<br>}<br></code>|\n",
       "| ACEScc | lin_rec709 | <code><br>// Declaration of all variables<br><br>uniform sampler2D ocio_lut1d_0Sampler;<br><br>// Declaration of all helper methods<br><br>vec2 ocio_lut1d_0_computePos(float f)<br>{<br>  float dep = clamp(f, 0.0, 1.0) * 4095.;<br>  vec2 retVal;<br>  retVal.y = floor(dep / 4095.);<br>  retVal.x = dep - retVal.y * 4095.;<br>  retVal.x = (retVal.x + 0.5) / 4096.;<br>  retVal.y = (retVal.y + 0.5) / 2.;<br>  return retVal;<br>}<br><br>// Declaration of the OCIO shader function<br><br>vec4 OCIOMain(vec4 inPixel)<br>{<br>  vec4 outColor = inPixel;<br>  <br>  // Add Range processing<br>  <br>  {<br>    outColor.rgb = outColor.rgb * vec3(0.53763440860215062, 0.53763440860215062, 0.53763440860215062) + vec3(0.19354838709677422, 0.19354838709677422, 0.19354838709677422);<br>    outColor.rgb = max(vec3(0., 0., 0.), outColor.rgb);<br>    outColor.rgb = min(vec3(1., 1., 1.), outColor.rgb);<br>  }<br>  <br>  // Add LUT 1D processing for ocio_lut1d_0<br>  <br>  {<br>    outColor.r = texture(ocio_lut1d_0Sampler, ocio_lut1d_0_computePos(outColor.r)).r;<br>    outColor.g = texture(ocio_lut1d_0Sampler, ocio_lut1d_0_computePos(outColor.g)).r;<br>    outColor.b = texture(ocio_lut1d_0Sampler, ocio_lut1d_0_computePos(outColor.b)).r;<br>  }<br>  <br>  // Add Matrix processing<br>  <br>  {<br>    vec4 res = vec4(outColor.rgb.r, outColor.rgb.g, outColor.rgb.b, outColor.a);<br>    vec4 tmp = res;<br>    res = mat4(0.69545224135745187, 0.044794563372037716, -0.0055258825581135443, 0., 0.14067869647029416, 0.85967111845642163, 0.0040252103059786595, 0., 0.16386906217225405, 0.0955343181715404, 1.0015006722521349, 0., 0., 0., 0., 1.) * tmp;<br>    outColor.rgb = vec3(res.x, res.y, res.z);<br>    outColor.a = res.w;<br>  }<br>  <br>  // Add Range processing<br>  <br>  {<br>    outColor.rgb = max(vec3(0., 0., 0.), outColor.rgb);<br>  }<br>  <br>  // Add Matrix processing<br>  <br>  {<br>    vec4 res = vec4(outColor.rgb.r, outColor.rgb.g, outColor.rgb.b, outColor.a);<br>    vec4 tmp = res;<br>    res = mat4(2.5216861867438798, -0.27647991422992202, -0.015378064966034201, 0., -1.1341309882397199, 1.37271908766826, -0.152975335867399, 0., -0.38755519850416398, -0.096239173438334005, 1.16835340083343, 0., 0., 0., 0., 1.) * tmp;<br>    outColor.rgb = vec3(res.x, res.y, res.z);<br>    outColor.a = res.w;<br>  }<br><br>  return outColor;<br>}<br></code>|\n",
       "| ACEScct | lin_rec709 | <code><br>// Declaration of the OCIO shader function<br><br>vec4 OCIOMain(vec4 inPixel)<br>{<br>  vec4 outColor = inPixel;<br>  <br>  // Add Log 'Camera Log to Lin' processing<br>  <br>  {<br>    vec3 log_break = vec3(0.155251175, 0.155251175, 0.155251175);<br>    vec3 linear_segment_offset = vec3(0.0729055703, 0.0729055703, 0.0729055703);<br>    vec3 linear_segment_slopeinv = vec3(0.0948745236, 0.0948745236, 0.0948745236);<br>    vec3 lin_slopeinv = vec3(1., 1., 1.);<br>    vec3 lin_offset = vec3(0., 0., 0.);<br>    vec3 log_slopeinv = vec3(17.5200005, 17.5200005, 17.5200005);<br>    vec3 log_base = vec3(2., 2., 2.);<br>    vec3 log_offset = vec3(0.5547945205479452, 0.5547945205479452, 0.5547945205479452);<br>    vec3 isAboveBreak = vec3(greaterThan( outColor.rgb, log_break));<br>    vec3 linSeg = ( outColor.rgb - linear_segment_offset ) * linear_segment_slopeinv;<br>    vec3 logSeg = (outColor.rgb - log_offset) * log_slopeinv;<br>    logSeg = pow(log_base, logSeg);<br>    logSeg = lin_slopeinv * (logSeg - lin_offset);<br>    outColor.rgb = isAboveBreak * logSeg + ( vec3(1., 1., 1.) - isAboveBreak ) * linSeg;<br>  }<br>  <br>  // Add Matrix processing<br>  <br>  {<br>    vec4 res = vec4(outColor.rgb.r, outColor.rgb.g, outColor.rgb.b, outColor.a);<br>    vec4 tmp = res;<br>    res = mat4(1.7050509926579815, -0.1302564175070435, -0.024003356804618042, 0., -0.62179212065700562, 1.1408047365754048, -0.1289689760649709, 0., -0.0832588720009797, -0.010548319068357653, 1.1529723328695858, 0., 0., 0., 0., 1.) * tmp;<br>    outColor.rgb = vec3(res.x, res.y, res.z);<br>    outColor.a = res.w;<br>  }<br><br>  return outColor;<br>}<br></code>|\n",
       "| ACEScg | lin_rec709 | <code><br>// Declaration of the OCIO shader function<br><br>vec4 OCIOMain(vec4 inPixel)<br>{<br>  vec4 outColor = inPixel;<br>  <br>  // Add Matrix processing<br>  <br>  {<br>    vec4 res = vec4(outColor.rgb.r, outColor.rgb.g, outColor.rgb.b, outColor.a);<br>    vec4 tmp = res;<br>    res = mat4(1.7050509926579815, -0.1302564175070435, -0.024003356804618042, 0., -0.62179212065700562, 1.1408047365754048, -0.1289689760649709, 0., -0.0832588720009797, -0.010548319068357653, 1.1529723328695858, 0., 0., 0., 0., 1.) * tmp;<br>    outColor.rgb = vec3(res.x, res.y, res.z);<br>    outColor.a = res.w;<br>  }<br><br>  return outColor;<br>}<br></code>|\n",
       "| Linear P3-D65 | lin_rec709 | <code><br>// Declaration of the OCIO shader function<br><br>vec4 OCIOMain(vec4 inPixel)<br>{<br>  vec4 outColor = inPixel;<br>  <br>  // Add Matrix processing<br>  <br>  {<br>    vec4 res = vec4(outColor.rgb.r, outColor.rgb.g, outColor.rgb.b, outColor.a);<br>    vec4 tmp = res;<br>    res = mat4(1.224940176280555, -0.042056954709687663, -0.019637554590334446, 0., -0.22494017628056295, 1.0420569547096903, -0.078636045550631944, 0., -0., 0., 1.0982736001409683, 0., 0., 0., 0., 1.) * tmp;<br>    outColor.rgb = vec3(res.x, res.y, res.z);<br>    outColor.a = res.w;<br>  }<br><br>  return outColor;<br>}<br></code>|\n",
       "| Linear Rec.2020 | lin_rec709 | <code><br>// Declaration of the OCIO shader function<br><br>vec4 OCIOMain(vec4 inPixel)<br>{<br>  vec4 outColor = inPixel;<br>  <br>  // Add Matrix processing<br>  <br>  {<br>    vec4 res = vec4(outColor.rgb.r, outColor.rgb.g, outColor.rgb.b, outColor.a);<br>    vec4 tmp = res;<br>    res = mat4(1.6604910021084354, -0.12455047452159097, -0.018150763354905279, 0., -0.58764113878854773, 1.1328998971259596, -0.10057889800800768, 0., -0.072849863319883967, -0.0083494226043700909, 1.118729661362905, 0., 0., 0., 0., 1.) * tmp;<br>    outColor.rgb = vec3(res.x, res.y, res.z);<br>    outColor.a = res.w;<br>  }<br><br>  return outColor;<br>}<br></code>|\n",
       "| Linear Rec.709 (sRGB) | lin_rec709 | <code><br>// Declaration of the OCIO shader function<br><br>vec4 OCIOMain(vec4 inPixel)<br>{<br>  vec4 outColor = inPixel;<br><br>  return outColor;<br>}<br></code>|\n",
       "| Gamma 1.8 Rec.709 - Texture | lin_rec709 | <code><br>// Declaration of the OCIO shader function<br><br>vec4 OCIOMain(vec4 inPixel)<br>{<br>  vec4 outColor = inPixel;<br>  <br>  // Add Gamma 'basicPassThruFwd' processing<br>  <br>  {<br>    vec4 gamma = vec4(1.8, 1.8, 1.8, 1.);<br>    vec4 breakPnt = vec4(0., 0., 0., 0.);<br>    vec4 isAboveBreak = vec4(greaterThan( outColor, breakPnt));<br>    vec4 powSeg = pow(max( vec4(0., 0., 0., 0.), outColor ), gamma);<br>    vec4 res = isAboveBreak * powSeg + ( vec4(1., 1., 1., 1.) - isAboveBreak ) * outColor;<br>    outColor.rgb = vec3(res.x, res.y, res.z);<br>    outColor.a = res.w;<br>  }<br><br>  return outColor;<br>}<br></code>|\n",
       "| Gamma 2.2 AP1 - Texture | lin_rec709 | <code><br>// Declaration of the OCIO shader function<br><br>vec4 OCIOMain(vec4 inPixel)<br>{<br>  vec4 outColor = inPixel;<br>  <br>  // Add Gamma 'basicPassThruFwd' processing<br>  <br>  {<br>    vec4 gamma = vec4(2.2000000000000002, 2.2000000000000002, 2.2000000000000002, 1.);<br>    vec4 breakPnt = vec4(0., 0., 0., 0.);<br>    vec4 isAboveBreak = vec4(greaterThan( outColor, breakPnt));<br>    vec4 powSeg = pow(max( vec4(0., 0., 0., 0.), outColor ), gamma);<br>    vec4 res = isAboveBreak * powSeg + ( vec4(1., 1., 1., 1.) - isAboveBreak ) * outColor;<br>    outColor.rgb = vec3(res.x, res.y, res.z);<br>    outColor.a = res.w;<br>  }<br>  <br>  // Add Matrix processing<br>  <br>  {<br>    vec4 res = vec4(outColor.rgb.r, outColor.rgb.g, outColor.rgb.b, outColor.a);<br>    vec4 tmp = res;<br>    res = mat4(1.7050509926579756, -0.13025641750704287, -0.02400335680461799, 0., -0.62179212065700873, 1.1408047365754079, -0.12896897606497126, 0., -0.083258872000981698, -0.010548319068357195, 1.152972332869586, 0., 0., 0., 0., 1.) * tmp;<br>    outColor.rgb = vec3(res.x, res.y, res.z);<br>    outColor.a = res.w;<br>  }<br><br>  return outColor;<br>}<br></code>|\n",
       "| Gamma 2.2 Rec.709 - Texture | lin_rec709 | <code><br>// Declaration of the OCIO shader function<br><br>vec4 OCIOMain(vec4 inPixel)<br>{<br>  vec4 outColor = inPixel;<br>  <br>  // Add Gamma 'basicPassThruFwd' processing<br>  <br>  {<br>    vec4 gamma = vec4(2.2000000000000002, 2.2000000000000002, 2.2000000000000002, 1.);<br>    vec4 breakPnt = vec4(0., 0., 0., 0.);<br>    vec4 isAboveBreak = vec4(greaterThan( outColor, breakPnt));<br>    vec4 powSeg = pow(max( vec4(0., 0., 0., 0.), outColor ), gamma);<br>    vec4 res = isAboveBreak * powSeg + ( vec4(1., 1., 1., 1.) - isAboveBreak ) * outColor;<br>    outColor.rgb = vec3(res.x, res.y, res.z);<br>    outColor.a = res.w;<br>  }<br><br>  return outColor;<br>}<br></code>|\n",
       "| Gamma 2.4 Rec.709 - Texture | lin_rec709 | <code><br>// Declaration of the OCIO shader function<br><br>vec4 OCIOMain(vec4 inPixel)<br>{<br>  vec4 outColor = inPixel;<br>  <br>  // Add Gamma 'basicPassThruFwd' processing<br>  <br>  {<br>    vec4 gamma = vec4(2.3999999999999999, 2.3999999999999999, 2.3999999999999999, 1.);<br>    vec4 breakPnt = vec4(0., 0., 0., 0.);<br>    vec4 isAboveBreak = vec4(greaterThan( outColor, breakPnt));<br>    vec4 powSeg = pow(max( vec4(0., 0., 0., 0.), outColor ), gamma);<br>    vec4 res = isAboveBreak * powSeg + ( vec4(1., 1., 1., 1.) - isAboveBreak ) * outColor;<br>    outColor.rgb = vec3(res.x, res.y, res.z);<br>    outColor.a = res.w;<br>  }<br><br>  return outColor;<br>}<br></code>|\n",
       "| sRGB Encoded AP1 - Texture | lin_rec709 | <code><br>// Declaration of the OCIO shader function<br><br>vec4 OCIOMain(vec4 inPixel)<br>{<br>  vec4 outColor = inPixel;<br>  <br>  // Add Gamma 'monCurveFwd' processing<br>  <br>  {<br>    vec4 breakPnt = vec4(0.0392857157, 0.0392857157, 0.0392857157, 1.);<br>    vec4 slope = vec4(0.077380158, 0.077380158, 0.077380158, 1.);<br>    vec4 scale = vec4(0.947867274, 0.947867274, 0.947867274, 0.999998987);<br>    vec4 offset = vec4(0.0521326996, 0.0521326996, 0.0521326996, 9.99998974e-07);<br>    vec4 gamma = vec4(2.4000001, 2.4000001, 2.4000001, 1.00000095);<br>    vec4 isAboveBreak = vec4(greaterThan( outColor, breakPnt));<br>    vec4 linSeg = outColor * slope;<br>    vec4 powSeg = pow( max( vec4(0., 0., 0., 0.), scale * outColor + offset), gamma);<br>    vec4 res = isAboveBreak * powSeg + ( vec4(1., 1., 1., 1.) - isAboveBreak ) * linSeg;<br>    outColor.rgb = vec3(res.x, res.y, res.z);<br>    outColor.a = res.w;<br>  }<br>  <br>  // Add Matrix processing<br>  <br>  {<br>    vec4 res = vec4(outColor.rgb.r, outColor.rgb.g, outColor.rgb.b, outColor.a);<br>    vec4 tmp = res;<br>    res = mat4(1.7050509926579756, -0.13025641750704287, -0.02400335680461799, 0., -0.62179212065700873, 1.1408047365754079, -0.12896897606497126, 0., -0.083258872000981698, -0.010548319068357195, 1.152972332869586, 0., 0., 0., 0., 1.) * tmp;<br>    outColor.rgb = vec3(res.x, res.y, res.z);<br>    outColor.a = res.w;<br>  }<br><br>  return outColor;<br>}<br></code>|\n",
       "| sRGB Encoded P3-D65 - Texture | lin_rec709 | <code><br>// Declaration of the OCIO shader function<br><br>vec4 OCIOMain(vec4 inPixel)<br>{<br>  vec4 outColor = inPixel;<br>  <br>  // Add Gamma 'monCurveFwd' processing<br>  <br>  {<br>    vec4 breakPnt = vec4(0.0392857157, 0.0392857157, 0.0392857157, 1.);<br>    vec4 slope = vec4(0.077380158, 0.077380158, 0.077380158, 1.);<br>    vec4 scale = vec4(0.947867274, 0.947867274, 0.947867274, 0.999998987);<br>    vec4 offset = vec4(0.0521326996, 0.0521326996, 0.0521326996, 9.99998974e-07);<br>    vec4 gamma = vec4(2.4000001, 2.4000001, 2.4000001, 1.00000095);<br>    vec4 isAboveBreak = vec4(greaterThan( outColor, breakPnt));<br>    vec4 linSeg = outColor * slope;<br>    vec4 powSeg = pow( max( vec4(0., 0., 0., 0.), scale * outColor + offset), gamma);<br>    vec4 res = isAboveBreak * powSeg + ( vec4(1., 1., 1., 1.) - isAboveBreak ) * linSeg;<br>    outColor.rgb = vec3(res.x, res.y, res.z);<br>    outColor.a = res.w;<br>  }<br>  <br>  // Add Matrix processing<br>  <br>  {<br>    vec4 res = vec4(outColor.rgb.r, outColor.rgb.g, outColor.rgb.b, outColor.a);<br>    vec4 tmp = res;<br>    res = mat4(1.224940176280555, -0.042056954709687663, -0.019637554590334446, 0., -0.22494017628056295, 1.0420569547096903, -0.078636045550631944, 0., -0., 0., 1.0982736001409683, 0., 0., 0., 0., 1.) * tmp;<br>    outColor.rgb = vec3(res.x, res.y, res.z);<br>    outColor.a = res.w;<br>  }<br><br>  return outColor;<br>}<br></code>|\n",
       "| sRGB - Texture | lin_rec709 | <code><br>// Declaration of the OCIO shader function<br><br>vec4 OCIOMain(vec4 inPixel)<br>{<br>  vec4 outColor = inPixel;<br>  <br>  // Add Gamma 'monCurveFwd' processing<br>  <br>  {<br>    vec4 breakPnt = vec4(0.0392857157, 0.0392857157, 0.0392857157, 1.);<br>    vec4 slope = vec4(0.077380158, 0.077380158, 0.077380158, 1.);<br>    vec4 scale = vec4(0.947867274, 0.947867274, 0.947867274, 0.999998987);<br>    vec4 offset = vec4(0.0521326996, 0.0521326996, 0.0521326996, 9.99998974e-07);<br>    vec4 gamma = vec4(2.4000001, 2.4000001, 2.4000001, 1.00000095);<br>    vec4 isAboveBreak = vec4(greaterThan( outColor, breakPnt));<br>    vec4 linSeg = outColor * slope;<br>    vec4 powSeg = pow( max( vec4(0., 0., 0., 0.), scale * outColor + offset), gamma);<br>    vec4 res = isAboveBreak * powSeg + ( vec4(1., 1., 1., 1.) - isAboveBreak ) * linSeg;<br>    outColor.rgb = vec3(res.x, res.y, res.z);<br>    outColor.a = res.w;<br>  }<br><br>  return outColor;<br>}<br></code>|\n",
       "| Raw | lin_rec709 | <code><br>// Declaration of the OCIO shader function<br><br>vec4 OCIOMain(vec4 inPixel)<br>{<br>  vec4 outColor = inPixel;<br><br>  return outColor;<br>}<br></code>|\n",
       "| ADX10 | lin_rec709 | <code><br>// Declaration of all variables<br><br>uniform sampler2D ocio_lut1d_0Sampler;<br><br>// Declaration of all helper methods<br><br>vec2 ocio_lut1d_0_computePos(float f)<br>{<br>  float dep;<br>  float abs_f = abs(f);<br>  if (abs_f > 6.10351562e-05)<br>  {<br>    vec3 fComp = vec3(15., 15., 15.);<br>    float absarr = min( abs_f, 65504.);<br>    fComp.x = floor( log2( absarr ) );<br>    float lower = pow( 2.0, fComp.x );<br>    fComp.y = ( absarr - lower ) / lower;<br>    vec3 scale = vec3(1024., 1024., 1024.);<br>    dep = dot( fComp, scale );<br>  }<br>  else<br>  {<br>    dep = abs_f * 1023.0 / 6.09755516e-05;<br>  }<br>  dep += step(f, 0.0) * 32768.0;<br>  vec2 retVal;<br>  retVal.y = floor(dep / 4095.);<br>  retVal.x = dep - retVal.y * 4095.;<br>  retVal.x = (retVal.x + 0.5) / 4096.;<br>  retVal.y = (retVal.y + 0.5) / 17.;<br>  return retVal;<br>}<br><br>// Declaration of the OCIO shader function<br><br>vec4 OCIOMain(vec4 inPixel)<br>{<br>  vec4 outColor = inPixel;<br>  <br>  // Add Matrix processing<br>  <br>  {<br>    vec4 res = vec4(outColor.rgb.r, outColor.rgb.g, outColor.rgb.b, outColor.a);<br>    vec4 tmp = res;<br>    res = mat4(1.5462235799999999, 0.12073445999999999, 0.33010163999999997, 0., 0.45415061999999995, 1.9831468799999998, 0.15152675999999998, 0., 0.045625799999999994, -0.057881339999999996, 1.5643715999999999, 0., 0., 0., 0., 1.) * tmp;<br>    res = vec4(-0.189999998, -0.189999998, -0.189999998, 0.) + res;<br>    outColor.rgb = vec3(res.x, res.y, res.z);<br>    outColor.a = res.w;<br>  }<br>  <br>  // Add LUT 1D processing for ocio_lut1d_0<br>  <br>  {<br>    outColor.r = texture(ocio_lut1d_0Sampler, ocio_lut1d_0_computePos(outColor.r)).r;<br>    outColor.g = texture(ocio_lut1d_0Sampler, ocio_lut1d_0_computePos(outColor.g)).r;<br>    outColor.b = texture(ocio_lut1d_0Sampler, ocio_lut1d_0_computePos(outColor.b)).r;<br>  }<br>  <br>  // Add Log 'Anti-Log' processing<br>  <br>  {<br>    outColor.rgb = pow( vec3(10., 10., 10.), outColor.rgb);<br>  }<br>  <br>  // Add Matrix processing<br>  <br>  {<br>    vec4 res = vec4(outColor.rgb.r, outColor.rgb.g, outColor.rgb.b, outColor.a);<br>    vec4 tmp = res;<br>    res = mat4(1.6820732265392047, -0.037560306982519796, -0.012683034306924423, 0., -0.58002116166042406, 1.0061809359326013, -0.022886076957909493, 0., -0.10204818932679965, 0.031380333441656763, 1.0355574277308224, 0., 0., 0., 0., 1.) * tmp;<br>    outColor.rgb = vec3(res.x, res.y, res.z);<br>    outColor.a = res.w;<br>  }<br><br>  return outColor;<br>}<br></code>|\n",
       "| ADX16 | lin_rec709 | <code><br>// Declaration of all variables<br><br>uniform sampler2D ocio_lut1d_0Sampler;<br><br>// Declaration of all helper methods<br><br>vec2 ocio_lut1d_0_computePos(float f)<br>{<br>  float dep;<br>  float abs_f = abs(f);<br>  if (abs_f > 6.10351562e-05)<br>  {<br>    vec3 fComp = vec3(15., 15., 15.);<br>    float absarr = min( abs_f, 65504.);<br>    fComp.x = floor( log2( absarr ) );<br>    float lower = pow( 2.0, fComp.x );<br>    fComp.y = ( absarr - lower ) / lower;<br>    vec3 scale = vec3(1024., 1024., 1024.);<br>    dep = dot( fComp, scale );<br>  }<br>  else<br>  {<br>    dep = abs_f * 1023.0 / 6.09755516e-05;<br>  }<br>  dep += step(f, 0.0) * 32768.0;<br>  vec2 retVal;<br>  retVal.y = floor(dep / 4095.);<br>  retVal.x = dep - retVal.y * 4095.;<br>  retVal.x = (retVal.x + 0.5) / 4096.;<br>  retVal.y = (retVal.y + 0.5) / 17.;<br>  return retVal;<br>}<br><br>// Declaration of the OCIO shader function<br><br>vec4 OCIOMain(vec4 inPixel)<br>{<br>  vec4 outColor = inPixel;<br>  <br>  // Add Matrix processing<br>  <br>  {<br>    vec4 res = vec4(outColor.rgb.r, outColor.rgb.g, outColor.rgb.b, outColor.a);<br>    vec4 tmp = res;<br>    res = mat4(6.19084569375, 0.48340254374999997, 1.3216771125, 0., 1.8183504937499999, 7.9402206, 0.60669026250000002, 0., 0.18267881249999998, -0.23174814374999997, 6.263507624999999, 0., 0., 0., 0., 1.) * tmp;<br>    res = vec4(-0.189999998, -0.189999998, -0.189999998, 0.) + res;<br>    outColor.rgb = vec3(res.x, res.y, res.z);<br>    outColor.a = res.w;<br>  }<br>  <br>  // Add LUT 1D processing for ocio_lut1d_0<br>  <br>  {<br>    outColor.r = texture(ocio_lut1d_0Sampler, ocio_lut1d_0_computePos(outColor.r)).r;<br>    outColor.g = texture(ocio_lut1d_0Sampler, ocio_lut1d_0_computePos(outColor.g)).r;<br>    outColor.b = texture(ocio_lut1d_0Sampler, ocio_lut1d_0_computePos(outColor.b)).r;<br>  }<br>  <br>  // Add Log 'Anti-Log' processing<br>  <br>  {<br>    outColor.rgb = pow( vec3(10., 10., 10.), outColor.rgb);<br>  }<br>  <br>  // Add Matrix processing<br>  <br>  {<br>    vec4 res = vec4(outColor.rgb.r, outColor.rgb.g, outColor.rgb.b, outColor.a);<br>    vec4 tmp = res;<br>    res = mat4(1.6820732265392047, -0.037560306982519796, -0.012683034306924423, 0., -0.58002116166042406, 1.0061809359326013, -0.022886076957909493, 0., -0.10204818932679965, 0.031380333441656763, 1.0355574277308224, 0., 0., 0., 0., 1.) * tmp;<br>    outColor.rgb = vec3(res.x, res.y, res.z);<br>    outColor.a = res.w;<br>  }<br><br>  return outColor;<br>}<br></code>|\n",
       "| Linear ARRI Wide Gamut 3 | lin_rec709 | <code><br>// Declaration of the OCIO shader function<br><br>vec4 OCIOMain(vec4 inPixel)<br>{<br>  vec4 outColor = inPixel;<br>  <br>  // Add Matrix processing<br>  <br>  {<br>    vec4 res = vec4(outColor.rgb.r, outColor.rgb.g, outColor.rgb.b, outColor.a);<br>    vec4 tmp = res;<br>    res = mat4(1.6175960353244454, -0.071010304591282061, -0.021123885575728883, 0., -0.53423642434848773, 1.3374356321770418, -0.23237438347978712, 0., -0.083359610975958676, -0.26642532758575721, 1.253498269055507, 0., 0., 0., 0., 1.) * tmp;<br>    outColor.rgb = vec3(res.x, res.y, res.z);<br>    outColor.a = res.w;<br>  }<br><br>  return outColor;<br>}<br></code>|\n",
       "| ARRI LogC3 (EI800) | lin_rec709 | <code><br>// Declaration of the OCIO shader function<br><br>vec4 OCIOMain(vec4 inPixel)<br>{<br>  vec4 outColor = inPixel;<br>  <br>  // Add Log 'Camera Log to Lin' processing<br>  <br>  {<br>    vec3 log_break = vec3(0.149658144, 0.149658144, 0.149658144);<br>    vec3 linear_segment_offset = vec3(0.0928093642, 0.0928093642, 0.0928093642);<br>    vec3 linear_segment_slopeinv = vec3(0.186301097, 0.186301097, 0.186301097);<br>    vec3 lin_slopeinv = vec3(0.180000007, 0.180000007, 0.180000007);<br>    vec3 lin_offset = vec3(0.052272275025168798, 0.052272275025168798, 0.052272275025168798);<br>    vec3 log_slopeinv = vec3(4.04547691, 4.04547691, 4.04547691);<br>    vec3 log_base = vec3(10., 10., 10.);<br>    vec3 log_offset = vec3(0.38553699869244301, 0.38553699869244301, 0.38553699869244301);<br>    vec3 isAboveBreak = vec3(greaterThan( outColor.rgb, log_break));<br>    vec3 linSeg = ( outColor.rgb - linear_segment_offset ) * linear_segment_slopeinv;<br>    vec3 logSeg = (outColor.rgb - log_offset) * log_slopeinv;<br>    logSeg = pow(log_base, logSeg);<br>    logSeg = lin_slopeinv * (logSeg - lin_offset);<br>    outColor.rgb = isAboveBreak * logSeg + ( vec3(1., 1., 1.) - isAboveBreak ) * linSeg;<br>  }<br>  <br>  // Add Matrix processing<br>  <br>  {<br>    vec4 res = vec4(outColor.rgb.r, outColor.rgb.g, outColor.rgb.b, outColor.a);<br>    vec4 tmp = res;<br>    res = mat4(1.6175960353244454, -0.071010304591282061, -0.021123885575728883, 0., -0.53423642434848773, 1.3374356321770418, -0.23237438347978712, 0., -0.083359610975958676, -0.26642532758575721, 1.253498269055507, 0., 0., 0., 0., 1.) * tmp;<br>    outColor.rgb = vec3(res.x, res.y, res.z);<br>    outColor.a = res.w;<br>  }<br><br>  return outColor;<br>}<br></code>|\n",
       "| Linear ARRI Wide Gamut 4 | lin_rec709 | <code><br>// Declaration of the OCIO shader function<br><br>vec4 OCIOMain(vec4 inPixel)<br>{<br>  vec4 outColor = inPixel;<br>  <br>  // Add Matrix processing<br>  <br>  {<br>    vec4 res = vec4(outColor.rgb.r, outColor.rgb.g, outColor.rgb.b, outColor.a);<br>    vec4 tmp = res;<br>    res = mat4(1.8929404968219639, -0.20644836083723977, -0.012258112702638239, 0., -0.77800083137239329, 1.3430260992709093, -0.15732590776965169, 0., -0.11493966544957079, -0.13657773843366997, 1.1695840204722865, 0., 0., 0., 0., 1.) * tmp;<br>    outColor.rgb = vec3(res.x, res.y, res.z);<br>    outColor.a = res.w;<br>  }<br><br>  return outColor;<br>}<br></code>|\n",
       "| ARRI LogC4 | lin_rec709 | <code><br>// Declaration of the OCIO shader function<br><br>vec4 OCIOMain(vec4 inPixel)<br>{<br>  vec4 outColor = inPixel;<br>  <br>  // Add Log 'Camera Log to Lin' processing<br>  <br>  {<br>    vec3 log_break = vec3(0., 0., 0.);<br>    vec3 linear_segment_offset = vec3(0.158956334, 0.158956334, 0.158956334);<br>    vec3 linear_segment_slopeinv = vec3(0.113597214, 0.113597214, 0.113597214);<br>    vec3 lin_slopeinv = vec3(0.000448063511, 0.000448063511, 0.000448063511);<br>    vec3 lin_offset = vec3(64., 64., 64.);<br>    vec3 log_slopeinv = vec3(15.4331894, 15.4331894, 15.4331894);<br>    vec3 log_base = vec3(2., 2., 2.);<br>    vec3 log_offset = vec3(-0.29590839268258601, -0.29590839268258601, -0.29590839268258601);<br>    vec3 isAboveBreak = vec3(greaterThan( outColor.rgb, log_break));<br>    vec3 linSeg = ( outColor.rgb - linear_segment_offset ) * linear_segment_slopeinv;<br>    vec3 logSeg = (outColor.rgb - log_offset) * log_slopeinv;<br>    logSeg = pow(log_base, logSeg);<br>    logSeg = lin_slopeinv * (logSeg - lin_offset);<br>    outColor.rgb = isAboveBreak * logSeg + ( vec3(1., 1., 1.) - isAboveBreak ) * linSeg;<br>  }<br>  <br>  // Add Matrix processing<br>  <br>  {<br>    vec4 res = vec4(outColor.rgb.r, outColor.rgb.g, outColor.rgb.b, outColor.a);<br>    vec4 tmp = res;<br>    res = mat4(1.8929404968219639, -0.20644836083723977, -0.012258112702638239, 0., -0.77800083137239329, 1.3430260992709093, -0.15732590776965169, 0., -0.11493966544957079, -0.13657773843366997, 1.1695840204722865, 0., 0., 0., 0., 1.) * tmp;<br>    outColor.rgb = vec3(res.x, res.y, res.z);<br>    outColor.a = res.w;<br>  }<br><br>  return outColor;<br>}<br></code>|\n",
       "| BMDFilm WideGamut Gen5 | lin_rec709 | <code><br>// Declaration of the OCIO shader function<br><br>vec4 OCIOMain(vec4 inPixel)<br>{<br>  vec4 outColor = inPixel;<br>  <br>  // Add Log 'Camera Log to Lin' processing<br>  <br>  {<br>    vec3 log_break = vec3(0.133883744, 0.133883744, 0.133883744);<br>    vec3 linear_segment_offset = vec3(0.0924657136, 0.0924657136, 0.0924657136);<br>    vec3 linear_segment_slopeinv = vec3(0.120720379, 0.120720379, 0.120720379);<br>    vec3 lin_slopeinv = vec3(1., 1., 1.);<br>    vec3 lin_offset = vec3(0.0054940724322578103, 0.0054940724322578103, 0.0054940724322578103);<br>    vec3 log_slopeinv = vec3(11.5036726, 11.5036726, 11.5036726);<br>    vec3 log_base = vec3(2.71828182845905, 2.71828182845905, 2.71828182845905);<br>    vec3 log_offset = vec3(0.53001333922919402, 0.53001333922919402, 0.53001333922919402);<br>    vec3 isAboveBreak = vec3(greaterThan( outColor.rgb, log_break));<br>    vec3 linSeg = ( outColor.rgb - linear_segment_offset ) * linear_segment_slopeinv;<br>    vec3 logSeg = (outColor.rgb - log_offset) * log_slopeinv;<br>    logSeg = pow(log_base, logSeg);<br>    logSeg = lin_slopeinv * (logSeg - lin_offset);<br>    outColor.rgb = isAboveBreak * logSeg + ( vec3(1., 1., 1.) - isAboveBreak ) * linSeg;<br>  }<br>  <br>  // Add Matrix processing<br>  <br>  {<br>    vec4 res = vec4(outColor.rgb.r, outColor.rgb.g, outColor.rgb.b, outColor.a);<br>    vec4 tmp = res;<br>    res = mat4(1.5685053307142094, -0.086765930966416174, -0.05212011917108085, 0., -0.51955620578769812, 1.3477854013561954, -0.25469373659499694, 0., -0.048949124926515208, -0.26101947038977646, 1.3068138557660767, 0., 0., 0., 0., 1.) * tmp;<br>    outColor.rgb = vec3(res.x, res.y, res.z);<br>    outColor.a = res.w;<br>  }<br><br>  return outColor;<br>}<br></code>|\n",
       "| DaVinci Intermediate WideGamut | lin_rec709 | <code><br>// Declaration of the OCIO shader function<br><br>vec4 OCIOMain(vec4 inPixel)<br>{<br>  vec4 outColor = inPixel;<br>  <br>  // Add Log 'Camera Log to Lin' processing<br>  <br>  {<br>    vec3 log_break = vec3(0.0274066925, 0.0274066925, 0.0274066925);<br>    vec3 linear_segment_offset = vec3(-7.4505806e-09, -7.4505806e-09, -7.4505806e-09);<br>    vec3 linear_segment_slopeinv = vec3(0.0957462937, 0.0957462937, 0.0957462937);<br>    vec3 lin_slopeinv = vec3(1., 1., 1.);<br>    vec3 lin_offset = vec3(0.0074999999999999997, 0.0074999999999999997, 0.0074999999999999997);<br>    vec3 log_slopeinv = vec3(13.6439648, 13.6439648, 13.6439648);<br>    vec3 log_base = vec3(2., 2., 2.);<br>    vec3 log_offset = vec3(0.51304735999999995, 0.51304735999999995, 0.51304735999999995);<br>    vec3 isAboveBreak = vec3(greaterThan( outColor.rgb, log_break));<br>    vec3 linSeg = ( outColor.rgb - linear_segment_offset ) * linear_segment_slopeinv;<br>    vec3 logSeg = (outColor.rgb - log_offset) * log_slopeinv;<br>    logSeg = pow(log_base, logSeg);<br>    logSeg = lin_slopeinv * (logSeg - lin_offset);<br>    outColor.rgb = isAboveBreak * logSeg + ( vec3(1., 1., 1.) - isAboveBreak ) * linSeg;<br>  }<br>  <br>  // Add Matrix processing<br>  <br>  {<br>    vec4 res = vec4(outColor.rgb.r, outColor.rgb.g, outColor.rgb.b, outColor.a);<br>    vec4 tmp = res;<br>    res = mat4(1.8987312079363696, -0.1694642609483365, -0.12161393715142485, 0., -0.78866341542508211, 1.4922628969176159, -0.32192612718818647, 0., -0.11006779251129151, -0.32279863596927649, 1.4435400643396084, 0., 0., 0., 0., 1.) * tmp;<br>    outColor.rgb = vec3(res.x, res.y, res.z);<br>    outColor.a = res.w;<br>  }<br><br>  return outColor;<br>}<br></code>|\n",
       "| Linear BMD WideGamut Gen5 | lin_rec709 | <code><br>// Declaration of the OCIO shader function<br><br>vec4 OCIOMain(vec4 inPixel)<br>{<br>  vec4 outColor = inPixel;<br>  <br>  // Add Matrix processing<br>  <br>  {<br>    vec4 res = vec4(outColor.rgb.r, outColor.rgb.g, outColor.rgb.b, outColor.a);<br>    vec4 tmp = res;<br>    res = mat4(1.5685053307142094, -0.086765930966416174, -0.05212011917108085, 0., -0.51955620578769812, 1.3477854013561954, -0.25469373659499694, 0., -0.048949124926515208, -0.26101947038977646, 1.3068138557660767, 0., 0., 0., 0., 1.) * tmp;<br>    outColor.rgb = vec3(res.x, res.y, res.z);<br>    outColor.a = res.w;<br>  }<br><br>  return outColor;<br>}<br></code>|\n",
       "| Linear DaVinci WideGamut | lin_rec709 | <code><br>// Declaration of the OCIO shader function<br><br>vec4 OCIOMain(vec4 inPixel)<br>{<br>  vec4 outColor = inPixel;<br>  <br>  // Add Matrix processing<br>  <br>  {<br>    vec4 res = vec4(outColor.rgb.r, outColor.rgb.g, outColor.rgb.b, outColor.a);<br>    vec4 tmp = res;<br>    res = mat4(1.8987312079363696, -0.1694642609483365, -0.12161393715142485, 0., -0.78866341542508211, 1.4922628969176159, -0.32192612718818647, 0., -0.11006779251129151, -0.32279863596927649, 1.4435400643396084, 0., 0., 0., 0., 1.) * tmp;<br>    outColor.rgb = vec3(res.x, res.y, res.z);<br>    outColor.a = res.w;<br>  }<br><br>  return outColor;<br>}<br></code>|\n",
       "| CanonLog2 CinemaGamut D55 | lin_rec709 | <code><br>// Declaration of all variables<br><br>uniform sampler2D ocio_lut1d_0Sampler;<br><br>// Declaration of all helper methods<br><br>vec2 ocio_lut1d_0_computePos(float f)<br>{<br>  float dep = clamp(f, 0.0, 1.0) * 4095.;<br>  vec2 retVal;<br>  retVal.y = floor(dep / 4095.);<br>  retVal.x = dep - retVal.y * 4095.;<br>  retVal.x = (retVal.x + 0.5) / 4096.;<br>  retVal.y = (retVal.y + 0.5) / 2.;<br>  return retVal;<br>}<br><br>// Declaration of the OCIO shader function<br><br>vec4 OCIOMain(vec4 inPixel)<br>{<br>  vec4 outColor = inPixel;<br>  <br>  // Add LUT 1D processing for ocio_lut1d_0<br>  <br>  {<br>    outColor.r = texture(ocio_lut1d_0Sampler, ocio_lut1d_0_computePos(outColor.r)).r;<br>    outColor.g = texture(ocio_lut1d_0Sampler, ocio_lut1d_0_computePos(outColor.g)).r;<br>    outColor.b = texture(ocio_lut1d_0Sampler, ocio_lut1d_0_computePos(outColor.b)).r;<br>  }<br>  <br>  // Add Matrix processing<br>  <br>  {<br>    vec4 res = vec4(outColor.rgb.r, outColor.rgb.g, outColor.rgb.b, outColor.a);<br>    vec4 tmp = res;<br>    res = mat4(1.923707099704667, -0.20504593605401519, -0.023285583594355674, 0., -0.79501788145104413, 1.4993613143502984, -0.42677817014753039, 0., -0.12868921825362739, -0.29431537829627868, 1.4500637537418826, 0., 0., 0., 0., 1.) * tmp;<br>    outColor.rgb = vec3(res.x, res.y, res.z);<br>    outColor.a = res.w;<br>  }<br><br>  return outColor;<br>}<br></code>|\n",
       "| CanonLog3 CinemaGamut D55 | lin_rec709 | <code><br>// Declaration of all variables<br><br>uniform sampler2D ocio_lut1d_0Sampler;<br><br>// Declaration of all helper methods<br><br>vec2 ocio_lut1d_0_computePos(float f)<br>{<br>  float dep = clamp(f, 0.0, 1.0) * 4095.;<br>  vec2 retVal;<br>  retVal.y = floor(dep / 4095.);<br>  retVal.x = dep - retVal.y * 4095.;<br>  retVal.x = (retVal.x + 0.5) / 4096.;<br>  retVal.y = (retVal.y + 0.5) / 2.;<br>  return retVal;<br>}<br><br>// Declaration of the OCIO shader function<br><br>vec4 OCIOMain(vec4 inPixel)<br>{<br>  vec4 outColor = inPixel;<br>  <br>  // Add LUT 1D processing for ocio_lut1d_0<br>  <br>  {<br>    outColor.r = texture(ocio_lut1d_0Sampler, ocio_lut1d_0_computePos(outColor.r)).r;<br>    outColor.g = texture(ocio_lut1d_0Sampler, ocio_lut1d_0_computePos(outColor.g)).r;<br>    outColor.b = texture(ocio_lut1d_0Sampler, ocio_lut1d_0_computePos(outColor.b)).r;<br>  }<br>  <br>  // Add Matrix processing<br>  <br>  {<br>    vec4 res = vec4(outColor.rgb.r, outColor.rgb.g, outColor.rgb.b, outColor.a);<br>    vec4 tmp = res;<br>    res = mat4(1.923707099704667, -0.20504593605401519, -0.023285583594355674, 0., -0.79501788145104413, 1.4993613143502984, -0.42677817014753039, 0., -0.12868921825362739, -0.29431537829627868, 1.4500637537418826, 0., 0., 0., 0., 1.) * tmp;<br>    outColor.rgb = vec3(res.x, res.y, res.z);<br>    outColor.a = res.w;<br>  }<br><br>  return outColor;<br>}<br></code>|\n",
       "| Linear CinemaGamut D55 | lin_rec709 | <code><br>// Declaration of the OCIO shader function<br><br>vec4 OCIOMain(vec4 inPixel)<br>{<br>  vec4 outColor = inPixel;<br>  <br>  // Add Matrix processing<br>  <br>  {<br>    vec4 res = vec4(outColor.rgb.r, outColor.rgb.g, outColor.rgb.b, outColor.a);<br>    vec4 tmp = res;<br>    res = mat4(1.9237070997046672, -0.20504593605401522, -0.023285583594355678, 0., -0.7950178814510509, 1.4993613143503051, -0.42677817014753106, 0., -0.12868921825362856, -0.2943153782962793, 1.4500637537418875, 0., 0., 0., 0., 1.) * tmp;<br>    outColor.rgb = vec3(res.x, res.y, res.z);<br>    outColor.a = res.w;<br>  }<br><br>  return outColor;<br>}<br></code>|\n",
       "| Linear V-Gamut | lin_rec709 | <code><br>// Declaration of the OCIO shader function<br><br>vec4 OCIOMain(vec4 inPixel)<br>{<br>  vec4 outColor = inPixel;<br>  <br>  // Add Matrix processing<br>  <br>  {<br>    vec4 res = vec4(outColor.rgb.r, outColor.rgb.g, outColor.rgb.b, outColor.a);<br>    vec4 tmp = res;<br>    res = mat4(1.8065758837249319, -0.17009034310239998, -0.025205784016640309, 0., -0.69569727408369775, 1.3059552160953665, -0.154468329360574, 0., -0.11087860964123719, -0.13586487299296368, 1.1796741133772104, 0., 0., 0., 0., 1.) * tmp;<br>    outColor.rgb = vec3(res.x, res.y, res.z);<br>    outColor.a = res.w;<br>  }<br><br>  return outColor;<br>}<br></code>|\n",
       "| V-Log V-Gamut | lin_rec709 | <code><br>// Declaration of the OCIO shader function<br><br>vec4 OCIOMain(vec4 inPixel)<br>{<br>  vec4 outColor = inPixel;<br>  <br>  // Add Log 'Camera Log to Lin' processing<br>  <br>  {<br>    vec3 log_break = vec3(0.180999666, 0.180999666, 0.180999666);<br>    vec3 linear_segment_offset = vec3(0.124999568, 0.124999568, 0.124999568);<br>    vec3 linear_segment_slopeinv = vec3(0.17857109, 0.17857109, 0.17857109);<br>    vec3 lin_slopeinv = vec3(1., 1., 1.);<br>    vec3 lin_offset = vec3(0.0087299999999999999, 0.0087299999999999999, 0.0087299999999999999);<br>    vec3 log_slopeinv = vec3(4.1405468, 4.1405468, 4.1405468);<br>    vec3 log_base = vec3(10., 10., 10.);<br>    vec3 log_offset = vec3(0.59820600000000002, 0.59820600000000002, 0.59820600000000002);<br>    vec3 isAboveBreak = vec3(greaterThan( outColor.rgb, log_break));<br>    vec3 linSeg = ( outColor.rgb - linear_segment_offset ) * linear_segment_slopeinv;<br>    vec3 logSeg = (outColor.rgb - log_offset) * log_slopeinv;<br>    logSeg = pow(log_base, logSeg);<br>    logSeg = lin_slopeinv * (logSeg - lin_offset);<br>    outColor.rgb = isAboveBreak * logSeg + ( vec3(1., 1., 1.) - isAboveBreak ) * linSeg;<br>  }<br>  <br>  // Add Matrix processing<br>  <br>  {<br>    vec4 res = vec4(outColor.rgb.r, outColor.rgb.g, outColor.rgb.b, outColor.a);<br>    vec4 tmp = res;<br>    res = mat4(1.8065758837249319, -0.17009034310239998, -0.025205784016640309, 0., -0.69569727408369775, 1.3059552160953665, -0.154468329360574, 0., -0.11087860964123719, -0.13586487299296368, 1.1796741133772104, 0., 0., 0., 0., 1.) * tmp;<br>    outColor.rgb = vec3(res.x, res.y, res.z);<br>    outColor.a = res.w;<br>  }<br><br>  return outColor;<br>}<br></code>|\n",
       "| Linear REDWideGamutRGB | lin_rec709 | <code><br>// Declaration of the OCIO shader function<br><br>vec4 OCIOMain(vec4 inPixel)<br>{<br>  vec4 outColor = inPixel;<br>  <br>  // Add Matrix processing<br>  <br>  {<br>    vec4 res = vec4(outColor.rgb.r, outColor.rgb.g, outColor.rgb.b, outColor.a);<br>    vec4 tmp = res;<br>    res = mat4(1.9819760179564536, -0.17814318205504703, -0.10179596596933896, 0., -0.90043183664045945, 1.5004683579162101, -0.53526345921182183, 0., -0.081544181316000275, -0.32232517586115994, 1.6370594251811619, 0., 0., 0., 0., 1.) * tmp;<br>    outColor.rgb = vec3(res.x, res.y, res.z);<br>    outColor.a = res.w;<br>  }<br><br>  return outColor;<br>}<br></code>|\n",
       "| Log3G10 REDWideGamutRGB | lin_rec709 | <code><br>// Declaration of the OCIO shader function<br><br>vec4 OCIOMain(vec4 inPixel)<br>{<br>  vec4 outColor = inPixel;<br>  <br>  // Add Log 'Camera Log to Lin' processing<br>  <br>  {<br>    vec3 log_break = vec3(0., 0., 0.);<br>    vec3 linear_segment_offset = vec3(0.15192689, 0.15192689, 0.15192689);<br>    vec3 linear_segment_slopeinv = vec3(0.0658211336, 0.0658211336, 0.0658211336);<br>    vec3 lin_slopeinv = vec3(0.00641127024, 0.00641127024, 0.00641127024);<br>    vec3 lin_offset = vec3(2.5597532699999999, 2.5597532699999999, 2.5597532699999999);<br>    vec3 log_slopeinv = vec3(4.45867252, 4.45867252, 4.45867252);<br>    vec3 log_base = vec3(10., 10., 10.);<br>    vec3 log_offset = vec3(0., 0., 0.);<br>    vec3 isAboveBreak = vec3(greaterThan( outColor.rgb, log_break));<br>    vec3 linSeg = ( outColor.rgb - linear_segment_offset ) * linear_segment_slopeinv;<br>    vec3 logSeg = (outColor.rgb - log_offset) * log_slopeinv;<br>    logSeg = pow(log_base, logSeg);<br>    logSeg = lin_slopeinv * (logSeg - lin_offset);<br>    outColor.rgb = isAboveBreak * logSeg + ( vec3(1., 1., 1.) - isAboveBreak ) * linSeg;<br>  }<br>  <br>  // Add Matrix processing<br>  <br>  {<br>    vec4 res = vec4(outColor.rgb.r, outColor.rgb.g, outColor.rgb.b, outColor.a);<br>    vec4 tmp = res;<br>    res = mat4(1.9819760179564536, -0.17814318205504703, -0.10179596596933896, 0., -0.90043183664045945, 1.5004683579162101, -0.53526345921182183, 0., -0.081544181316000275, -0.32232517586115994, 1.6370594251811619, 0., 0., 0., 0., 1.) * tmp;<br>    outColor.rgb = vec3(res.x, res.y, res.z);<br>    outColor.a = res.w;<br>  }<br><br>  return outColor;<br>}<br></code>|\n",
       "| Linear S-Gamut3 | lin_rec709 | <code><br>// Declaration of the OCIO shader function<br><br>vec4 OCIOMain(vec4 inPixel)<br>{<br>  vec4 outColor = inPixel;<br>  <br>  // Add Matrix processing<br>  <br>  {<br>    vec4 res = vec4(outColor.rgb.r, outColor.rgb.g, outColor.rgb.b, outColor.a);<br>    vec4 tmp = res;<br>    res = mat4(1.8778156775191697, -0.17747979963189922, -0.02590143482982572, 0., -0.79127608338063604, 1.353784194250401, -0.15358565720579506, 0., -0.08653959413854162, -0.17630439461849309, 1.1794870920356171, 0., 0., 0., 0., 1.) * tmp;<br>    outColor.rgb = vec3(res.x, res.y, res.z);<br>    outColor.a = res.w;<br>  }<br><br>  return outColor;<br>}<br></code>|\n",
       "| Linear S-Gamut3.Cine | lin_rec709 | <code><br>// Declaration of the OCIO shader function<br><br>vec4 OCIOMain(vec4 inPixel)<br>{<br>  vec4 outColor = inPixel;<br>  <br>  // Add Matrix processing<br>  <br>  {<br>    vec4 res = vec4(outColor.rgb.r, outColor.rgb.g, outColor.rgb.b, outColor.a);<br>    vec4 tmp = res;<br>    res = mat4(1.6268564003175596, -0.17910943044878672, -0.04416647789499864, 0., -0.53698863655119955, 1.4208630414432488, -0.20151920061693746, 0., -0.089867763766365294, -0.24175361099445791, 1.2456856785119332, 0., 0., 0., 0., 1.) * tmp;<br>    outColor.rgb = vec3(res.x, res.y, res.z);<br>    outColor.a = res.w;<br>  }<br><br>  return outColor;<br>}<br></code>|\n",
       "| Linear Venice S-Gamut3 | lin_rec709 | <code><br>// Declaration of the OCIO shader function<br><br>vec4 OCIOMain(vec4 inPixel)<br>{<br>  vec4 outColor = inPixel;<br>  <br>  // Add Matrix processing<br>  <br>  {<br>    vec4 res = vec4(outColor.rgb.r, outColor.rgb.g, outColor.rgb.b, outColor.a);<br>    vec4 tmp = res;<br>    res = mat4(1.9901688195570184, -0.19613579460920139, -0.036624086206908393, 0., -0.95155154150408217, 1.3917665273557032, -0.14443018284830009, 0., -0.038617278052939241, -0.19563073274649856, 1.1810542690551991, 0., 0., 0., 0., 1.) * tmp;<br>    outColor.rgb = vec3(res.x, res.y, res.z);<br>    outColor.a = res.w;<br>  }<br><br>  return outColor;<br>}<br></code>|\n",
       "| Linear Venice S-Gamut3.Cine | lin_rec709 | <code><br>// Declaration of the OCIO shader function<br><br>vec4 OCIOMain(vec4 inPixel)<br>{<br>  vec4 outColor = inPixel;<br>  <br>  // Add Matrix processing<br>  <br>  {<br>    vec4 res = vec4(outColor.rgb.r, outColor.rgb.g, outColor.rgb.b, outColor.a);<br>    vec4 tmp = res;<br>    res = mat4(1.725635767457687, -0.19552629878430919, -0.053585711071423188, 0., -0.6911374056917291, 1.4589135591606734, -0.19353475807298104, 0., -0.03449836176596871, -0.26338726037635629, 1.247120469144404, 0., 0., 0., 0., 1.) * tmp;<br>    outColor.rgb = vec3(res.x, res.y, res.z);<br>    outColor.a = res.w;<br>  }<br><br>  return outColor;<br>}<br></code>|\n",
       "| S-Log3 S-Gamut3 | lin_rec709 | <code><br>// Declaration of the OCIO shader function<br><br>vec4 OCIOMain(vec4 inPixel)<br>{<br>  vec4 outColor = inPixel;<br>  <br>  // Add Log 'Camera Log to Lin' processing<br>  <br>  {<br>    vec3 log_break = vec3(0.167360976, 0.167360976, 0.167360976);<br>    vec3 linear_segment_offset = vec3(0.0928641111, 0.0928641111, 0.0928641111);<br>    vec3 linear_segment_slopeinv = vec3(0.151013061, 0.151013061, 0.151013061);<br>    vec3 lin_slopeinv = vec3(0.189999998, 0.189999998, 0.189999998);<br>    vec3 lin_offset = vec3(0.052631578947368397, 0.052631578947368397, 0.052631578947368397);<br>    vec3 log_slopeinv = vec3(3.91204596, 3.91204596, 3.91204596);<br>    vec3 log_base = vec3(10., 10., 10.);<br>    vec3 log_offset = vec3(0.410557184750733, 0.410557184750733, 0.410557184750733);<br>    vec3 isAboveBreak = vec3(greaterThan( outColor.rgb, log_break));<br>    vec3 linSeg = ( outColor.rgb - linear_segment_offset ) * linear_segment_slopeinv;<br>    vec3 logSeg = (outColor.rgb - log_offset) * log_slopeinv;<br>    logSeg = pow(log_base, logSeg);<br>    logSeg = lin_slopeinv * (logSeg - lin_offset);<br>    outColor.rgb = isAboveBreak * logSeg + ( vec3(1., 1., 1.) - isAboveBreak ) * linSeg;<br>  }<br>  <br>  // Add Matrix processing<br>  <br>  {<br>    vec4 res = vec4(outColor.rgb.r, outColor.rgb.g, outColor.rgb.b, outColor.a);<br>    vec4 tmp = res;<br>    res = mat4(1.8778156775191697, -0.17747979963189922, -0.02590143482982572, 0., -0.79127608338063604, 1.353784194250401, -0.15358565720579506, 0., -0.08653959413854162, -0.17630439461849309, 1.1794870920356171, 0., 0., 0., 0., 1.) * tmp;<br>    outColor.rgb = vec3(res.x, res.y, res.z);<br>    outColor.a = res.w;<br>  }<br><br>  return outColor;<br>}<br></code>|\n",
       "| S-Log3 S-Gamut3.Cine | lin_rec709 | <code><br>// Declaration of the OCIO shader function<br><br>vec4 OCIOMain(vec4 inPixel)<br>{<br>  vec4 outColor = inPixel;<br>  <br>  // Add Log 'Camera Log to Lin' processing<br>  <br>  {<br>    vec3 log_break = vec3(0.167360976, 0.167360976, 0.167360976);<br>    vec3 linear_segment_offset = vec3(0.0928641111, 0.0928641111, 0.0928641111);<br>    vec3 linear_segment_slopeinv = vec3(0.151013061, 0.151013061, 0.151013061);<br>    vec3 lin_slopeinv = vec3(0.189999998, 0.189999998, 0.189999998);<br>    vec3 lin_offset = vec3(0.052631578947368397, 0.052631578947368397, 0.052631578947368397);<br>    vec3 log_slopeinv = vec3(3.91204596, 3.91204596, 3.91204596);<br>    vec3 log_base = vec3(10., 10., 10.);<br>    vec3 log_offset = vec3(0.410557184750733, 0.410557184750733, 0.410557184750733);<br>    vec3 isAboveBreak = vec3(greaterThan( outColor.rgb, log_break));<br>    vec3 linSeg = ( outColor.rgb - linear_segment_offset ) * linear_segment_slopeinv;<br>    vec3 logSeg = (outColor.rgb - log_offset) * log_slopeinv;<br>    logSeg = pow(log_base, logSeg);<br>    logSeg = lin_slopeinv * (logSeg - lin_offset);<br>    outColor.rgb = isAboveBreak * logSeg + ( vec3(1., 1., 1.) - isAboveBreak ) * linSeg;<br>  }<br>  <br>  // Add Matrix processing<br>  <br>  {<br>    vec4 res = vec4(outColor.rgb.r, outColor.rgb.g, outColor.rgb.b, outColor.a);<br>    vec4 tmp = res;<br>    res = mat4(1.6268564003175596, -0.17910943044878672, -0.04416647789499864, 0., -0.53698863655119955, 1.4208630414432488, -0.20151920061693746, 0., -0.089867763766365294, -0.24175361099445791, 1.2456856785119332, 0., 0., 0., 0., 1.) * tmp;<br>    outColor.rgb = vec3(res.x, res.y, res.z);<br>    outColor.a = res.w;<br>  }<br><br>  return outColor;<br>}<br></code>|\n",
       "| S-Log3 Venice S-Gamut3 | lin_rec709 | <code><br>// Declaration of the OCIO shader function<br><br>vec4 OCIOMain(vec4 inPixel)<br>{<br>  vec4 outColor = inPixel;<br>  <br>  // Add Log 'Camera Log to Lin' processing<br>  <br>  {<br>    vec3 log_break = vec3(0.167360976, 0.167360976, 0.167360976);<br>    vec3 linear_segment_offset = vec3(0.0928641111, 0.0928641111, 0.0928641111);<br>    vec3 linear_segment_slopeinv = vec3(0.151013061, 0.151013061, 0.151013061);<br>    vec3 lin_slopeinv = vec3(0.189999998, 0.189999998, 0.189999998);<br>    vec3 lin_offset = vec3(0.052631578947368397, 0.052631578947368397, 0.052631578947368397);<br>    vec3 log_slopeinv = vec3(3.91204596, 3.91204596, 3.91204596);<br>    vec3 log_base = vec3(10., 10., 10.);<br>    vec3 log_offset = vec3(0.410557184750733, 0.410557184750733, 0.410557184750733);<br>    vec3 isAboveBreak = vec3(greaterThan( outColor.rgb, log_break));<br>    vec3 linSeg = ( outColor.rgb - linear_segment_offset ) * linear_segment_slopeinv;<br>    vec3 logSeg = (outColor.rgb - log_offset) * log_slopeinv;<br>    logSeg = pow(log_base, logSeg);<br>    logSeg = lin_slopeinv * (logSeg - lin_offset);<br>    outColor.rgb = isAboveBreak * logSeg + ( vec3(1., 1., 1.) - isAboveBreak ) * linSeg;<br>  }<br>  <br>  // Add Matrix processing<br>  <br>  {<br>    vec4 res = vec4(outColor.rgb.r, outColor.rgb.g, outColor.rgb.b, outColor.a);<br>    vec4 tmp = res;<br>    res = mat4(1.9901688195570184, -0.19613579460920139, -0.036624086206908393, 0., -0.9515515415040825, 1.3917665273557032, -0.14443018284830009, 0., -0.038617278052943071, -0.19563073274649953, 1.1810542690552106, 0., 0., 0., 0., 1.) * tmp;<br>    outColor.rgb = vec3(res.x, res.y, res.z);<br>    outColor.a = res.w;<br>  }<br><br>  return outColor;<br>}<br></code>|\n",
       "| S-Log3 Venice S-Gamut3.Cine | lin_rec709 | <code><br>// Declaration of the OCIO shader function<br><br>vec4 OCIOMain(vec4 inPixel)<br>{<br>  vec4 outColor = inPixel;<br>  <br>  // Add Log 'Camera Log to Lin' processing<br>  <br>  {<br>    vec3 log_break = vec3(0.167360976, 0.167360976, 0.167360976);<br>    vec3 linear_segment_offset = vec3(0.0928641111, 0.0928641111, 0.0928641111);<br>    vec3 linear_segment_slopeinv = vec3(0.151013061, 0.151013061, 0.151013061);<br>    vec3 lin_slopeinv = vec3(0.189999998, 0.189999998, 0.189999998);<br>    vec3 lin_offset = vec3(0.052631578947368397, 0.052631578947368397, 0.052631578947368397);<br>    vec3 log_slopeinv = vec3(3.91204596, 3.91204596, 3.91204596);<br>    vec3 log_base = vec3(10., 10., 10.);<br>    vec3 log_offset = vec3(0.410557184750733, 0.410557184750733, 0.410557184750733);<br>    vec3 isAboveBreak = vec3(greaterThan( outColor.rgb, log_break));<br>    vec3 linSeg = ( outColor.rgb - linear_segment_offset ) * linear_segment_slopeinv;<br>    vec3 logSeg = (outColor.rgb - log_offset) * log_slopeinv;<br>    logSeg = pow(log_base, logSeg);<br>    logSeg = lin_slopeinv * (logSeg - lin_offset);<br>    outColor.rgb = isAboveBreak * logSeg + ( vec3(1., 1., 1.) - isAboveBreak ) * linSeg;<br>  }<br>  <br>  // Add Matrix processing<br>  <br>  {<br>    vec4 res = vec4(outColor.rgb.r, outColor.rgb.g, outColor.rgb.b, outColor.a);<br>    vec4 tmp = res;<br>    res = mat4(1.725635767457687, -0.19552629878430919, -0.053585711071423188, 0., -0.6911374056917291, 1.4589135591606734, -0.19353475807298104, 0., -0.03449836176596871, -0.26338726037635629, 1.247120469144404, 0., 0., 0., 0., 1.) * tmp;<br>    outColor.rgb = vec3(res.x, res.y, res.z);<br>    outColor.a = res.w;<br>  }<br><br>  return outColor;<br>}<br></code>|\n",
       "| Camera Rec.709 | lin_rec709 | <code><br>// Declaration of the OCIO shader function<br><br>vec4 OCIOMain(vec4 inPixel)<br>{<br>  vec4 outColor = inPixel;<br>  <br>  // Add Gamma 'monCurveFwd' processing<br>  <br>  {<br>    vec4 breakPnt = vec4(0.0810000002, 0.0810000002, 0.0810000002, 1.);<br>    vec4 slope = vec4(0.221543506, 0.221543506, 0.221543506, 1.);<br>    vec4 scale = vec4(0.909918129, 0.909918129, 0.909918129, 0.999998987);<br>    vec4 offset = vec4(0.0900818929, 0.0900818929, 0.0900818929, 9.99998974e-07);<br>    vec4 gamma = vec4(2.22222233, 2.22222233, 2.22222233, 1.00000095);<br>    vec4 isAboveBreak = vec4(greaterThan( outColor, breakPnt));<br>    vec4 linSeg = outColor * slope;<br>    vec4 powSeg = pow( max( vec4(0., 0., 0., 0.), scale * outColor + offset), gamma);<br>    vec4 res = isAboveBreak * powSeg + ( vec4(1., 1., 1., 1.) - isAboveBreak ) * linSeg;<br>    outColor.rgb = vec3(res.x, res.y, res.z);<br>    outColor.a = res.w;<br>  }<br><br>  return outColor;<br>}<br></code>|\n",
       "</details>"
      ]
     },
     "metadata": {},
     "output_type": "display_data"
    }
   ],
   "source": [
    "def generateShaderCode(config, sourceColorSpace, destColorSpace, language):\n",
    "    cshaderCodee = ''\n",
    "    if not config:\n",
    "        return shaderCode\n",
    "\n",
    "    # Create a processor for a pair of colorspaces (namely to go to linear)\n",
    "    processor = None\n",
    "    try:\n",
    "        processor = config.getProcessor(sourceColorSpace, destColorSpace)\n",
    "    except:\n",
    "        return shaderCode\n",
    "\n",
    "    gpuProcessor = None\n",
    "    if processor:\n",
    "        gpuProcessor = processor.getDefaultGPUProcessor()\n",
    "    if gpuProcessor:\n",
    "        shaderDesc = OCIO.GpuShaderDesc.CreateShaderDesc()\n",
    "        if shaderDesc:\n",
    "            shaderDesc.setLanguage(language)\n",
    "            gpuProcessor.extractGpuShaderInfo(shaderDesc)\n",
    "            shaderCode = shaderDesc.getShaderText()\n",
    "    \n",
    "    return shaderCode\n",
    "\n",
    "# Use GLSL as the shader language to produce, and linear as the target color space\n",
    "language = OCIO.GpuLanguage.GPU_LANGUAGE_GLSL_4_0\n",
    "targetColorSpace = 'lin_rec709'\n",
    "\n",
    "# Go through all the config and create code for each transform\n",
    "\n",
    "title = '| Source | Target | Code |\\n'\n",
    "title = title + '| --- | --- | --- |\\n'\n",
    "\n",
    "rows = ''\n",
    "testedSources = set()\n",
    "for c in configs:\n",
    "    config = OCIO.Config.CreateFromBuiltinConfig(c)\n",
    "    colorSpaces = config.getColorSpaces()\n",
    "    for colorSpace in colorSpaces:\n",
    "        colorSpaceName = colorSpace.getName()\n",
    "        # Skip if the colorspace is already tested\n",
    "        if colorSpaceName in testedSources:\n",
    "            continue\n",
    "        testedSources.add(colorSpaceName)\n",
    "\n",
    "        code = generateShaderCode(config, colorSpace.getName(), targetColorSpace, language)\n",
    "        code = code.replace('\\n', '<br>')\n",
    "        code = '<code>' + code + '</code>'\n",
    "        rows = rows + '| ' + colorSpace.getName() + ' | ' + targetColorSpace + ' | ' + code + '|\\n'\n",
    "\n",
    "md = '<details><summary>Transform Code for GLSL</summary>\\n\\n' + title + rows + '</details>'\n",
    "display_markdown(md, raw=True)"
   ]
  },
  {
   "cell_type": "markdown",
   "metadata": {},
   "source": [
    "### Integrating OCIO with MaterialX\n",
    "\n",
    "We will pick an example transform to go over details on mapping from OCIO to MaterialX.\n",
    "\n",
    "The first thing of note is OCIO function signatures\n",
    "\n",
    "* Currently all signatures transform 4 channel color inputs while MaterialX supports both 3 and 4 channel variants. This can be easily handled by adding pre and post conversion nodes, or by creating variant function signatures. The former is more robust and more in line with the proposed direction to have all OCIO transforms to be represented as graphs.\n",
    "\n",
    "* The signature name is not unique. This can be handled as OCIO provides mechanism to override the function names using `setFunctionName` and `setResourcePrefix`.\n",
    "\n",
    "Following the current MaterialX convention we use the signature notation:\n",
    "`mx_<sourceName>_to_<targetname>_<type>` where `type` is either `color3` or `color4` for 3 or 4 channel variants."
   ]
  },
  {
   "cell_type": "markdown",
   "metadata": {},
   "source": [
    "We add in two new utilities:\n",
    "\n",
    "1. `createTransformName` which will generate the unique function name\n",
    "2. `setShaderDescriptionParameters` which overrides the function name but also adds a prefix to uniquely identify dependent resources.\n",
    "\n",
    "These are then used in a new code generation variation called `generateShaderCode2()` which has additionally been modified to return the number of dependent texture resources, which can be queried from the shader \n",
    "descriptor via the `GpuShaderDesc.getTextures()` iterator."
   ]
  },
  {
   "cell_type": "code",
   "execution_count": 68,
   "metadata": {},
   "outputs": [],
   "source": [
    "def createTransformName(sourceSpace, targetSpace, typeName): \n",
    "    transformFunctionName = \"mx_\" + mx.createValidName(sourceSpace) + \"_to_\" + targetSpace + \"_\" + typeName \n",
    "    return transformFunctionName\n",
    "\n",
    "def setShaderDescriptionParameters(shaderDesc, sourceSpace, targetSpace, typeName):\n",
    "    transformFunctionName = createTransformName(sourceSpace, targetSpace, typeName)\n",
    "    shaderDesc.setFunctionName(transformFunctionName)\n",
    "    shaderDesc.setResourcePrefix(transformFunctionName)\n",
    "\n",
    "def generateShaderCode2(config, sourceColorSpace, destColorSpace, language):\n",
    "    shaderCode = ''\n",
    "    textureCount = 0\n",
    "    if not config:\n",
    "        return shaderCode, textureCount\n",
    "\n",
    "    # Create a processor for a pair of colorspaces (namely to go to linear)\n",
    "    processor = None\n",
    "    try:\n",
    "        processor = config.getProcessor(sourceColorSpace, destColorSpace)\n",
    "    except:\n",
    "        print('Failed to generated code for transform: %s -> %s' % (sourceColorSpace, destColorSpace))\n",
    "        return shaderCode, textureCount\n",
    "\n",
    "    if processor:\n",
    "        gpuProcessor = processor.getDefaultGPUProcessor()\n",
    "        if gpuProcessor:\n",
    "            shaderDesc = OCIO.GpuShaderDesc.CreateShaderDesc()\n",
    "            if shaderDesc:\n",
    "                try:\n",
    "                    shaderDesc.setLanguage(language)\n",
    "                    if shaderDesc.getLanguage() == language:\n",
    "                        setShaderDescriptionParameters(shaderDesc, sourceColorSpace, destColorSpace, \"color4\")\n",
    "                        gpuProcessor.extractGpuShaderInfo(shaderDesc)                                                                 \n",
    "                        shaderCode = shaderDesc.getShaderText()\n",
    "                        for t in shaderDesc.getTextures():\n",
    "                            textureCount += 1\n",
    "                except OCIO.Exception as err:\n",
    "                    print(err)\n",
    "    \n",
    "    return shaderCode, textureCount\n"
   ]
  },
  {
   "cell_type": "markdown",
   "metadata": {},
   "source": [
    "### OCIO Resource Dependencies\n",
    "\n",
    "Resource dependencies is a second major issue to examine.\n",
    "\n",
    "In the example below we convert two different source color spaces.  \n",
    "\n",
    "One is \"self-contained\" in that there are no support functions being produced (`ACES2065-1`),\n",
    "while the second adds additional function and resources. Note that we maintain uniqueness of these additions by using `setFunctionName` and `setResourcePrefix` respectively.\n",
    "\n",
    "#### Example 1: Self-contained"
   ]
  },
  {
   "cell_type": "code",
   "execution_count": 69,
   "metadata": {},
   "outputs": [
    {
     "data": {
      "text/markdown": [
       "```c++\n",
       "\n",
       "// ACES2065-1 to lin_rec709 function. Texture count: 0\n",
       "\n",
       "vec4 mx_ACES2065_1_to_lin_rec709_color4(vec4 inPixel)\n",
       "{\n",
       "  vec4 outColor = inPixel;\n",
       "  \n",
       "  // Add Matrix processing\n",
       "  \n",
       "  {\n",
       "    vec4 res = vec4(outColor.rgb.r, outColor.rgb.g, outColor.rgb.b, outColor.a);\n",
       "    vec4 tmp = res;\n",
       "    res = mat4(2.5216861867438798, -0.27647991422992202, -0.015378064966034201, 0., -1.1341309882397199, 1.37271908766826, -0.152975335867399, 0., -0.38755519850416398, -0.096239173438334005, 1.16835340083343, 0., 0., 0., 0., 1.) * tmp;\n",
       "    outColor.rgb = vec3(res.x, res.y, res.z);\n",
       "    outColor.a = res.w;\n",
       "  }\n",
       "\n",
       "  return outColor;\n",
       "}\n",
       "\n",
       "```"
      ]
     },
     "metadata": {},
     "output_type": "display_data"
    }
   ],
   "source": [
    "\n",
    "sourceColorSpace = 'ACES2065-1' # \"acescg\"\n",
    "textureCount = 0\n",
    "code = ''\n",
    "code, textureCount = generateShaderCode2(builtinCfgC, sourceColorSpace, targetColorSpace, language)\n",
    "if code:\n",
    "    code = code.replace(\"// Declaration of the OCIO shader function\\n\", \n",
    "                        \"// \" + sourceColorSpace + \" to \" + targetColorSpace + \" function. Texture count: %d\\n\" % textureCount)\n",
    "    code = '```c++\\n' + code + '\\n```'\n",
    "    display_markdown(code, raw=True)    "
   ]
  },
  {
   "cell_type": "markdown",
   "metadata": {},
   "source": [
    "#### Example 2: Secondary Dependencies "
   ]
  },
  {
   "cell_type": "code",
   "execution_count": 70,
   "metadata": {},
   "outputs": [
    {
     "data": {
      "text/markdown": [
       "<details><summary>Secondary Dependency Sample Code</summary>\n",
       "\n",
       "```c++\n",
       "\n",
       "// Declaration of all variables\n",
       "\n",
       "uniform sampler2D mx_ACEScc_to_lin_rec709_color4_lut1d_0Sampler;\n",
       "\n",
       "// Declaration of all helper methods\n",
       "\n",
       "vec2 mx_ACEScc_to_lin_rec709_color4_lut1d_0_computePos(float f)\n",
       "{\n",
       "  float dep = clamp(f, 0.0, 1.0) * 4095.;\n",
       "  vec2 retVal;\n",
       "  retVal.y = floor(dep / 4095.);\n",
       "  retVal.x = dep - retVal.y * 4095.;\n",
       "  retVal.x = (retVal.x + 0.5) / 4096.;\n",
       "  retVal.y = (retVal.y + 0.5) / 2.;\n",
       "  return retVal;\n",
       "}\n",
       "\n",
       "// ACEScc to lin_rec709 function. Texture count: 1\n",
       "\n",
       "vec4 mx_ACEScc_to_lin_rec709_color4(vec4 inPixel)\n",
       "{\n",
       "  vec4 outColor = inPixel;\n",
       "  \n",
       "  // Add Range processing\n",
       "  \n",
       "  {\n",
       "    outColor.rgb = outColor.rgb * vec3(0.53763440860215062, 0.53763440860215062, 0.53763440860215062) + vec3(0.19354838709677422, 0.19354838709677422, 0.19354838709677422);\n",
       "    outColor.rgb = max(vec3(0., 0., 0.), outColor.rgb);\n",
       "    outColor.rgb = min(vec3(1., 1., 1.), outColor.rgb);\n",
       "  }\n",
       "  \n",
       "  // Add LUT 1D processing for mx_ACEScc_to_lin_rec709_color4_lut1d_0\n",
       "  \n",
       "  {\n",
       "    outColor.r = texture(mx_ACEScc_to_lin_rec709_color4_lut1d_0Sampler, mx_ACEScc_to_lin_rec709_color4_lut1d_0_computePos(outColor.r)).r;\n",
       "    outColor.g = texture(mx_ACEScc_to_lin_rec709_color4_lut1d_0Sampler, mx_ACEScc_to_lin_rec709_color4_lut1d_0_computePos(outColor.g)).r;\n",
       "    outColor.b = texture(mx_ACEScc_to_lin_rec709_color4_lut1d_0Sampler, mx_ACEScc_to_lin_rec709_color4_lut1d_0_computePos(outColor.b)).r;\n",
       "  }\n",
       "  \n",
       "  // Add Matrix processing\n",
       "  \n",
       "  {\n",
       "    vec4 res = vec4(outColor.rgb.r, outColor.rgb.g, outColor.rgb.b, outColor.a);\n",
       "    vec4 tmp = res;\n",
       "    res = mat4(0.69545224135745187, 0.044794563372037716, -0.0055258825581135443, 0., 0.14067869647029416, 0.85967111845642163, 0.0040252103059786595, 0., 0.16386906217225405, 0.0955343181715404, 1.0015006722521349, 0., 0., 0., 0., 1.) * tmp;\n",
       "    outColor.rgb = vec3(res.x, res.y, res.z);\n",
       "    outColor.a = res.w;\n",
       "  }\n",
       "  \n",
       "  // Add Range processing\n",
       "  \n",
       "  {\n",
       "    outColor.rgb = max(vec3(0., 0., 0.), outColor.rgb);\n",
       "  }\n",
       "  \n",
       "  // Add Matrix processing\n",
       "  \n",
       "  {\n",
       "    vec4 res = vec4(outColor.rgb.r, outColor.rgb.g, outColor.rgb.b, outColor.a);\n",
       "    vec4 tmp = res;\n",
       "    res = mat4(2.5216861867438798, -0.27647991422992202, -0.015378064966034201, 0., -1.1341309882397199, 1.37271908766826, -0.152975335867399, 0., -0.38755519850416398, -0.096239173438334005, 1.16835340083343, 0., 0., 0., 0., 1.) * tmp;\n",
       "    outColor.rgb = vec3(res.x, res.y, res.z);\n",
       "    outColor.a = res.w;\n",
       "  }\n",
       "\n",
       "  return outColor;\n",
       "}\n",
       "\n",
       "```\n",
       "</details>"
      ]
     },
     "metadata": {},
     "output_type": "display_data"
    }
   ],
   "source": [
    "sourceColorSpace = 'ACEScc' # \"acescg\"\n",
    "code, textureCount = generateShaderCode2(builtinCfgC, sourceColorSpace, targetColorSpace, language)\n",
    "if code:\n",
    "    code = code.replace(\"// Declaration of the OCIO shader function\\n\", \n",
    "                        \"// \" + sourceColorSpace + \" to \" + targetColorSpace + \" function. Texture count: %d\\n\" % textureCount)\n",
    "    code = '```c++\\n' + code + '\\n```\\n'\n",
    "\n",
    "    md = '<details><summary>Secondary Dependency Sample Code</summary>\\n\\n' + code + '</details>'\n",
    "    display_markdown(md, raw=True)"
   ]
  },
  {
   "cell_type": "markdown",
   "metadata": {},
   "source": [
    "#### Issues With Texture Resources\n",
    "\n",
    "From an integration point of view any introduction of texture lookups requires resource declarations in the code. (such as the `uniform sampler2D mx_ACEScc_to_lin_rec709_color4_ocio_lut1d_0Sampler;` sampler declaration).\n",
    "\n",
    "1. The only way to handle these is to have additional logic added for code insertion of color transforms, such that the shader function declarations and resources can be inserted into the code independently. The current MaterialX code generation logic does not otherwise support this using the \"default color system\".\n",
    "\n",
    "    > Note : An experiment was attempted previously but does not align with the current proposal to have stand-alone node definitions. It was thus abandoned. ( For those interested the full code with code changes can be found <a href=\"https://github.com/autodesk-forks/MaterialX/pull/1379/files#diff-a181860f6edce31fab2f260d982a9363ef80062b7eea99f63a19cf0ea60ee44f\">here</a>). Here 1D lookups (LUTS) were specified as input arrays and code generation created 1D textures dynamically based on the array inputs. 3D lookups were not handled.\n",
    "\n",
    "2. **From the point of view of creating node graphs, any implementation resource dependencies means it cannot be cleanly wrapped up into a self-contained node definition and implementation.**\n",
    "\n",
    "For now these can be \"skipped\" until such time as they are require, or the implementation changes\n",
    "to avoid using these."
   ]
  },
  {
   "cell_type": "markdown",
   "metadata": {},
   "source": [
    "#### Finding Transforms Using Texture Resources\n",
    "\n",
    "We can re-iterate through all of the transforms of interest, and find these transforms using\n",
    "the following code. \n",
    "> Note that the code generation is not necessary but is written this way to \n",
    "reuse the existing utility `generateShaderCode2`)."
   ]
  },
  {
   "cell_type": "code",
   "execution_count": 71,
   "metadata": {},
   "outputs": [
    {
     "name": "stdout",
     "output_type": "stream",
     "text": [
      "- Transform \"ACEScc\" to \"lin_rec709\" requires 1 texture resources\n",
      "- Transform \"ADX10\" to \"lin_rec709\" requires 1 texture resources\n",
      "- Transform \"ADX16\" to \"lin_rec709\" requires 1 texture resources\n",
      "- Transform \"CanonLog2 CinemaGamut D55\" to \"lin_rec709\" requires 1 texture resources\n",
      "- Transform \"CanonLog3 CinemaGamut D55\" to \"lin_rec709\" requires 1 texture resources\n"
     ]
    }
   ],
   "source": [
    "# Scan through all the color spaces on the configs to check for texture resource usage.\n",
    "testedSources = set()\n",
    "for c in configs:\n",
    "    config = OCIO.Config.CreateFromBuiltinConfig(c)\n",
    "    colorSpaces = config.getColorSpaces()\n",
    "    for colorSpace in colorSpaces:\n",
    "        colorSpaceName = colorSpace.getName()\n",
    "        # Skip if the colorspace is already tested\n",
    "        if colorSpaceName in testedSources:\n",
    "            continue\n",
    "        testedSources.add(colorSpaceName)\n",
    "\n",
    "        # Test for texture resource usage\n",
    "        code, textureCount = generateShaderCode2(config, colorSpace.getName(), targetColorSpace, language)\n",
    "        if textureCount:\n",
    "            print('- Transform \"%s\" to \"%s\" requires %d texture resources' % (colorSpace.getName(), targetColorSpace, textureCount))"
   ]
  },
  {
   "cell_type": "markdown",
   "metadata": {},
   "source": [
    "### Target Language Support\n",
    "\n",
    "At time of writing the target languages supported by OCIO and MaterialX differ. This includes non-core support such as `MDL` and current versions of `OSL`. Also as no logical operators are provided as with MaterialX,  targets such as `Vex` which parses and maps MaterialX nodes as operators is not easy to do.\n",
    "\n",
    "OCIO and MaterialX recently added in `Metal` language support. It is to be checked if there would be any issues with the additional `struct` wrappers required for this language as it is uncommon for MaterialX code generation to call into a `struct` function at the current time."
   ]
  },
  {
   "cell_type": "code",
   "execution_count": 72,
   "metadata": {},
   "outputs": [
    {
     "data": {
      "text/markdown": [
       "<details><summary>MSL struct usage</summary>\n",
       "\n",
       "```c++\n",
       "\n",
       "// Declaration of class wrapper\n",
       "\n",
       "struct mx_acescg_to_lin_rec709_color4mx_acescg_to_lin_rec709_color4\n",
       "{\n",
       "mx_acescg_to_lin_rec709_color4mx_acescg_to_lin_rec709_color4(\n",
       ")\n",
       "{\n",
       "}\n",
       "\n",
       "\n",
       "// acescg to lin_rec709 function\n",
       "\n",
       "float4 mx_acescg_to_lin_rec709_color4(float4 inPixel)\n",
       "{\n",
       "  float4 outColor = inPixel;\n",
       "  \n",
       "  // Add Matrix processing\n",
       "  \n",
       "  {\n",
       "    float4 res = float4(outColor.rgb.r, outColor.rgb.g, outColor.rgb.b, outColor.a);\n",
       "    float4 tmp = res;\n",
       "    res = float4x4(1.7050509926579815, -0.1302564175070435, -0.024003356804618042, 0., -0.62179212065700562, 1.1408047365754048, -0.1289689760649709, 0., -0.0832588720009797, -0.010548319068357653, 1.1529723328695858, 0., 0., 0., 0., 1.) * tmp;\n",
       "    outColor.rgb = float3(res.x, res.y, res.z);\n",
       "    outColor.a = res.w;\n",
       "  }\n",
       "\n",
       "  return outColor;\n",
       "}\n",
       "\n",
       "// Close class wrapper\n",
       "\n",
       "\n",
       "};\n",
       "float4 mx_acescg_to_lin_rec709_color4(\n",
       "  float4 inPixel)\n",
       "{\n",
       "  return mx_acescg_to_lin_rec709_color4mx_acescg_to_lin_rec709_color4(\n",
       "  ).mx_acescg_to_lin_rec709_color4(inPixel);\n",
       "}\n",
       "\n",
       "```\n",
       "</details>"
      ]
     },
     "metadata": {},
     "output_type": "display_data"
    }
   ],
   "source": [
    "sourceColorSpace = \"acescg\"\n",
    "language = OCIO.GpuLanguage.GPU_LANGUAGE_MSL_2_0\n",
    "code, textureCount = generateShaderCode2(builtinCfgC, sourceColorSpace, targetColorSpace, language)\n",
    "if code:\n",
    "    code = code.replace(\"// Declaration of the OCIO shader function\\n\", \"// \" + sourceColorSpace + \" to \" + targetColorSpace + \" function\\n\")\n",
    "    code = '```c++\\n' + code + '\\n```\\n'\n",
    "    md = '<details><summary>MSL struct usage</summary>\\n\\n' + code + '</details>'\n",
    "    display_markdown(md, raw=True)"
   ]
  },
  {
   "cell_type": "markdown",
   "metadata": {},
   "source": [
    "Using version 2.3 to access `OSL` there appears to be additional issues with the code\n",
    "generated as additional utility functions may be inserted which are not renamed to avoid collisions.\n",
    "\n",
    "For example functions called `max()`, `pow()` etc are added which are outside the scope of the main shader declaration for which do not seem to be included in the logic for unique function name. As well as include additional include files which should be part of the OSL distribution. These need to be stripped out to embed this code as part of a larger OSL shader which already includes these functions to avoid name clashes.\n",
    "An <a href=\"https://github.com/AcademySoftwareFoundation/OpenColorIO/issues/1851\" target=\"_blank\">issue</a> has been logged for this.\n",
    "\n",
    "As `OSL` integrations will generally perform color management outside of the shader, it is to be seen if this is important enough to address."
   ]
  },
  {
   "cell_type": "code",
   "execution_count": 82,
   "metadata": {},
   "outputs": [
    {
     "data": {
      "text/markdown": [
       "<details><summary>OSL dependent function / includes code</summary>\n",
       "\n",
       "```c++\n",
       "\n",
       "/* All the includes */\n",
       "\n",
       "#include \"vector4.h\"\n",
       "#include \"color4.h\"\n",
       "\n",
       "/* All the generic helper methods */\n",
       "\n",
       "vector4 __operator__mul__(matrix m, vector4 v)\n",
       "{\n",
       "  return vector4(v.x * m[0][0] + v.y * m[0][1] + v.z * m[0][2] + v.w * m[0][3], \n",
       "                 v.x * m[1][0] + v.y * m[1][1] + v.z * m[1][2] + v.w * m[1][3], \n",
       "                 v.x * m[2][0] + v.y * m[2][1] + v.z * m[2][2] + v.w * m[2][3], \n",
       "                 v.x * m[3][0] + v.y * m[3][1] + v.z * m[3][2] + v.w * m[3][3]);\n",
       "}\n",
       "\n",
       "vector4 __operator__mul__(color4 c, vector4 v)\n",
       "{\n",
       "  return vector4(c.rgb.r, c.rgb.g, c.rgb.b, c.a) * v;\n",
       "}\n",
       "\n",
       "vector4 __operator__mul__(vector4 v, color4 c)\n",
       "{\n",
       "  return v * vector4(c.rgb.r, c.rgb.g, c.rgb.b, c.a);\n",
       "}\n",
       "\n",
       "vector4 __operator__sub__(color4 c, vector4 v)\n",
       "{\n",
       "  return vector4(c.rgb.r, c.rgb.g, c.rgb.b, c.a) - v;\n",
       "}\n",
       "\n",
       "vector4 __operator__add__(vector4 v, color4 c)\n",
       "{\n",
       "  return v + vector4(c.rgb.r, c.rgb.g, c.rgb.b, c.a);\n",
       "}\n",
       "\n",
       "vector4 __operator__add__(color4 c, vector4 v)\n",
       "{\n",
       "  return vector4(c.rgb.r, c.rgb.g, c.rgb.b, c.a) + v;\n",
       "}\n",
       "\n",
       "vector4 pow(color4 c, vector4 v)\n",
       "{\n",
       "  return pow(vector4(c.rgb.r, c.rgb.g, c.rgb.b, c.a), v);\n",
       "}\n",
       "\n",
       "vector4 max(vector4 v, color4 c)\n",
       "{\n",
       "  return max(v, vector4(c.rgb.r, c.rgb.g, c.rgb.b, c.a));\n",
       "}\n",
       "\n",
       "/* The shader implementation */\n",
       "\n",
       "shader OSL_mx_acescg_to_lin_rec709_color4(color4 inColor = {color(0), 1}, output color4 outColor = {color(0), 1})\n",
       "{\n",
       "\n",
       "// Declaration of the OCIO shader function\n",
       "\n",
       "color4 mx_acescg_to_lin_rec709_color4(color4 inPixel)\n",
       "{\n",
       "  color4 outColor = inPixel;\n",
       "  \n",
       "  // Add Matrix processing\n",
       "  \n",
       "  {\n",
       "    vector4 res = vector4(outColor.rgb.r, outColor.rgb.g, outColor.rgb.b, outColor.a);\n",
       "    vector4 tmp = res;\n",
       "    res = matrix(1.7050509926579815, -0.62179212065700562, -0.0832588720009797, 0., -0.1302564175070435, 1.1408047365754048, -0.010548319068357653, 0., -0.024003356804618042, -0.1289689760649709, 1.1529723328695858, 0., 0., 0., 0., 1.) * tmp;\n",
       "    outColor.rgb = vector(res.x, res.y, res.z);\n",
       "    outColor.a = res.w;\n",
       "  }\n",
       "\n",
       "  return outColor;\n",
       "}\n",
       "\n",
       "outColor = mx_acescg_to_lin_rec709_color4(inColor);\n",
       "}\n",
       "\n",
       "```\n",
       "</details>"
      ]
     },
     "metadata": {},
     "output_type": "display_data"
    }
   ],
   "source": [
    "if OCIO.GpuLanguage.LANGUAGE_OSL_1:\n",
    "    sourceColorSpace = \"acescg\"\n",
    "    language = OCIO.GpuLanguage.LANGUAGE_OSL_1\n",
    "    code, textureCount = generateShaderCode2(builtinCfgC, sourceColorSpace, targetColorSpace, language)\n",
    "    if code:\n",
    "        # Bit of ugly patching to make the main function name consistent.\n",
    "        transformName = createTransformName(sourceColorSpace, targetColorSpace, 'color4')\n",
    "        code = code.replace('OSL_' + transformName, '__temp_name__')\n",
    "        code = code.replace(transformName, transformName + '_impl')\n",
    "        code = code.replace('__temp_name__', transformName)\n",
    "        code = code.replace(\"// Declaration of the OCIO shader function\\n\", \"// \" + sourceColorSpace + \" to \" + targetColorSpace + \" function\\n\")\n",
    "        code = '```c++\\n' + code + '\\n```\\n'\n",
    "        md = '<details><summary>OSL dependent function / includes code</summary>\\n\\n' + code + '</details>'\n",
    "        display_markdown(md, raw=True)"
   ]
  },
  {
   "cell_type": "markdown",
   "metadata": {},
   "source": [
    "### Creating MaterialX Node Definitions / Implementation\n",
    "\n",
    "Given source code for now, it is still possible to create implementations and node definitions. If in the future\n",
    "the implementations can become MaterialX node graphs then the definition interface can still be used. \n",
    "\n",
    "To create a new definition:\n",
    "1. The source and target color space is used to derive: \n",
    "   * a transform name: using the previously described `createTransformName()` utility\n",
    "   * a node name by replace the 'mx_' function name with the \"standard\" 'ND_' prefix used for definition\n",
    "   * a node category \n",
    "2. Use `addNodeDef()` API to add a new definition\n",
    "3. Set node group to be `colortransform` which is the recommended group for new color transforms.\n",
    "4. Add a single input and output of the appropriate type (`color3` or `color4`).\n",
    "5. Set a default value on the input. For this code we assume the defaul to be opaque black. \n",
    "\n",
    "Thie logic is encapsulated in a new `generateMaterialXDefinition()` utility function."
   ]
  },
  {
   "cell_type": "code",
   "execution_count": 74,
   "metadata": {},
   "outputs": [],
   "source": [
    "def generateMaterialXDefinition(doc, sourceColorSpace, targetColorSpace, inputName, type):\n",
    "\n",
    "    # Create a definition\n",
    "    transformName = createTransformName(sourceColorSpace, targetColorSpace, type)\n",
    "    nodeName = transformName.replace('mx_', 'ND_')\n",
    "\n",
    "    comment = doc.addChildOfCategory('comment')\n",
    "    comment.setDocString(' Color space %s to %s transform. Generated via OCIO. ' % (sourceColorSpace, targetColorSpace))\n",
    "\n",
    "    definition = doc.addNodeDef(nodeName, 'color4')\n",
    "    category = sourceColorSpace + '_to_' + targetColorSpace\n",
    "    definition.setNodeString(category)\n",
    "    definition.setNodeGroup('colortransform')\n",
    "\n",
    "    defaultValueString = '0.0 0.0 0.0 1.0'\n",
    "    defaultValue = mx.createValueFromStrings(defaultValueString, 'color4')\n",
    "    input = definition.addInput(inputName, type)\n",
    "    input.setValue(defaultValue)\n",
    "    output = definition.getOutput('out')\n",
    "    output.setAttribute('default', 'in')\n",
    "\n",
    "    return definition\n"
   ]
  },
  {
   "cell_type": "markdown",
   "metadata": {},
   "source": [
    "Another utility called `writeShaderCode()` is used to write the code to file following the \"standard\" MaterialX naming convention."
   ]
  },
  {
   "cell_type": "code",
   "execution_count": 75,
   "metadata": {},
   "outputs": [],
   "source": [
    "\n",
    "def writeShaderCode(code, transformName, extension, target):\n",
    "\n",
    "    # Write source code file\n",
    "    filename = mx.FilePath('./data') / mx.FilePath(transformName + '.' + extension)\n",
    "    print('Write target[%s] source file %s' % (target,filename.asString()))\n",
    "    f = open(filename.asString(), 'w')\n",
    "    f.write(code)\n",
    "    f.close()\n"
   ]
  },
  {
   "cell_type": "markdown",
   "metadata": {},
   "source": [
    "The implementation creation logic is encapsulated in a `createMaterialXImplementation()` utility function which appends a new implementation to an existing Document.\n",
    "\n",
    "The transform name is assumged to be precreated using `createTransformName()`.\n",
    "\n",
    "This is used to create a unique implementation Element name, and source code filename. We decied to use a file on disk as it is not possible to inline 1 or more function functions created by OCIO.\n",
    "\n",
    "The implementation is associated with an existing node definition which is passed in and a target is explicit set to indicate which shading language (target) the implementation is for. "
   ]
  },
  {
   "cell_type": "code",
   "execution_count": 76,
   "metadata": {},
   "outputs": [],
   "source": [
    "\n",
    "def createMaterialXImplementation(doc, definition, transformName, extension, target):\n",
    "    '''\n",
    "    Create a new implementation in a document for a given definition.\n",
    "    '''\n",
    "    implName = transformName + '_' + target\n",
    "    filename = transformName + '.' + extension\n",
    "    implName = implName.replace('mx_', 'IM_')\n",
    "\n",
    "    # Check if implementation already exists\n",
    "    impl = doc.getImplementation(implName)\n",
    "    if impl:\n",
    "        print('Implementation already exists: %s' % implName)\n",
    "        return impl\n",
    "\n",
    "    comment = doc.addChildOfCategory('comment')\n",
    "    comment.setDocString(' Color space %s to %s transform. Generated via OCIO for target: %s' \n",
    "                         % (sourceColorSpace, targetColorSpace, target))\n",
    "    impl = doc.addImplementation(implName)\n",
    "    impl.setFile(filename)\n",
    "    impl.setFunction(transformName)\n",
    "    impl.setTarget(target)\n",
    "    impl.setNodeDef(definition)\n",
    "\n",
    "    return impl"
   ]
  },
  {
   "cell_type": "markdown",
   "metadata": {},
   "source": [
    "Finally a small utility is added to write the document to disk."
   ]
  },
  {
   "cell_type": "code",
   "execution_count": 77,
   "metadata": {},
   "outputs": [],
   "source": [
    "def writeDocument(doc, filename):\n",
    "    print('Write MaterialX file:', filename.asString())\n",
    "    mx.writeToXmlFile(doc, filename)"
   ]
  },
  {
   "cell_type": "markdown",
   "metadata": {},
   "source": [
    "Using these utilities we: \n",
    "- Create separate definition and implementation Documents. \n",
    "- Generate shader code for `GLSL`, `MSL`, and `OSL`` for the same color transform. (`OSL` is available in version 2.3).\n",
    "- Create a new definition for that transform\n",
    "- Create a new implementation for each shader code result"
   ]
  },
  {
   "cell_type": "code",
   "execution_count": 78,
   "metadata": {},
   "outputs": [
    {
     "name": "stdout",
     "output_type": "stream",
     "text": [
      "Write target[genmsl] source file .\\data\\mx_acescg_to_lin_rec709_color4.metal\n",
      "Write target[genglsl] source file .\\data\\mx_acescg_to_lin_rec709_color4.glsl\n",
      "Write target[genosl] source file .\\data\\mx_acescg_to_lin_rec709_color4.osl\n"
     ]
    }
   ],
   "source": [
    "# Example to create:\n",
    "# - source code for a given transform for 2 shader targets\n",
    "# - A definition wrapper for the source\n",
    "# - An implementations per source code. All implementations are associated with single definition\n",
    "definitionDoc = mx.createDocument()\n",
    "definition = None\n",
    "\n",
    "implDoc = mx.createDocument()\n",
    "\n",
    "sourceColorSpace = \"acescg\"\n",
    "type = 'color4'\n",
    "transformName = createTransformName(sourceColorSpace, targetColorSpace, type)\n",
    "\n",
    "# All code has the same input name\n",
    "# It is possible to use a different name than the name used in the generated function ('inPixel')\n",
    "#IN_PIXEL_STRING = 'inPixel'\n",
    "IN_PIXEL_STRING = 'in'\n",
    "\n",
    "# Pick a source and target color space\n",
    "sourceColorSpace = 'acescg'\n",
    "targetColorSpace = 'lin_rec709'\n",
    "\n",
    "# List of MaterialX target language, source code extensions, and OCIO GPU languages\n",
    "generationList = [['genmsl', 'metal', OCIO.GpuLanguage.GPU_LANGUAGE_MSL_2_0],\n",
    "                  ['genglsl', 'glsl', OCIO.GpuLanguage.GPU_LANGUAGE_GLSL_4_0] ]\n",
    "\n",
    "if OCIO.GpuLanguage.LANGUAGE_OSL_1:\n",
    "    generationList.append(['genosl', 'osl', OCIO.GpuLanguage.LANGUAGE_OSL_1])\n",
    "\n",
    "for gen in generationList:\n",
    "    target = gen[0]\n",
    "    extension = gen[1]\n",
    "    language = gen[2]\n",
    "\n",
    "    code, textureCount = generateShaderCode2(builtinCfgC, sourceColorSpace, targetColorSpace, language)\n",
    "    if code:\n",
    "        # Emit the source code file\n",
    "        writeShaderCode(code, transformName, extension, target)\n",
    "\n",
    "        # Create the definition once\n",
    "        if not definition:\n",
    "            definition = generateMaterialXDefinition(definitionDoc, sourceColorSpace, targetColorSpace, \n",
    "                                                    IN_PIXEL_STRING, type)\n",
    "        \n",
    "        # Create the implementation\n",
    "        createMaterialXImplementation(implDoc, definition, transformName, extension, target)\n"
   ]
  },
  {
   "cell_type": "markdown",
   "metadata": {},
   "source": [
    "The resulting MaterialX wrappers are then written to disk as follows:"
   ]
  },
  {
   "cell_type": "code",
   "execution_count": 79,
   "metadata": {},
   "outputs": [
    {
     "name": "stdout",
     "output_type": "stream",
     "text": [
      "Write MaterialX definition file: .\\data\\ND_acescg_to_lin_rec709_color4.mtlx\n",
      "Write MaterialX implementation file: .\\data\\IM_mx_acescg_to_lin_rec709_color4.mtlx\n"
     ]
    },
    {
     "data": {
      "text/markdown": [
       "#### Generated MaterialX Definition\n",
       "```xml\n",
       "<?xml version=\"1.0\"?>\n",
       "<materialx version=\"1.38\">\n",
       "  <!-- Color space acescg to lin_rec709 transform. Generated via OCIO. -->\n",
       "  <nodedef name=\"ND_acescg_to_lin_rec709_color4\" node=\"acescg_to_lin_rec709\" nodegroup=\"colortransform\">\n",
       "    <output name=\"out\" type=\"color4\" default=\"in\" />\n",
       "    <input name=\"in\" type=\"color4\" value=\"0, 0, 0, 1\" />\n",
       "  </nodedef>\n",
       "</materialx>\n",
       "```\n"
      ]
     },
     "metadata": {},
     "output_type": "display_data"
    },
    {
     "data": {
      "text/markdown": [
       "#### Generated MaterialX Implementations\n",
       "```xml\n",
       "<?xml version=\"1.0\"?>\n",
       "<materialx version=\"1.38\">\n",
       "  <!-- Color space acescg to lin_rec709 transform. Generated via OCIO for target: genmsl-->\n",
       "  <implementation name=\"IM_acescg_to_lin_rec709_color4_genmsl\" file=\"mx_acescg_to_lin_rec709_color4.metal\" function=\"mx_acescg_to_lin_rec709_color4\" target=\"genmsl\" nodedef=\"ND_acescg_to_lin_rec709_color4\" />\n",
       "  <!-- Color space acescg to lin_rec709 transform. Generated via OCIO for target: genglsl-->\n",
       "  <implementation name=\"IM_acescg_to_lin_rec709_color4_genglsl\" file=\"mx_acescg_to_lin_rec709_color4.glsl\" function=\"mx_acescg_to_lin_rec709_color4\" target=\"genglsl\" nodedef=\"ND_acescg_to_lin_rec709_color4\" />\n",
       "  <!-- Color space acescg to lin_rec709 transform. Generated via OCIO for target: genosl-->\n",
       "  <implementation name=\"IM_acescg_to_lin_rec709_color4_genosl\" file=\"mx_acescg_to_lin_rec709_color4.osl\" function=\"mx_acescg_to_lin_rec709_color4\" target=\"genosl\" nodedef=\"ND_acescg_to_lin_rec709_color4\" />\n",
       "</materialx>\n",
       "```\n"
      ]
     },
     "metadata": {},
     "output_type": "display_data"
    }
   ],
   "source": [
    "\n",
    "# Write the definition document\n",
    "filename = mx.FilePath('./data') / mx.FilePath(definition.getName() + '.' + 'mtlx')\n",
    "print('Write MaterialX definition file:', filename.asString())\n",
    "mx.writeToXmlFile(definitionDoc, filename)\n",
    "\n",
    "# Write the implementation document\n",
    "implFileName = mx.FilePath('./data') / mx.FilePath('IM_' + transformName + '.' + 'mtlx')\n",
    "print('Write MaterialX implementation file:', implFileName.asString())\n",
    "result = mx.writeToXmlFile(implDoc, implFileName)\n",
    "\n",
    "# Emit the results for display\n",
    "result = mx.writeToXmlString(definitionDoc)\n",
    "display_markdown('#### Generated MaterialX Definition\\n' + '```xml\\n' + result + '```\\n', raw=True)\n",
    "result = mx.writeToXmlString(implDoc)\n",
    "display_markdown('#### Generated MaterialX Implementations\\n' + '```xml\\n' + result + '```\\n', raw=True)\n",
    "     "
   ]
  },
  {
   "cell_type": "markdown",
   "metadata": {},
   "source": [
    "### Variant Creation\n",
    "\n",
    "Given a node definition for the `color4` variant is is possible to create a functional graph and corresponding definition for a `color3` variant. The graph simple convertes from `color3` to `color4` before connecting to the transform and then converts back to `color3` for output."
   ]
  },
  {
   "cell_type": "code",
   "execution_count": 80,
   "metadata": {},
   "outputs": [
    {
     "data": {
      "text/markdown": [
       "#### Generated Color3 Variant\n",
       "```xml\n",
       "<?xml version=\"1.0\"?>\n",
       "<materialx version=\"1.38\">\n",
       "  <!-- Color space acescg to lin_rec709 transform. Generated via OCIO. -->\n",
       "  <nodedef name=\"ND_acescg_to_lin_rec709_color4\" node=\"acescg_to_lin_rec709\" nodegroup=\"colortransform\">\n",
       "    <output name=\"out\" type=\"color4\" default=\"in\" />\n",
       "    <input name=\"in\" type=\"color4\" value=\"0, 0, 0, 1\" />\n",
       "  </nodedef>\n",
       "  <nodedef name=\"ND_acescg_to_lin_rec709_color3\" node=\"acescg_to_lin_rec709\" nodegroup=\"colortransform\">\n",
       "    <output name=\"out\" type=\"color3\" />\n",
       "    <input name=\"in\" type=\"color3\" value=\"0, 0, 0\" />\n",
       "  </nodedef>\n",
       "  <nodegraph name=\"NG_acescg_to_lin_rec709_color3\" nodedef=\"ND_acescg_to_lin_rec709_color3\">\n",
       "    <acescg_to_lin_rec709 name=\"node1\" type=\"color4\" nodedef=\"ND_acescg_to_lin_rec709_color4\">\n",
       "      <input name=\"in\" type=\"color4\" value=\"0, 0, 0, 1\" nodename=\"c3to4\" />\n",
       "    </acescg_to_lin_rec709>\n",
       "    <convert name=\"c3to4\" type=\"color4\">\n",
       "      <input name=\"in\" type=\"color3\" interfacename=\"in\" />\n",
       "    </convert>\n",
       "    <convert name=\"c4to3\" type=\"color3\">\n",
       "      <input name=\"in\" type=\"color4\" nodename=\"node1\" />\n",
       "    </convert>\n",
       "    <output name=\"out\" type=\"color3\" nodename=\"c4to3\" />\n",
       "  </nodegraph>\n",
       "</materialx>\n",
       "```\n"
      ]
     },
     "metadata": {},
     "output_type": "display_data"
    },
    {
     "name": "stdout",
     "output_type": "stream",
     "text": [
      "Write MaterialX definition variant file: .\\data\\ND_acescg_to_lin_rec709_color4_2.mtlx\n"
     ]
    }
   ],
   "source": [
    "color4Name = definition.getName()\n",
    "color3Name = color4Name.replace('color4', 'color3')\n",
    "color3Def = definitionDoc.addNodeDef(color3Name)\n",
    "color3Def.copyContentFrom(definition)\n",
    "c3input = color3Def.getInput(IN_PIXEL_STRING)\n",
    "c3input.setType('color3')\n",
    "c3input.setValue(mx.createValueFromStrings('0.0 0.0 0.0', 'color3'))\n",
    "    \n",
    "ngName = color3Def.getName().replace('ND_', 'NG_')\n",
    "ng = definitionDoc.addNodeGraph(ngName)\n",
    "c4instance = ng.addNodeInstance(definition)\n",
    "c4instance.addInputsFromNodeDef()\n",
    "c4instanceIn = c4instance.getInput(IN_PIXEL_STRING)\n",
    "c3to4 = ng.addNode('convert', 'c3to4', 'color4')\n",
    "c3to4Input = c3to4.addInput('in', 'color3')\n",
    "c4to3 = ng.addNode('convert', 'c4to3', 'color3')\n",
    "c4to3Input = c4to3.addInput('in', 'color4')\n",
    "ngout = ng.addOutput('out', 'color3')\n",
    "#ngin = ng.addInput('in', 'color3')\n",
    "ng.setNodeDef(color3Def)\n",
    "\n",
    "c4instanceIn.setNodeName(c3to4.getName())\n",
    "c4to3Input.setNodeName(c4instance.getName())\n",
    "ngout.setNodeName(c4to3.getName())\n",
    "c3to4Input.setInterfaceName(IN_PIXEL_STRING)\n",
    "\n",
    "result = mx.writeToXmlString(definitionDoc)\n",
    "display_markdown('#### Generated Color3 Variant\\n' + '```xml\\n' + result + '```\\n', raw=True)\n",
    "\n",
    "valid, log = definitionDoc.validate()\n",
    "if not valid:\n",
    "    print('Document created is invalid:', log)\n",
    "\n",
    "filename = mx.FilePath('./data') / mx.FilePath(definition.getName() + '_2.' + 'mtlx')\n",
    "print('Write MaterialX definition variant file:', filename.asString())\n",
    "mx.writeToXmlFile(definitionDoc, filename)"
   ]
  },
  {
   "cell_type": "markdown",
   "metadata": {},
   "source": [
    "### MaterialX Standard Library Inclusion\n",
    "\n",
    "It is possible to add a new color space transform to the \"standard\" MaterialX library locations. This can be done for local testing for in some cases when additional search paths are not supported. \n",
    "\n",
    "Introduced with version **1.38.7**, the location of definitions and implementations can be found in the `cmlib` folder under the installation `libraries` location. Note that target specific source file directories were removed as all implementations are now target independent node graphs.\n",
    "\n",
    "To include source file implementations the appropriate `target` folders can be added in.\n",
    "Under that folder an implementation file can be added for each target along with associated source files. The new definition can be added to `cmlib_defs.mtlx.\n",
    "\n",
    "See the <a href=\"mtlx_definitions_notebook.html\" target=\"_blank\">Creating Definitions</a> book for more on how set up new definitions.\n",
    "\n",
    "The standard library folder structure is partially shown below. The bolded items would be the ones of interest. The `stdlib` folder is also shown to show how each folder follows the same naming and hierarchy conventions.\n",
    "\n",
    "----\n",
    "- cmlib // Color space transform library\n",
    "    - **cmlib_defs.mtlx** // definitions file\n",
    "    - cmlib_ng.mtlx       // functional node graphs file\n",
    "    - **genglsl**         // GLSL implementation folder\n",
    "        - **cmlib_genglsl_impl.mtlx** // Implementation declarations\n",
    "        - **GLSL files reside here**        \n",
    "    - **genmsl**          // MSL implementation folder\n",
    "        - **cmlib_genmsl_impl.mtlx** // Implementation declarations\n",
    "        - **MSL files reside here**        \n",
    "- stdlib // \"Standard\" node library\n",
    "    - genglsl\n",
    "        - stdlib_genglsl_impl.mtlx\n",
    "    - genmdl\n",
    "    - genmsl\n",
    "        - stdlib_genmsl_impl.mtlx\n",
    "    - genosl\n",
    "  - targets\n",
    "\n",
    "----"
   ]
  },
  {
   "cell_type": "markdown",
   "metadata": {},
   "source": [
    "### Future Exploration\n",
    "\n",
    "As mentioned the notion of representing OCIO shader logic as MaterialX nodes is still under discussion.\n",
    "There are thoughts to try and export each lower level functional \"block\" as a reusable functions with the appripriate argument values, hence allowing for a custom OCIO code generator to emit a new MaterialX node for each function.\n",
    "\n",
    "At time of writing the ASWF OCIO techincal steering committee (TSC) additionally has on it's roadmap to reduce the size of OCIO and consider how it could be deployed in a Web or mobile environment. Here it is possible to consider both a source code or a node graph based option. The latter could fit in with the interest to transport some subset of MaterialX via formats such as `glTF`."
   ]
  }
 ],
 "metadata": {
  "kernelspec": {
   "display_name": ".venv",
   "language": "python",
   "name": "python3"
  },
  "language_info": {
   "codemirror_mode": {
    "name": "ipython",
    "version": 3
   },
   "file_extension": ".py",
   "mimetype": "text/x-python",
   "name": "python",
   "nbconvert_exporter": "python",
   "pygments_lexer": "ipython3",
   "version": "3.10.10"
  },
  "orig_nbformat": 4
 },
 "nbformat": 4,
 "nbformat_minor": 2
}
