{
 "cells": [
  {
   "attachments": {},
   "cell_type": "markdown",
   "metadata": {},
   "source": [
    "# MaterialX Basics\n",
    "\n",
    "## Summary\n",
    "\n",
    "This notebook covers the following:\n",
    "\n",
    "1. Essential Setup\n",
    "   * Loading in MaterialX\n",
    "   * Creating documents\n",
    "   * Loading in \"standard\" library definitions\n",
    "3. Creating nodes and editing input values\n",
    "5. Saving out a document and examining it's contents"
   ]
  },
  {
   "attachments": {},
   "cell_type": "markdown",
   "metadata": {},
   "source": [
    "## 1. Setting up MaterialX\n",
    "\n",
    "### 1.1 Importing MaterialX\n",
    "\n",
    "When using MaterialX, the very first thing that must be done is to import the package.\n",
    "After loading in the package, the API version available can be found in the `__version__`\n",
    "module information. This is equivalent to calling the `getVersionString()` utility."
   ]
  },
  {
   "cell_type": "code",
   "execution_count": 145,
   "metadata": {},
   "outputs": [
    {
     "name": "stdout",
     "output_type": "stream",
     "text": [
      "MaterialX API version 1.38.8\n",
      "MaterialX API version 1.38.8\n"
     ]
    }
   ],
   "source": [
    "import MaterialX as mx\n",
    "    \n",
    "# Print out MaterialX API version\n",
    "print ('MaterialX API version %s' % mx.__version__)\n",
    "print ('MaterialX API version %s' % mx.getVersionString())"
   ]
  },
  {
   "attachments": {},
   "cell_type": "markdown",
   "metadata": {},
   "source": [
    "### 1.2 Creating a Document\n",
    "\n",
    "In order to perform any action using MaterialX, a `Document` must be created using the `createDocument()`\n",
    "interface. In this example a new document is created and then the version of the document \n",
    "is checked using `getVersionString()`.\n",
    "\n",
    "This document will be the \"working\" document used for the rest of this book.\n",
    "\n",
    "> As noted in the `Documents` learning material this is the version of the document and not the package version."
   ]
  },
  {
   "cell_type": "code",
   "execution_count": 146,
   "metadata": {},
   "outputs": [
    {
     "name": "stdout",
     "output_type": "stream",
     "text": [
      "Hello MaterialX (Version 1.38)\n"
     ]
    }
   ],
   "source": [
    "# Print the version of MaterialX\n",
    "doc = mx.createDocument()\n",
    "print('Hello MaterialX (Version %s)' % doc.getVersionString())   \n"
   ]
  },
  {
   "attachments": {},
   "cell_type": "markdown",
   "metadata": {},
   "source": [
    "### 1.3 Loading In Standard Libraries\n",
    "\n",
    "To do any useful operations, the standard MaterialX libraries need to be loaded.\n",
    "There libraries are found in in the 'libraries' folder in the installation location and as of\n",
    "1.38.7 is part of the Python package. \n",
    "\n",
    "The key interface to load in library definitions is called: `loadLibraries()` where:\n",
    "  * An input `FilePath` list specifies the library folders to load. \n",
    "  * An input `FileSearchPath()` specifies where to search for libraries. \n",
    "  * The names of files loaded is returned.\n",
    "\n",
    "For 1.38.7 and onwards, the recommended methods to set the file path and search path are:\n",
    "`getDefaultDataLibraryFolders()` and `getDefaultDataSearchPath()` respectively. In this workspace,\n",
    "a copy of the `libraries` folder has been added locally to guarantee that it will be found."
   ]
  },
  {
   "cell_type": "code",
   "execution_count": 147,
   "metadata": {},
   "outputs": [
    {
     "name": "stdout",
     "output_type": "stream",
     "text": [
      "Loaded 47 library files.\n"
     ]
    }
   ],
   "source": [
    "def haveVersion(major, minor, patch):\n",
    "    \"\"\"\n",
    "    Check if the current vesion matches a given version\n",
    "    \"\"\" \n",
    "    imajor, iminor, ipatch = mx.getVersionIntegers()\n",
    "    if imajor < major:\n",
    "        return False\n",
    "    if iminor < minor:\n",
    "        return False\n",
    "    if ipatch < patch:\n",
    "        return False\n",
    "    return True\n",
    "\n",
    "stdlib = mx.createDocument()\n",
    "libFiles = []\n",
    "if haveVersion(1, 38, 7):\n",
    "    searchPath = mx.getDefaultDataSearchPath()\n",
    "    libFiles = mx.loadLibraries(mx.getDefaultDataLibraryFolders(), searchPath, stdlib)\n",
    "else:\n",
    "    libraryPath = mx.FilePath('libraries')\n",
    "    searchPath = mx.FileSearchPath()\n",
    "    libFiles = mx.loadLibraries([ libraryPath ], searchPath, stdlib)\n",
    "\n",
    "# The list of library files loaded which which is returned is checked.\n",
    "if libFiles:\n",
    "    print('Loaded %d library files.' % len(libFiles))\n",
    "else:\n",
    "    print('No library files loaded.')"
   ]
  },
  {
   "attachments": {},
   "cell_type": "markdown",
   "metadata": {},
   "source": [
    "A document can use a definition library by \"importing\" them in using the `importLibrary()` interface.\n",
    "\n",
    "To check for proper loading a query to get the list of node definitions is performed\n",
    "using the `getNodeDefs()` interface."
   ]
  },
  {
   "cell_type": "code",
   "execution_count": 148,
   "metadata": {},
   "outputs": [
    {
     "name": "stdout",
     "output_type": "stream",
     "text": [
      "Definition count before import: 0\n",
      "Definition count after import : 739 \n"
     ]
    }
   ],
   "source": [
    "\n",
    "# Check node definition count before loading\n",
    "nodeDefinitionCount = len(doc.getNodeDefs())\n",
    "print('Definition count before import: %d' % nodeDefinitionCount) \n",
    "\n",
    "# Import the library document into the document\n",
    "doc.importLibrary(stdlib)\n",
    "\n",
    "# Check node definition count\n",
    "nodeDefinitionCount = len(doc.getNodeDefs())\n",
    "print('Definition count after import : %d ' % nodeDefinitionCount) "
   ]
  },
  {
   "attachments": {},
   "cell_type": "markdown",
   "metadata": {},
   "source": [
    " ## 2. Reading and Writing Documents\n",
    "\n",
    " Documents can be saved or loaded to/from a string, stream or to a file location.\n",
    " The native format supported is 'XML'.\n",
    "\n",
    " Please refer to the learning material about \"Documents\" for details about document management.\n",
    "\n",
    " ### 2.1 Writing and Reading From File\n",
    " For reading and writing:\n",
    " * `writeToXmlFile()` can be used for writing to a file\n",
    " * `readFromXmlFile()` can be used for reading from a file\n",
    "\n"
   ]
  },
  {
   "cell_type": "code",
   "execution_count": 149,
   "metadata": {},
   "outputs": [],
   "source": [
    "# Write out sample file\n",
    "filename = 'data/testfile.mtlx'\n",
    "mx.writeToXmlFile(doc, filename)\n",
    "\n",
    "# Read in a sample file\n",
    "testfileDoc = mx.createDocument()\n",
    "mx.readFromXmlFile(testfileDoc, filename)"
   ]
  },
  {
   "attachments": {},
   "cell_type": "markdown",
   "metadata": {},
   "source": [
    " ### 2.2 Document Validation\n",
    "\n",
    " When dealing with document content it is a useful to check if the contents are valid using the `validate()` function.\n",
    " A status code is returned along with a string containing error information if the validation checks failed."
   ]
  },
  {
   "cell_type": "code",
   "execution_count": 150,
   "metadata": {},
   "outputs": [
    {
     "name": "stdout",
     "output_type": "stream",
     "text": [
      "Document has no errors.\n"
     ]
    }
   ],
   "source": [
    "status, errors = doc.validate()\n",
    "if not status:\n",
    "    print('Invalid document. Errors: \"%s\"' %errors)\n",
    "else:\n",
    "    print('Document has no errors.')\n"
   ]
  },
  {
   "attachments": {},
   "cell_type": "markdown",
   "metadata": {},
   "source": [
    " ### 2.3 Writing and Reading From String\n",
    "\n",
    " The functions `writeToXmlString()` and `readFromXmlString()` can be used to write and read from a string. It can be useful to transfer the contents of a document via a string for interoperability as well as for debugging purposes.\n"
   ]
  },
  {
   "cell_type": "markdown",
   "metadata": {},
   "source": [
    " ### 2.4. Writing and Reading From URI\n",
    "\n",
    "XML read and write does not currently work directly with URI', as shown below. We handle the error by catching the `mx.ExceptionFileMissing` exception."
   ]
  },
  {
   "cell_type": "code",
   "execution_count": 151,
   "metadata": {},
   "outputs": [
    {
     "name": "stdout",
     "output_type": "stream",
     "text": [
      "Failed to open file for reading: https:\\raw.githubusercontent.com\\kwokcb\\MaterialX_Learn\\main\\pymaterialx\\data\\sample_nodegraph.mtlx\n"
     ]
    }
   ],
   "source": [
    "# Try reading from sample content on the Learning Github repo\n",
    "testUriDoc = mx.createDocument()\n",
    "uri = 'https://raw.githubusercontent.com/kwokcb/MaterialX_Learn/main/pymaterialx/data/sample_nodegraph.mtlx'\n",
    "\n",
    "try:\n",
    "    mx.readFromXmlFile(testUriDoc, uri)\n",
    "except mx.ExceptionFileMissing as e:\n",
    "    print(e)\n",
    "except mx.ExceptionParseError as e:\n",
    "    print(e)"
   ]
  },
  {
   "cell_type": "markdown",
   "metadata": {},
   "source": [
    "Instead the contents of the file must be read in and then passed to the `readFromXmlString()` interface for reading, or\n",
    "the contents need to be written out to a string using `writeToXmlString()` and then written to a file. Below is an example of using the `urllib` module to read."
   ]
  },
  {
   "cell_type": "code",
   "execution_count": 152,
   "metadata": {},
   "outputs": [
    {
     "name": "stdout",
     "output_type": "stream",
     "text": [
      "Read URI:\n",
      " <materialx version=\"1.38\">\n",
      "  <nodegraph name=\"test_nodegraph\">\n",
      "    <output name=\"out\" type=\"surfaceshader\" nodename=\"test_shader\">\n",
      "    <standard_surface name=\"test_shader\" type=\"surfaceshader\" nodedef=\"ND_standard_surface_surfaceshader\">\n",
      "      <input name=\"base_color\" type=\"color3\" nodename=\"test_image\">\n",
      "      <input name=\"base\" type=\"float\" interfacename=\"color_scale\">\n",
      "    <image name=\"test_image\" type=\"color3\" nodedef=\"ND_image_color3\">\n",
      "      <input name=\"file\" type=\"filename\" interfacename=\"input_file\">\n",
      "    <input name=\"input_file\" type=\"filename\" value=\"checker.png\">\n",
      "    <input name=\"color_scale\" type=\"float\" value=\"0.2\">\n",
      "  <surfacematerial name=\"my_material\" type=\"material\" nodedef=\"ND_surfacematerial\">\n",
      "    <input name=\"surfaceshader\" type=\"surfaceshader\" nodegraph=\"test_nodegraph\">\n",
      "\n"
     ]
    }
   ],
   "source": [
    "import urllib\n",
    "\n",
    "testUriDoc = mx.createDocument()\n",
    "try:\n",
    "    uriFile = urllib.request.urlopen(uri)\n",
    "    uriContents = uriFile.read().decode('utf-8')\n",
    "    mx.readFromXmlString(testUriDoc, uriContents)\n",
    "    print('Read URI:\\n', mx.prettyPrint(testUriDoc))\n",
    "except urllib.error.URLError as e:\n",
    "    print('Failed to read URI:', e)"
   ]
  },
  {
   "cell_type": "markdown",
   "metadata": {},
   "source": [
    "### 1.1.4 Filtering Document Content"
   ]
  },
  {
   "cell_type": "markdown",
   "metadata": {},
   "source": [
    "\n",
    " In this example we write the document (`doc`) to a string, read it back in to a new document (`doc1`) and print it's contents as a string.\n",
    " \n",
    " Note that documents loaded in from the standard libraries show up as XML `include` references in the main document."
   ]
  },
  {
   "cell_type": "code",
   "execution_count": 153,
   "metadata": {},
   "outputs": [
    {
     "name": "stdout",
     "output_type": "stream",
     "text": [
      "<?xml version=\"1.0\"?>\n",
      "<materialx version=\"1.38\" xmlns:xi=\"http://www.w3.org/2001/XInclude\">\n",
      "  <xi:include href=\"d:\\Work\\materialx\\MateralX_Learn_Private\\pymaterialx\\.venv\\lib\\site-packages\\MaterialX\\libraries\\bxdf\\disney_brdf_2012.mtlx\" />\n",
      "  <xi:include href=\"d:\\Work\\materialx\\MateralX_Learn_Private\\pymaterialx\\.venv\\lib\\site-packages\\MaterialX\\libraries\\bxdf\\disney_brdf_2015.mtlx\" />\n",
      "  <xi:include href=\"d:\\Work\\materialx\\MateralX_Learn_Private\\pymaterialx\\.venv\\lib\\site-packages\\MaterialX\\libraries\\bxdf\\gltf_pbr.mtlx\" />\n",
      "  <xi:include href=\"d:\\Work\\materialx\\MateralX_Learn_Private\\pymaterialx\\.venv\\lib\\site-packages\\MaterialX\\libraries\\bxdf\\standard_surface.mtlx\" />\n",
      "  <xi:include href=\"d:\\Work\\materialx\\MateralX_Learn_Private\\pymaterialx\\.venv\\lib\\site-packages\\MaterialX\\libraries\\bxdf\\usd_preview_surface.mtlx\" />\n",
      "  <xi:include href=\"d:\\Work\\materialx\\MateralX_Learn_Private\\pymaterialx\\.venv\\lib\\site-packages\\MaterialX\\libraries\\bxdf\\lama\\lama_add.mtlx\" />\n",
      "  <xi:include href=\"d:\\Work\\materialx\\MateralX_Learn_Private\\pymaterialx\\.venv\\lib\\site-packages\\MaterialX\\libraries\\bxdf\\lama\\lama_conductor.mtlx\" />\n",
      "  <xi:include href=\"d:\\Work\\materialx\\MateralX_Learn_Private\\pymaterialx\\.venv\\lib\\site-packages\\MaterialX\\libraries\\bxdf\\lama\\lama_dielectric.mtlx\" />\n",
      "  <xi:include href=\"d:\\Work\\materialx\\MateralX_Learn_Private\\pymaterialx\\.venv\\lib\\site-packages\\MaterialX\\libraries\\bxdf\\lama\\lama_diffuse.mtlx\" />\n",
      "  <xi:include href=\"d:\\Work\\materialx\\MateralX_Learn_Private\\pymaterialx\\.venv\\lib\\site-packages\\MaterialX\\libraries\\bxdf\\lama\\lama_emission.mtlx\" />\n",
      "  <xi:include href=\"d:\\Work\\materialx\\MateralX_Learn_Private\\pymaterialx\\.venv\\lib\\site-packages\\MaterialX\\libraries\\bxdf\\lama\\lama_layer.mtlx\" />\n",
      "  <xi:include href=\"d:\\Work\\materialx\\MateralX_Learn_Private\\pymaterialx\\.venv\\lib\\site-packages\\MaterialX\\libraries\\bxdf\\lama\\lama_mix.mtlx\" />\n",
      "  <xi:include href=\"d:\\Work\\materialx\\MateralX_Learn_Private\\pymaterialx\\.venv\\lib\\site-packages\\MaterialX\\libraries\\bxdf\\lama\\lama_sheen.mtlx\" />\n",
      "  <xi:include href=\"d:\\Work\\materialx\\MateralX_Learn_Private\\pymaterialx\\.venv\\lib\\site-packages\\MaterialX\\libraries\\bxdf\\lama\\lama_sss.mtlx\" />\n",
      "  <xi:include href=\"d:\\Work\\materialx\\MateralX_Learn_Private\\pymaterialx\\.venv\\lib\\site-packages\\MaterialX\\libraries\\bxdf\\lama\\lama_translucent.mtlx\" />\n",
      "  <xi:include href=\"d:\\Work\\materialx\\MateralX_Learn_Private\\pymaterialx\\.venv\\lib\\site-packages\\MaterialX\\libraries\\bxdf\\translation\\standard_surface_to_gltf_pbr.mtlx\" />\n",
      "  <xi:include href=\"d:\\Work\\materialx\\MateralX_Learn_Private\\pymaterialx\\.venv\\lib\\site-packages\\MaterialX\\libraries\\bxdf\\translation\\standard_surface_to_usd.mtlx\" />\n",
      "  <xi:include href=\"d:\\Work\\materialx\\MateralX_Learn_Private\\pymaterialx\\.venv\\lib\\site-packages\\MaterialX\\libraries\\cmlib\\cmlib_defs.mtlx\" />\n",
      "  <xi:include href=\"d:\\Work\\materialx\\MateralX_Learn_Private\\pymaterialx\\.venv\\lib\\site-packages\\MaterialX\\libraries\\cmlib\\cmlib_ng.mtlx\" />\n",
      "  <xi:include href=\"d:\\Work\\materialx\\MateralX_Learn_Private\\pymaterialx\\.venv\\lib\\site-packages\\MaterialX\\libraries\\lights\\lights_defs.mtlx\" />\n",
      "  <xi:include href=\"d:\\Work\\materialx\\MateralX_Learn_Private\\pymaterialx\\.venv\\lib\\site-packages\\MaterialX\\libraries\\lights\\genglsl\\lights_genglsl_impl.mtlx\" />\n",
      "  <xi:include href=\"d:\\Work\\materialx\\MateralX_Learn_Private\\pymaterialx\\.venv\\lib\\site-packages\\MaterialX\\libraries\\lights\\genmsl\\lights_genmsl_impl.mtlx\" />\n",
      "  <xi:include href=\"d:\\Work\\materialx\\MateralX_Learn_Private\\pymaterialx\\.venv\\lib\\site-packages\\MaterialX\\libraries\\pbrlib\\pbrlib_defs.mtlx\" />\n",
      "  <xi:include href=\"d:\\Work\\materialx\\MateralX_Learn_Private\\pymaterialx\\.venv\\lib\\site-packages\\MaterialX\\libraries\\pbrlib\\pbrlib_ng.mtlx\" />\n",
      "  <xi:include href=\"d:\\Work\\materialx\\MateralX_Learn_Private\\pymaterialx\\.venv\\lib\\site-packages\\MaterialX\\libraries\\pbrlib\\genglsl\\pbrlib_genglsl_impl.mtlx\" />\n",
      "  <xi:include href=\"d:\\Work\\materialx\\MateralX_Learn_Private\\pymaterialx\\.venv\\lib\\site-packages\\MaterialX\\libraries\\pbrlib\\genmdl\\pbrlib_genmdl_impl.mtlx\" />\n",
      "  <xi:include href=\"d:\\Work\\materialx\\MateralX_Learn_Private\\pymaterialx\\.venv\\lib\\site-packages\\MaterialX\\libraries\\pbrlib\\genmsl\\pbrlib_genmsl_impl.mtlx\" />\n",
      "  <xi:include href=\"d:\\Work\\materialx\\MateralX_Learn_Private\\pymaterialx\\.venv\\lib\\site-packages\\MaterialX\\libraries\\pbrlib\\genosl\\pbrlib_genosl_impl.mtlx\" />\n",
      "  <xi:include href=\"d:\\Work\\materialx\\MateralX_Learn_Private\\pymaterialx\\.venv\\lib\\site-packages\\MaterialX\\libraries\\stdlib\\stdlib_defs.mtlx\" />\n",
      "  <xi:include href=\"d:\\Work\\materialx\\MateralX_Learn_Private\\pymaterialx\\.venv\\lib\\site-packages\\MaterialX\\libraries\\stdlib\\stdlib_ng.mtlx\" />\n",
      "  <xi:include href=\"d:\\Work\\materialx\\MateralX_Learn_Private\\pymaterialx\\.venv\\lib\\site-packages\\MaterialX\\libraries\\stdlib\\genglsl\\stdlib_genglsl_cm_impl.mtlx\" />\n",
      "  <xi:include href=\"d:\\Work\\materialx\\MateralX_Learn_Private\\pymaterialx\\.venv\\lib\\site-packages\\MaterialX\\libraries\\stdlib\\genglsl\\stdlib_genglsl_impl.mtlx\" />\n",
      "  <xi:include href=\"d:\\Work\\materialx\\MateralX_Learn_Private\\pymaterialx\\.venv\\lib\\site-packages\\MaterialX\\libraries\\stdlib\\genglsl\\stdlib_genglsl_unit_impl.mtlx\" />\n",
      "  <xi:include href=\"d:\\Work\\materialx\\MateralX_Learn_Private\\pymaterialx\\.venv\\lib\\site-packages\\MaterialX\\libraries\\stdlib\\genmdl\\stdlib_genmdl_cm_impl.mtlx\" />\n",
      "  <xi:include href=\"d:\\Work\\materialx\\MateralX_Learn_Private\\pymaterialx\\.venv\\lib\\site-packages\\MaterialX\\libraries\\stdlib\\genmdl\\stdlib_genmdl_impl.mtlx\" />\n",
      "  <xi:include href=\"d:\\Work\\materialx\\MateralX_Learn_Private\\pymaterialx\\.venv\\lib\\site-packages\\MaterialX\\libraries\\stdlib\\genmdl\\stdlib_genmdl_unit_impl.mtlx\" />\n",
      "  <xi:include href=\"d:\\Work\\materialx\\MateralX_Learn_Private\\pymaterialx\\.venv\\lib\\site-packages\\MaterialX\\libraries\\stdlib\\genmsl\\stdlib_genmsl_cm_impl.mtlx\" />\n",
      "  <xi:include href=\"d:\\Work\\materialx\\MateralX_Learn_Private\\pymaterialx\\.venv\\lib\\site-packages\\MaterialX\\libraries\\stdlib\\genmsl\\stdlib_genmsl_impl.mtlx\" />\n",
      "  <xi:include href=\"d:\\Work\\materialx\\MateralX_Learn_Private\\pymaterialx\\.venv\\lib\\site-packages\\MaterialX\\libraries\\stdlib\\genmsl\\stdlib_genmsl_unit_impl.mtlx\" />\n",
      "  <xi:include href=\"d:\\Work\\materialx\\MateralX_Learn_Private\\pymaterialx\\.venv\\lib\\site-packages\\MaterialX\\libraries\\stdlib\\genosl\\stdlib_genosl_cm_impl.mtlx\" />\n",
      "  <xi:include href=\"d:\\Work\\materialx\\MateralX_Learn_Private\\pymaterialx\\.venv\\lib\\site-packages\\MaterialX\\libraries\\stdlib\\genosl\\stdlib_genosl_impl.mtlx\" />\n",
      "  <xi:include href=\"d:\\Work\\materialx\\MateralX_Learn_Private\\pymaterialx\\.venv\\lib\\site-packages\\MaterialX\\libraries\\stdlib\\genosl\\stdlib_genosl_unit_impl.mtlx\" />\n",
      "  <xi:include href=\"d:\\Work\\materialx\\MateralX_Learn_Private\\pymaterialx\\.venv\\lib\\site-packages\\MaterialX\\libraries\\targets\\essl.mtlx\" />\n",
      "  <xi:include href=\"d:\\Work\\materialx\\MateralX_Learn_Private\\pymaterialx\\.venv\\lib\\site-packages\\MaterialX\\libraries\\targets\\genglsl.mtlx\" />\n",
      "  <xi:include href=\"d:\\Work\\materialx\\MateralX_Learn_Private\\pymaterialx\\.venv\\lib\\site-packages\\MaterialX\\libraries\\targets\\genmdl.mtlx\" />\n",
      "  <xi:include href=\"d:\\Work\\materialx\\MateralX_Learn_Private\\pymaterialx\\.venv\\lib\\site-packages\\MaterialX\\libraries\\targets\\genmsl.mtlx\" />\n",
      "  <xi:include href=\"d:\\Work\\materialx\\MateralX_Learn_Private\\pymaterialx\\.venv\\lib\\site-packages\\MaterialX\\libraries\\targets\\genosl.mtlx\" />\n",
      "</materialx>\n",
      "\n"
     ]
    }
   ],
   "source": [
    "# Write file to a document\n",
    "documentContents = mx.writeToXmlString(doc)\n",
    "\n",
    "# Read back into a new document and write to string again\n",
    "doc1 = mx.createDocument()\n",
    "mx.readFromXmlString(doc1, documentContents)\n",
    "documentContents = mx.writeToXmlString(doc1)\n",
    "print(documentContents)"
   ]
  },
  {
   "attachments": {},
   "cell_type": "markdown",
   "metadata": {},
   "source": [
    "To remove these desired references to the library a \"filter\" can be specified when writing. \n",
    "\n",
    "It is recommended that this **always be performed** to avoid adding explicit dependencies on definitions and/or file locations.\n",
    "\n",
    "To add the filter create an options structure called (`XmlWriteOptions`). \n",
    "To this a \"predicate\" function can be added. This predicate is called for every element in the document,\n",
    "and returns whether to write out a given element. \n",
    "\n",
    "A custom predicate is used to skip writing out \"library elements\", which can be found by testing the existence of \n",
    "a \"source URI\" indicating that it was \"imported\".  \n",
    "\n",
    "> Refer to Documents learning guide for more details."
   ]
  },
  {
   "cell_type": "code",
   "execution_count": 154,
   "metadata": {},
   "outputs": [
    {
     "name": "stdout",
     "output_type": "stream",
     "text": [
      "<?xml version=\"1.0\"?>\n",
      "<materialx version=\"1.38\" />\n",
      "\n"
     ]
    }
   ],
   "source": [
    "# Declare write predicate for write filter test.\n",
    "# Elements which were imported via importLibrary() will have a \"source URI\" which is not empty.\n",
    "def skipLibraryElement(elem):\n",
    "    return not elem.hasSourceUri()\n",
    "\n",
    "# Declare write options and set the predicate.\n",
    "writeOptions = mx.XmlWriteOptions()\n",
    "\n",
    "if haveVersion(1, 38, 7):\n",
    "    writeOptions.writeXIncludeEnable = False\n",
    "    writeOptions.elementPredicate = skipLibraryElement\n",
    "\n",
    "# Perform write\n",
    "documentContents = mx.writeToXmlString(doc, writeOptions)\n",
    "mx.writeToXmlFile(doc, filename, writeOptions)\n",
    "\n",
    "# Read back into a new document and write to string again.\n",
    "# Due to the predicate usage the document no longer outputs library definitions.\n",
    "doc1 = mx.createDocument()\n",
    "mx.readFromXmlString(doc1, documentContents)\n",
    "documentContents = mx.writeToXmlString(doc1)\n",
    "print(documentContents)"
   ]
  },
  {
   "attachments": {},
   "cell_type": "markdown",
   "metadata": {},
   "source": [
    "This will only work with version 1.38.7 and later due to a Python limitation. Before this release, the elements can be removed from the document as required. The `removeRefencedElements()` utility does this by traversing through all children and remove the element if it has a source URI. Note that this can be used to remove any elements from documents which are included using xml `Xinclude` declarations."
   ]
  },
  {
   "cell_type": "code",
   "execution_count": 155,
   "metadata": {},
   "outputs": [
    {
     "name": "stdout",
     "output_type": "stream",
     "text": [
      "<?xml version=\"1.0\"?>\n",
      "<materialx version=\"1.38\" />\n",
      "\n"
     ]
    }
   ],
   "source": [
    "def removeReferencedElements(doc):\n",
    "    \"\"\"\n",
    "    Remove any elements which are referenced in. That is has a source URI.\n",
    "    \"\"\"\n",
    "    for elem in doc.getChildren():\n",
    "        if elem.hasSourceUri():\n",
    "            doc.removeChild(elem.getName())\n",
    "\n",
    "doc2 = mx.createDocument()\n",
    "doc2.copyContentFrom(doc)\n",
    "removeReferencedElements(doc2)\n",
    "documentContents = mx.writeToXmlString(doc2)\n",
    "print(documentContents)"
   ]
  },
  {
   "attachments": {},
   "cell_type": "markdown",
   "metadata": {},
   "source": [
    " ## 3 Node Creation\n",
    "\n",
    "A node must always be created under a \"parent\" graph. This can be at the top level under the document or within a node graph.\n",
    "Any node created must have a unique name among all the children of the parent.\n",
    "\n",
    "The `createValidChildName()` can be used to guarantee that a unique \"child\" name is generated.\n",
    "\n",
    "> In the examples given the utility `prettyPrint()` will be used to view the contents of\n",
    "an element (in XML format)."
   ]
  },
  {
   "attachments": {},
   "cell_type": "markdown",
   "metadata": {},
   "source": [
    " ### 3.1 Creating Nodes Using `addNodeInstance()`\n",
    "\n",
    " The recommended logic to create a node is to \n",
    "\n",
    " 1. Determine the `category` of node to create. \n",
    " 2. Find all possible node definitions for the `category` using the interface `getMatchingNodeDefs()`.\n",
    " 3. If multiple variants exist, choose one based criteria such as `type` and/or `version`\n",
    " 4. Use the appropriate definition to create the node using the `addNodeInstance()` interface.\n",
    "\n",
    "This approach only requires the user to know the category and type or version. Node definition names do not need to be known, and\n",
    "it is not possible to create invalid data.\n",
    "\n",
    "Steps 2 and 3, can be done for an entire library to create a dictionary of definitions which can be reused. Both the \"Library\" reference found here and the MaterialX Node Editor builds such dictionaries. The `mxdoc.py` sample utility has sample code of building such a dictionary which is grouped by `category`. "
   ]
  },
  {
   "attachments": {},
   "cell_type": "markdown",
   "metadata": {},
   "source": [
    "\n",
    "  In this example all the variants of [image](https://kwokcb.github.io/MaterialX_Learn/documents/definitions/image.html) are queried with the `color3` variant being chosen to be created. \n",
    "  \n",
    "  Steps 2 and 3 are encapsulated into a reusable utility called `getNodeDefinition()`  "
   ]
  },
  {
   "cell_type": "code",
   "execution_count": 156,
   "metadata": {},
   "outputs": [
    {
     "name": "stdout",
     "output_type": "stream",
     "text": [
      "1. Scan for nodedef with category image, type color3\n",
      "2. Found matching definition:\n",
      " <nodedef name=\"ND_image_color3\" node=\"image\" nodegroup=\"texture2d\">\n",
      "  <input name=\"file\" type=\"filename\" value=\"\" uiname=\"Filename\" uniform=\"true\">\n",
      "  <input name=\"layer\" type=\"string\" value=\"\" uiname=\"Layer\" uniform=\"true\">\n",
      "  <input name=\"default\" type=\"color3\" value=\"0.0, 0.0, 0.0\" uiname=\"Default Color\">\n",
      "  <input name=\"texcoord\" type=\"vector2\" defaultgeomprop=\"UV0\" uiname=\"Texture Coordinates\">\n",
      "  <input name=\"uaddressmode\" type=\"string\" value=\"periodic\" enum=\"constant,clamp,periodic,mirror\" uiname=\"Address Mode U\" uniform=\"true\">\n",
      "  <input name=\"vaddressmode\" type=\"string\" value=\"periodic\" enum=\"constant,clamp,periodic,mirror\" uiname=\"Address Mode V\" uniform=\"true\">\n",
      "  <input name=\"filtertype\" type=\"string\" value=\"linear\" enum=\"closest,linear,cubic\" uiname=\"Filter Type\" uniform=\"true\">\n",
      "  <input name=\"framerange\" type=\"string\" value=\"\" uiname=\"Frame Range\" uniform=\"true\">\n",
      "  <input name=\"frameoffset\" type=\"integer\" value=\"0\" uiname=\"Frame Offset\" uniform=\"true\">\n",
      "  <input name=\"frameendaction\" type=\"string\" value=\"constant\" enum=\"constant,clamp,periodic,mirror\" uiname=\"Frame End Action\" uniform=\"true\">\n",
      "  <output name=\"out\" type=\"color3\" default=\"0.0, 0.0, 0.0\">\n",
      "\n",
      "3. Created node: <image name=\"image\" type=\"color3\" nodedef=\"ND_image_color3\">\n",
      "\n"
     ]
    }
   ],
   "source": [
    "def getNodeDefinition(doc, category, desiredType):\n",
    "    \n",
    "    # 1. Search for appropriate 'image' catetory node definitions (nodedefs) \n",
    "    nodedefs = doc.getMatchingNodeDefs(category)\n",
    "\n",
    "    # 2. Filter by the desired type\n",
    "    foundNodeDef = None\n",
    "    for nodedef in nodedefs:\n",
    "        if nodedef.getType() == desiredType:\n",
    "            foundNodeDef = nodedef\n",
    "            break\n",
    "\n",
    "    return foundNodeDef\n",
    "\n",
    "searchCategory = 'image'\n",
    "searchType = 'color3'\n",
    "print('1. Scan for nodedef with category %s, type %s' % (searchCategory, searchType))\n",
    "desiredNodedef = getNodeDefinition(doc, searchCategory, searchType)\n",
    "\n",
    "if desiredNodedef:\n",
    "    print('2. Found matching definition:\\n %s' % mx.prettyPrint(desiredNodedef)) \n",
    "\n",
    "    # 3. Create a node using the node definition found. Use `createValidChildName` to\n",
    "    # avoid duplicate name clashes\n",
    "    name = doc.createValidChildName(searchCategory)\n",
    "    newNode = doc.addNodeInstance(desiredNodedef, name)\n",
    "    if newNode:\n",
    "        print('3. Created node: %s' % mx.prettyPrint(newNode))\n",
    "else:\n",
    "    print('Failed to find desired nodedef.')\n"
   ]
  },
  {
   "attachments": {},
   "cell_type": "markdown",
   "metadata": {},
   "source": [
    "### 3.2 Minimal Creation Logic\n",
    "\n",
    " When node definition names are known before-hand (as noted for the dictionary workflow), the minimal logic is to find the definition using the `getNodeDef()` interface, and then calling `addNodeInstance()`. \n",
    "\n",
    " This will be the logic used here and in other tutorials assuming we know ahead of time what the names are.\n",
    " \n",
    " >  Please refer to the node [library documentation](https://kwokcb.github.io/MaterialX_Learn/documents/definitions/definitions_by_group.html) for available node definition names.\n",
    "\n",
    " In this example a [standard_surface](https://kwokcb.github.io/MaterialX_Learn/documents/definitions/standard_surface.html) node will be created."
   ]
  },
  {
   "cell_type": "code",
   "execution_count": 157,
   "metadata": {},
   "outputs": [
    {
     "name": "stdout",
     "output_type": "stream",
     "text": [
      "Created node via nodedef \"ND_standard_surface_surfaceshader\"\n",
      " - <standard_surface name=\"test_shader\" type=\"surfaceshader\" nodedef=\"ND_standard_surface_surfaceshader\">\n",
      "\n"
     ]
    }
   ],
   "source": [
    "def addNode(parent, definitionName, name):\n",
    "    newNode = None\n",
    "\n",
    "    doc = parent.getDocument()\n",
    "    nodedef = doc.getNodeDef(definitionName)\n",
    "    if nodedef:\n",
    "        childName = parent.createValidChildName(name)\n",
    "        newNode = parent.addNodeInstance(nodedef, childName)\n",
    "    return newNode    \n",
    "\n",
    "definitionName = 'ND_standard_surface_surfaceshader'\n",
    "nodeName = 'test_shader'\n",
    "shaderNode = addNode(doc, definitionName, nodeName)\n",
    "if shaderNode:\n",
    "    shaderName = shaderNode.getName()\n",
    "    print('Created node via nodedef \"%s\"' % definitionName)\n",
    "    print(' - %s' % mx.prettyPrint(shaderNode))"
   ]
  },
  {
   "attachments": {},
   "cell_type": "markdown",
   "metadata": {},
   "source": [
    "**Performance Tip**\n",
    " \n",
    "As the instance has the definition directly specified, this can result in faster node creation when a document is being read."
   ]
  },
  {
   "attachments": {},
   "cell_type": "markdown",
   "metadata": {},
   "source": [
    "## 4 Modifying Input Values\n",
    "\n",
    "This example will show a simple change on one of the input parameters on the shader `test_shader` just created.\n",
    "\n",
    "As mentioned in the specification and the `Node and NodeGraphs` learning material, a node instance\n",
    "will only create and store inputs if they have non-default values. Thus in this example\n",
    "there are no inputs to set on `test_shader`. \n",
    "\n",
    "To avoid having to worry whether an input exists or not, the most robust approach is to either pre-create all the inputs on a node instance using `addInputsFromNodeDef()` or individually using `addInputFromNodeDef()` \n"
   ]
  },
  {
   "attachments": {},
   "cell_type": "markdown",
   "metadata": {},
   "source": [
    "**Example 1** : Adding only the input of interest"
   ]
  },
  {
   "cell_type": "code",
   "execution_count": 158,
   "metadata": {},
   "outputs": [
    {
     "name": "stdout",
     "output_type": "stream",
     "text": [
      "1a. Add / modified input on:\n",
      "<standard_surface name=\"test_shader\" type=\"surfaceshader\" nodedef=\"ND_standard_surface_surfaceshader\">\n",
      "  <input name=\"base_color\" type=\"color3\" value=\"0.4, 0.3, 0.2\">\n",
      "\n",
      "1b. Modified input on:\n",
      "<standard_surface name=\"test_shader\" type=\"surfaceshader\" nodedef=\"ND_standard_surface_surfaceshader\">\n",
      "  <input name=\"base_color\" type=\"color3\" value=\"0.9, 0.8, 0.7\">\n",
      "\n"
     ]
    }
   ],
   "source": [
    "# Color to set input to\n",
    "color = mx.Color3(0.4, 0.3, 0.2)\n",
    "\n",
    "# Add the input if it does not exist. Then modify it's value\n",
    "baseColorInput = shaderNode.addInputFromNodeDef('base_color')\n",
    "if baseColorInput:\n",
    "    baseColorInput.setValue(color)\n",
    "    print('1a. Add / modified input on:\\n%s' % mx.prettyPrint(shaderNode))\n",
    "\n",
    "    # Note that the input once found can be used for additional modifications\n",
    "    color = mx.Color3(0.9, 0.8, 0.7)\n",
    "    baseColorInput.setValue(color)\n",
    "    print('1b. Modified input on:\\n%s' % mx.prettyPrint(shaderNode))\n"
   ]
  },
  {
   "attachments": {},
   "cell_type": "markdown",
   "metadata": {},
   "source": [
    "> Note: The inputs can be removed from the instance to restore the default value. "
   ]
  },
  {
   "cell_type": "code",
   "execution_count": 159,
   "metadata": {},
   "outputs": [
    {
     "name": "stdout",
     "output_type": "stream",
     "text": [
      "Before: Shader node instance has: 1 explcit inputs\n",
      "After: Shader node instance has: 0 explcit inputs\n",
      "   <standard_surface name=\"test_shader\" type=\"surfaceshader\" nodedef=\"ND_standard_surface_surfaceshader\">\n",
      "\n"
     ]
    }
   ],
   "source": [
    "# Removing the input on the \"instance\" does not mean it has not value.\n",
    "    # The value is the default value.\n",
    "if baseColorInput and shaderNode:\n",
    "    print('Before: Shader node instance has: %d explcit inputs' % len(shaderNode.getInputs()))    \n",
    "    shaderNode.removeInput(baseColorInput.getName())\n",
    "    print('After: Shader node instance has: %d explcit inputs' % len(shaderNode.getInputs()))\n",
    "    print('   %s' % mx.prettyPrint(shaderNode))"
   ]
  },
  {
   "attachments": {},
   "cell_type": "markdown",
   "metadata": {},
   "source": [
    "**Example 2** : Adding all inputs based on the definition\n",
    "\n",
    "Creating all of the  inputs removes the overhead of worrying if an input exists as well as not \"hiding\" inputs from users.\n",
    "However all inputs will be written to file, even if they have default values so file size can be relatively larger as shown in the sample output."
   ]
  },
  {
   "cell_type": "code",
   "execution_count": 160,
   "metadata": {},
   "outputs": [
    {
     "name": "stdout",
     "output_type": "stream",
     "text": [
      "2. Add all default input values on:\n",
      "<standard_surface name=\"test_shader2\" type=\"surfaceshader\" nodedef=\"ND_standard_surface_surfaceshader\">\n",
      "  <input name=\"base\" type=\"float\" value=\"1.0\">\n",
      "  <input name=\"base_color\" type=\"color3\" value=\"0.8, 0.8, 0.8\">\n",
      "  <input name=\"diffuse_roughness\" type=\"float\" value=\"0\">\n",
      "  <input name=\"metalness\" type=\"float\" value=\"0\">\n",
      "  <input name=\"specular\" type=\"float\" value=\"1\">\n",
      "  <input name=\"specular_color\" type=\"color3\" value=\"1, 1, 1\">\n",
      "  <input name=\"specular_roughness\" type=\"float\" value=\"0.2\">\n",
      "  <input name=\"specular_IOR\" type=\"float\" value=\"1.5\">\n",
      "  <input name=\"specular_anisotropy\" type=\"float\" value=\"0\">\n",
      "  <input name=\"specular_rotation\" type=\"float\" value=\"0\">\n",
      "  <input name=\"transmission\" type=\"float\" value=\"0\">\n",
      "  <input name=\"transmission_color\" type=\"color3\" value=\"1, 1, 1\">\n",
      "  <input name=\"transmission_depth\" type=\"float\" value=\"0\">\n",
      "  <input name=\"transmission_scatter\" type=\"color3\" value=\"0, 0, 0\">\n",
      "  <input name=\"transmission_scatter_anisotropy\" type=\"float\" value=\"0\">\n",
      "  <input name=\"transmission_dispersion\" type=\"float\" value=\"0\">\n",
      "  <input name=\"transmission_extra_roughness\" type=\"float\" value=\"0\">\n",
      "  <input name=\"subsurface\" type=\"float\" value=\"0\">\n",
      "  <input name=\"subsurface_color\" type=\"color3\" value=\"1, 1, 1\">\n",
      "  <input name=\"subsurface_radius\" type=\"color3\" value=\"1, 1, 1\">\n",
      "  <input name=\"subsurface_scale\" type=\"float\" value=\"1\">\n",
      "  <input name=\"subsurface_anisotropy\" type=\"float\" value=\"0\">\n",
      "  <input name=\"sheen\" type=\"float\" value=\"0\">\n",
      "  <input name=\"sheen_color\" type=\"color3\" value=\"1, 1, 1\">\n",
      "  <input name=\"sheen_roughness\" type=\"float\" value=\"0.3\">\n",
      "  <input name=\"coat\" type=\"float\" value=\"0\">\n",
      "  <input name=\"coat_color\" type=\"color3\" value=\"1, 1, 1\">\n",
      "  <input name=\"coat_roughness\" type=\"float\" value=\"0.1\">\n",
      "  <input name=\"coat_anisotropy\" type=\"float\" value=\"0.0\">\n",
      "  <input name=\"coat_rotation\" type=\"float\" value=\"0.0\">\n",
      "  <input name=\"coat_IOR\" type=\"float\" value=\"1.5\">\n",
      "  <input name=\"coat_normal\" type=\"vector3\">\n",
      "  <input name=\"coat_affect_color\" type=\"float\" value=\"0\">\n",
      "  <input name=\"coat_affect_roughness\" type=\"float\" value=\"0\">\n",
      "  <input name=\"thin_film_thickness\" type=\"float\" value=\"0\">\n",
      "  <input name=\"thin_film_IOR\" type=\"float\" value=\"1.5\">\n",
      "  <input name=\"emission\" type=\"float\" value=\"0\">\n",
      "  <input name=\"emission_color\" type=\"color3\" value=\"1, 1, 1\">\n",
      "  <input name=\"opacity\" type=\"color3\" value=\"1, 1, 1\">\n",
      "  <input name=\"thin_walled\" type=\"boolean\" value=\"false\">\n",
      "  <input name=\"normal\" type=\"vector3\">\n",
      "  <input name=\"tangent\" type=\"vector3\">\n",
      "\n"
     ]
    }
   ],
   "source": [
    "# Add all inputs to see all the default values\n",
    "shaderNode2 = addNode(doc, definitionName, nodeName)\n",
    "shaderNode2.addInputsFromNodeDef()\n",
    "print('2. Add all default input values on:\\n%s' % mx.prettyPrint(shaderNode2))\n",
    "\n",
    "# Clean up all inputs\n",
    "for input in shaderNode2.getInputs():\n",
    "    shaderNode2.removeInput(input.getName())"
   ]
  },
  {
   "attachments": {},
   "cell_type": "markdown",
   "metadata": {},
   "source": [
    "It is **not recommended** to simply set the input using the `setInputValue()` interface as this interface always creates an input even if it does not exist on the definition resulting in an invalid node. \n",
    "\n",
    "An additional step of pre-checking to see if the input is on the definition can be done manually, but this\n",
    "is automatically done by `addInputFromNodeDef()` so this is an unnecessary additional manual step.\n"
   ]
  },
  {
   "cell_type": "code",
   "execution_count": 161,
   "metadata": {},
   "outputs": [
    {
     "name": "stdout",
     "output_type": "stream",
     "text": [
      "Error: Added an invalid input on:\n",
      "<standard_surface name=\"test_shader\" type=\"surfaceshader\" nodedef=\"ND_standard_surface_surfaceshader\">\n",
      "  <input name=\"unknown_input\" type=\"color3\" value=\"0.1, 0.2, 0.3\">\n",
      "\n",
      "Add and modified a valid input on:\n",
      "<standard_surface name=\"test_shader\" type=\"surfaceshader\" nodedef=\"ND_standard_surface_surfaceshader\">\n",
      "  <input name=\"base_color\" type=\"color3\" value=\"0.1, 0.2, 0.3\">\n",
      "\n"
     ]
    }
   ],
   "source": [
    "color = mx.Color3(0.1, 0.2, 0.3)\n",
    "\n",
    "# Set an input value. The input does not exist but is still allowed to be set\n",
    "shaderNode.setInputValue('unknown_input', color)\n",
    "getcolor = shaderNode.getInputValue('unknown_input')\n",
    "print('Error: Added an invalid input on:\\n%s' % mx.prettyPrint(shaderNode))\n",
    "shaderNode.removeInput('unknown_input')\n",
    "\n",
    "# Check the defintion first before added.\n",
    "nodedef = shaderNode.getNodeDef()\n",
    "if nodedef.getInput('base_color'):\n",
    "    shaderNode.setInputValue('base_color', color)\n",
    "    getcolor = shaderNode.getInputValue('base_color')\n",
    "    print('Add and modified a valid input on:\\n%s' % mx.prettyPrint(shaderNode))\n",
    "    shaderNode.removeInput('base_color')\n"
   ]
  },
  {
   "attachments": {},
   "cell_type": "markdown",
   "metadata": {},
   "source": [
    " ## 5 Finding Nodes\n",
    "\n",
    "To check on the state of a document while editing, it is useful to query information back without writing the entire document out\n",
    "to file or string. This section includes some common interfaces for finding nodes in a document.\n",
    "\n",
    " ### 5.1 Individual Nodes\n",
    "\n",
    " Individual nodes can be found in a variety of ways:\n",
    " * By path ( `getDescendant` ): The most \"robust\" way to find a node is to use a `path` that explicitly points to where in the document hierarchy the node resides. All paths are relative to the element where `getDescendent` is being called from.\n",
    " * By child name ( `getChild` ): Is suitable for finding the direct child of a document or node graph but does search through hierarchies.\n",
    " \n",
    "\n",
    " Please see documentation about paths found [here](https://kwokcb.github.io/MaterialX_Learn/documents/nodes_and_nodegraphs.html)"
   ]
  },
  {
   "cell_type": "code",
   "execution_count": 162,
   "metadata": {},
   "outputs": [
    {
     "name": "stdout",
     "output_type": "stream",
     "text": [
      "- Found node by name: test_shader\n",
      "- Found node by path: test_shader\n"
     ]
    }
   ],
   "source": [
    "# Method 1: Get descendent using name.\n",
    "shadernode = doc.getChild(nodeName)\n",
    "if shadernode:\n",
    "    print('- Found node by name:', nodeName)\n",
    "shadernode = doc.getDescendant(nodeName)\n",
    "if shadernode:\n",
    "    print('- Found node by path:', nodeName)\n"
   ]
  },
  {
   "attachments": {},
   "cell_type": "markdown",
   "metadata": {},
   "source": [
    " ### 5.2 Finding List of Nodes\n",
    "\n",
    " To get a list of all children of a document or node graph:\n",
    " * `getNodes()` returns all child nodes. \n",
    " * `getChildrenOfType()` returns a list of all children of a given type\n",
    " * `getChildren()` returns all children of any type. "
   ]
  },
  {
   "cell_type": "code",
   "execution_count": 163,
   "metadata": {},
   "outputs": [
    {
     "name": "stdout",
     "output_type": "stream",
     "text": [
      "Find using getNodes()\n",
      "- ['image', 'test_shader', 'test_shader2']\n",
      "Find using getChildrenOfType()\n",
      "- ['image', 'test_shader', 'test_shader2']\n",
      "Find using getChildren()\n",
      "- ['image', 'test_shader', 'test_shader2']\n"
     ]
    }
   ],
   "source": [
    "# Multiple element query\n",
    "print('Find using getNodes()')\n",
    "nodes = doc.getNodes()\n",
    "if nodes:\n",
    "    names = [ node.getName() for node in nodes ]\n",
    "    print(\"-\", names)\n",
    "\n",
    "# The type of a node is Node\n",
    "print('Find using getChildrenOfType()')\n",
    "nodes = doc.getChildrenOfType(mx.Node)\n",
    "if nodes:\n",
    "    names = [ node.getName() for node in nodes ]\n",
    "    print(\"-\", names)\n",
    "\n",
    "print('Find using getChildren()')\n",
    "elements = doc.getChildren()\n",
    "names = []\n",
    "for element in elements:\n",
    "    if element.isA(mx.Node):\n",
    "        names.append(element.getName())\n",
    "print(\"-\", names)\n",
    "\n"
   ]
  },
  {
   "attachments": {},
   "cell_type": "markdown",
   "metadata": {},
   "source": [
    " ### Addendum : Node Creation Issues\n",
    "\n",
    "This addendum includes an alternative interface which should be avoided for editing workflows as it is possible to create invalid data. \n",
    "Handing of `LookupError` exceptions, which can be thrown by MaterialX, is used in the examples.\n",
    " \n",
    "> Note however that these interfaces are used for file I/O and \"copy\" interface where validation is performed document as a separate step."
   ]
  },
  {
   "attachments": {},
   "cell_type": "markdown",
   "metadata": {},
   "source": [
    "**addNode() Example**\n",
    "\n",
    " `addNode()` is a low-level way to create a node using `category` string and `type` string.\n",
    " \n",
    " This method is error prone as it is possible to use undefined or invalid `category` and `type` identifiers. "
   ]
  },
  {
   "cell_type": "code",
   "execution_count": 164,
   "metadata": {},
   "outputs": [
    {
     "name": "stdout",
     "output_type": "stream",
     "text": [
      "Created node with invalid category and type: <invalid_category name=\"node1\" type=\"invalid_type\">\n",
      "\n"
     ]
    }
   ],
   "source": [
    "category = 'invalid_category'\n",
    "type = \"invalid_type\"\n",
    "name = ''\n",
    "newNode = doc.addNode(category, '', type)\n",
    "if newNode:\n",
    "    print('Created node with invalid category and type: %s' % mx.prettyPrint(newNode))\n",
    "    doc.removeNode(newNode.getName())"
   ]
  },
  {
   "attachments": {},
   "cell_type": "markdown",
   "metadata": {},
   "source": [
    "If an empty `name` is used this results in a new unique name generated for the node. \n",
    "However, if a child name is specified that already exists then creation will fail and throw an error exception."
   ]
  },
  {
   "cell_type": "code",
   "execution_count": 165,
   "metadata": {},
   "outputs": [
    {
     "name": "stdout",
     "output_type": "stream",
     "text": [
      "1. Created node with name: \"myname\"\n",
      "2. Failed trying to creae note with same name: \"Child name is not unique: myname\"\n"
     ]
    }
   ],
   "source": [
    "category = 'standard_surface'\n",
    "name = 'myname'\n",
    "try:\n",
    "    newNode = doc.addNode(category, name, 'surface_shader')\n",
    "except LookupError as err:\n",
    "    print(err)\n",
    "if newNode:\n",
    "    print('1. Created node with name: \"%s\"' % newNode.getName())\n",
    "\n",
    "# Creation fails as a node with the name already exist \n",
    "name = newNode.getName()\n",
    "try:\n",
    "    newNode = doc.addNode(category, name, type)\n",
    "except LookupError as err:\n",
    "    print('2. Failed trying to creae note with same name: \"%s\"' % err)"
   ]
  }
 ],
 "metadata": {
  "kernelspec": {
   "display_name": "Python 3",
   "language": "python",
   "name": "python3"
  },
  "language_info": {
   "codemirror_mode": {
    "name": "ipython",
    "version": 3
   },
   "file_extension": ".py",
   "mimetype": "text/x-python",
   "name": "python",
   "nbconvert_exporter": "python",
   "pygments_lexer": "ipython3",
   "version": "3.10.10"
  },
  "orig_nbformat": 4,
  "vscode": {
   "interpreter": {
    "hash": "e68bafc6deccff08e1ee0f9acfc0c6e898f368699f8f06df9a6af08fb2a0309e"
   }
  }
 },
 "nbformat": 4,
 "nbformat_minor": 2
}
