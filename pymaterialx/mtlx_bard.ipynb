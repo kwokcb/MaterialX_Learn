{
 "cells": [
  {
   "cell_type": "markdown",
   "metadata": {},
   "source": [
    "## Google Bard Experiment\n",
    "\n",
    "Unlike ChatGPT (using `davinci-002`), Bard actually appears to scan for recent information about MaterialX and returns a reasonable answer for the simple query of what's the latest version.\n",
    "\n",
    "<img src=\"./images/google_bard_version_prompt.png\">\n",
    "\n",
    "It does however provide links to the the source material if available which is useful to jump to the original content. For example the reply here was linked to the MaterialX (`materialx.org`) site."
   ]
  },
  {
   "cell_type": "markdown",
   "metadata": {},
   "source": [
    "### Basic Knowledge\n",
    "\n",
    "Bard also appears to not be able to extract out basic knowledge of even node graphs. A couple of prompts to ask about nodegraph properties and how to group nodes returned mostly non-factual or \"nonsense\" replies.\n",
    "\n",
    "As neither had any source material attribution it is unclear where the information came from.\n",
    "\n",
    "<img src=\"./images/google_bard_nodegraph_prompt.png\">\n",
    "\n",
    "Note that while the it nice that the online Bard interface provides multiple \"drafts\", none were remotely close to the correct answer.\n",
    "\n",
    "<img src=\"./images/google_bard_nodegraph_prompt.png\">"
   ]
  },
  {
   "cell_type": "markdown",
   "metadata": {},
   "source": [
    "### Source Code Assistance"
   ]
  },
  {
   "cell_type": "markdown",
   "metadata": {},
   "source": [
    "Like ChatGPT, Bard will also \"make up\" code using APIs which don't exist. The following is the result of asking Bard to create a MaterialX node of type \"image\". Even the import statement is incorrect..."
   ]
  },
  {
   "cell_type": "code",
   "execution_count": 3,
   "metadata": {},
   "outputs": [
    {
     "ename": "ModuleNotFoundError",
     "evalue": "No module named 'materialx'",
     "output_type": "error",
     "traceback": [
      "\u001b[1;31m---------------------------------------------------------------------------\u001b[0m",
      "\u001b[1;31mModuleNotFoundError\u001b[0m                       Traceback (most recent call last)",
      "Cell \u001b[1;32mIn[3], line 1\u001b[0m\n\u001b[1;32m----> 1\u001b[0m \u001b[39mimport\u001b[39;00m \u001b[39mmaterialx\u001b[39;00m \u001b[39mas\u001b[39;00m \u001b[39mmx\u001b[39;00m\n\u001b[0;32m      3\u001b[0m \u001b[39mdef\u001b[39;00m \u001b[39mcreate_image_node\u001b[39m():\n\u001b[0;32m      4\u001b[0m   \u001b[39m# Create a new node of type \"image\"\u001b[39;00m\n\u001b[0;32m      5\u001b[0m   node \u001b[39m=\u001b[39m mx\u001b[39m.\u001b[39mnodes\u001b[39m.\u001b[39mImage()\n",
      "\u001b[1;31mModuleNotFoundError\u001b[0m: No module named 'materialx'"
     ]
    }
   ],
   "source": [
    "import materialx as mx\n",
    "\n",
    "def create_image_node():\n",
    "  # Create a new node of type \"image\"\n",
    "  node = mx.nodes.Image()\n",
    "\n",
    "  # Set the node's label\n",
    "  node.label = 'Image'\n",
    "\n",
    "  # Set the node's image\n",
    "  node.image = mx.File()\n",
    "  node.image.filename = 'path_to_the_image'\n",
    "\n",
    "  # Return the node\n",
    "  return node\n",
    "\n",
    "# Create the node\n",
    "node = create_image_node()\n",
    "\n",
    "# Add the node to the scene\n",
    "mx.MaterialX.current_scene().nodes.append(node)"
   ]
  },
  {
   "cell_type": "markdown",
   "metadata": {},
   "source": [
    "As the C++ API is published online the hope was that C++ code generation would be better. This is not the case as the APIs used are the same \"fictional\" ones.  \n",
    "\n",
    "```cpp\n",
    "#include <materialx/materialx.h>\n",
    "\n",
    "mx::Node* create_image_node() {\n",
    "  // Create a new node of type \"image\"\n",
    "  mx::Node* node = new mx::nodes::Image();\n",
    "\n",
    "  // Set the node's label\n",
    "  node->set_label(\"Image\");\n",
    "\n",
    "  // Set the node's image\n",
    "  mx::File* image = new mx::File();\n",
    "  image->set_filename(\"path_to_the_image\");\n",
    "  node->set_image(image);\n",
    "\n",
    "  // Return the node\n",
    "  return node;\n",
    "}\n",
    "```"
   ]
  }
 ],
 "metadata": {
  "kernelspec": {
   "display_name": ".venv",
   "language": "python",
   "name": "python3"
  },
  "language_info": {
   "codemirror_mode": {
    "name": "ipython",
    "version": 3
   },
   "file_extension": ".py",
   "mimetype": "text/x-python",
   "name": "python",
   "nbconvert_exporter": "python",
   "pygments_lexer": "ipython3",
   "version": "3.10.10"
  },
  "orig_nbformat": 4
 },
 "nbformat": 4,
 "nbformat_minor": 2
}
