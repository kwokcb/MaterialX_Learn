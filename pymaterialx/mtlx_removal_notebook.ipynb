{
 "cells": [
  {
   "attachments": {},
   "cell_type": "markdown",
   "metadata": {},
   "source": [
    " ## Node Deletion\n",
    "\n",
    " There is one option for removing nodes, and that is by name. It is not recommended to use low level\n",
    " APIs such as `removeChild()` as they can remove non-nodes.\n",
    "\n",
    " In this example `getNodes()` is used to get the nodes and delete them one at a time.# Deleting Nodes\n"
   ]
  },
  {
   "attachments": {},
   "cell_type": "markdown",
   "metadata": {},
   "source": [
    "## Setup"
   ]
  },
  {
   "cell_type": "code",
   "execution_count": 1,
   "metadata": {},
   "outputs": [],
   "source": [
    "import MaterialX as mx\n",
    "\n",
    "libraryPath = mx.FilePath('libraries')\n",
    "stdlib = mx.createDocument()\n",
    "searchPath = mx.FileSearchPath()\n",
    "libFiles = mx.loadLibraries([ libraryPath ], searchPath, stdlib)\n",
    "\n",
    "doc = mx.createDocument()\n",
    "doc.importLibrary(stdlib)\n",
    "\n",
    "# Write predicate\n",
    "def skipLibraryElement(elem):\n",
    "    return not elem.hasSourceUri()"
   ]
  },
  {
   "attachments": {},
   "cell_type": "markdown",
   "metadata": {},
   "source": []
  },
  {
   "cell_type": "code",
   "execution_count": 2,
   "metadata": {},
   "outputs": [
    {
     "name": "stdout",
     "output_type": "stream",
     "text": [
      "Clear library:\n",
      "- Result:\n",
      "   <materialx version=\"1.38\">\n",
      "\n"
     ]
    }
   ],
   "source": [
    "# There is no way to remove all nodes at the same time, so we remove them\n",
    "# one at a timme\n",
    "print('Clear library:')\n",
    "for elem in doc.getChildren():\n",
    "    if elem.hasSourceUri():\n",
    "        doc.removeChild(elem.getName())\n",
    "\n",
    "print('- Result:')\n",
    "print('  ', mx.prettyPrint(doc))"
   ]
  }
 ],
 "metadata": {
  "kernelspec": {
   "display_name": ".venv",
   "language": "python",
   "name": "python3"
  },
  "language_info": {
   "codemirror_mode": {
    "name": "ipython",
    "version": 3
   },
   "file_extension": ".py",
   "mimetype": "text/x-python",
   "name": "python",
   "nbconvert_exporter": "python",
   "pygments_lexer": "ipython3",
   "version": "3.10.10"
  },
  "orig_nbformat": 4,
  "vscode": {
   "interpreter": {
    "hash": "5a1e4ae72c28e5dda2aa2f0312b2bc3d95bc8d852de19efe605de92732ab19fa"
   }
  }
 },
 "nbformat": 4,
 "nbformat_minor": 2
}
