{
 "cells": [
  {
   "attachments": {},
   "cell_type": "markdown",
   "metadata": {},
   "source": [
    "# Shader Generation\n",
    "\n",
    "This book will examine how to set up MaterialX for code generation. This book covers the <a href=\"https://github.com/AcademySoftwareFoundation/MaterialX/blob/main/python/Scripts/generateshader.py\" target=\"_blank\">\n",
    "generateshader.py</a> script provided as part of the core distribution.\n",
    "\n",
    "Topics covered:\n",
    "1. Shading language 'target's\n",
    "2. Module / library organization\n",
    "3. Setting up generators and generation contexts \n",
    "5. Real world units and color management \n",
    "6. Discovering \"renderable\" items, and generating code\n",
    "7. Extracting source code\n",
    "\n",
    "Details behind code generation, generation options, introspection / reflection,\n",
    "and input binding is covered as part of rendering.  \n",
    "\n",
    "Background on code generation can be found <a href=\"https://github.com/AcademySoftwareFoundation/MaterialX/blob/main/documents/DeveloperGuide/ShaderGeneration.md\" target =\"_blank\">here.</a>"
   ]
  },
  {
   "attachments": {},
   "cell_type": "markdown",
   "metadata": {},
   "source": [
    "## Code Generation Modules / Libraries\n",
    "\n",
    "For the Python distribution, each code generator resides in separate module in the MaterialX package. \n",
    "\n",
    "The name of each module is of the form:\n",
    "```\n",
    "   PyMaterialXGen<target>\n",
    "``` \n",
    "where target is the code generation target written in camel-case. \n",
    "\n",
    "All target names start with `gen` and then the shading language name:\n",
    "```\n",
    "   gen<target>\n",
    "``` \n",
    "\n",
    "For example, the target for the OSL shading language is `genosl`, with the module's postfix string being `GenOsl`.\n",
    "The variants for GLSL include: `genglsl` and `genessl`, which reside in a single module with postfix string `GenGlsl`.\n",
    "\n",
    "The C++ library equivalent to the module is named:\n",
    "```\n",
    "   MaterialXGen<target>\n",
    "```\n",
    "Basically the same as the Python module but without the `Py` prefix.\n",
    "\n",
    "The module `PyMaterialxShader` contains the base support for all code generators. In the code below this module as well as modules for all targets are imported."
   ]
  },
  {
   "cell_type": "code",
   "execution_count": null,
   "metadata": {},
   "outputs": [],
   "source": [
    "import sys, os, subprocess\n",
    "import MaterialX as mx\n",
    "import MaterialX.PyMaterialXGenShader as mx_gen_shader\n",
    "import MaterialX.PyMaterialXGenGlsl as mx_gen_glsl\n",
    "import MaterialX.PyMaterialXGenOsl as mx_gen_osl\n",
    "import MaterialX.PyMaterialXGenMdl as mx_gen_mdl\n"
   ]
  },
  {
   "attachments": {},
   "cell_type": "markdown",
   "metadata": {},
   "source": [
    "## Setup\n",
    "\n",
    "The basic setup requires that a document is created, the standard libraries are loaded, and the document containing the elements to generate code for to be present.\n",
    "\n",
    "Additional modules can be imported to support functionality such as code validation.\n",
    "\n",
    "### Code Validation\n",
    "\n",
    "For `GLSL`, `ESSL`, and `Vulkan` languages <a href=\"https://github.com/KhronosGroup/glslang\" target=\"_blank\">glslangValidator</a>  can be used for syntax and compilation validation. It is installed using `vcpkg` and is run as part of the CI process. For OSL and MDL: `olsc` and `mdlc` compilers are used respectively.\n",
    "\n",
    "The `generateshader.py` script supports passing in a external program as an argument. The source code passed to this program for validation.\n",
    "\n",
    "The utility function from that script has been extracted out and is included below as an example."
   ]
  },
  {
   "cell_type": "code",
   "execution_count": null,
   "metadata": {},
   "outputs": [],
   "source": [
    "\n",
    "def validateCode(sourceCodeFile, codevalidator, codevalidatorArgs):\n",
    "    if codevalidator:\n",
    "        cmd = codevalidator + ' ' + sourceCodeFile \n",
    "        if codevalidatorArgs:\n",
    "            cmd += ' ' + codevalidatorArgs\n",
    "        print('----- Run Validator: '+ cmd)\n",
    "        try:\n",
    "            output = subprocess.check_output(cmd, stderr=subprocess.STDOUT)\n",
    "            result = output.decode(encoding='utf-8')\n",
    "        except subprocess.CalledProcessError as out:                                                                                                   \n",
    "            return (out.output.decode(encoding='utf-8'))\n",
    "    return \"\"\n"
   ]
  },
  {
   "attachments": {},
   "cell_type": "markdown",
   "metadata": {},
   "source": [
    "### Exception Handling\n",
    "\n",
    "In the following code, a document is first created and then a sample file which defines a \"marble\" material is read in.\n",
    "\n",
    "Note that MaterialX throws exceptions when encountering errors instead of keeping track of status code.\n",
    "There are some specific exceptions which provide additional information beyond the regular exception information.\n",
    "\n",
    "It is always prudent to catch exceptions including checking of custom exceptions \n",
    "provided for file I/O, code generation and rendering.\n",
    "\n",
    "In this example a \"file missing\" exception may be returned if the file cannot be read.\n",
    "\n",
    " The possible `Exception` types are defined in the <a href=\"https://materialx.org/docs/api/class_exception.html\" target=\"_blank\">API documentation</a>. In Python, the exception name is the same as the C++ class name."
   ]
  },
  {
   "cell_type": "code",
   "execution_count": null,
   "metadata": {},
   "outputs": [],
   "source": [
    "# Read in MaterialX file\n",
    "#\n",
    "inputFilename = 'standard_surface_marble_solid.mtlx'\n",
    "doc = mx.createDocument()\n",
    "try:\n",
    "    mx.readFromXmlFile(doc, inputFilename)    \n",
    "    \n",
    "    valid, msg = doc.validate()\n",
    "    if not valid:\n",
    "        raise mx.Exception('Document is invalid')\n",
    "\n",
    "    print('Read in valid file \"'\"%s\"'\" for code generation.' % inputFilename)\n",
    "\n",
    "except mx.ExceptionMissing as err:\n",
    "    print('File %s could not be loaded: \"' % inputFilename, err, '\"')\n",
    "except mx.Exception as err:\n",
    "    print('File %s fail to load properly: \"' % inputFilename, err, '\"')\n"
   ]
  },
  {
   "attachments": {},
   "cell_type": "markdown",
   "metadata": {},
   "source": [
    "### Implementations\n",
    "\n",
    "The standard library includes both definitions as well as implementations for each shading language. \n",
    "The `stdlib`, `stdlib`, and `bxdf` folders contain definitions and any corresponding node graph and\n",
    "source code implementations.\n",
    "\n",
    "The sub-folders starting with `gen` contain per-target source code implementations.\n",
    "\n",
    "<pre>\n",
    "├───bxdf\n",
    "│   ├───lama\n",
    "│   └───translation\n",
    "├───lights\n",
    "│   └───genglsl\n",
    "├───pbrlib\n",
    "│   ├───genglsl  <-- e.g. target 'genglsl's implementations reside here\n",
    "│   ├───genmdl\n",
    "│   └───genosl\n",
    "├───stdlib\n",
    "│   ├───genglsl\n",
    "│   ├───genmdl\n",
    "│   └───genosl\n",
    "└───targets\n",
    "</pre>\n",
    "\n",
    "As this code is required for code generation to occur,  the standard `libraries` folder must be read in. \n",
    "\n",
    "Implementations are of the type <a href=\"https://materialx.org/docs/api/class_implementation.html\" target=\"_blank\">`Implementation`</a>."
   ]
  },
  {
   "cell_type": "code",
   "execution_count": null,
   "metadata": {},
   "outputs": [],
   "source": [
    "# Load in standard libraries\n",
    "stdlib = mx.createDocument()\n",
    "searchPath = mx.FileSearchPath(os.path.dirname(inputFilename))\n",
    "libraryFolders = []\n",
    "libraryFolders.append(\"libraries\")\n",
    "try:\n",
    "    mx.loadLibraries(libraryFolders, searchPath, stdlib)\n",
    "    doc.importLibrary(stdlib)\n",
    "    print('Standard library definitions and implementations loaded.')\n",
    "except err:\n",
    "    print('Standard library definitions and implementation failed to load: \"', err, '\"')\n",
    "    sys.exit(-1)\n"
   ]
  },
  {
   "attachments": {},
   "cell_type": "markdown",
   "metadata": {},
   "source": [
    "The `getImplementations()` API is used to get a list of `Implementation` references. Even though the total number\n",
    "of implementations seem large, only the source code for a specific generator are used at any given time."
   ]
  },
  {
   "cell_type": "code",
   "execution_count": null,
   "metadata": {},
   "outputs": [],
   "source": [
    "# Get list of all implementations\n",
    "implmentations = doc.getImplementations()\n",
    "if implmentations:\n",
    "    print('Read in %d implementations' % len(implmentations))"
   ]
  },
  {
   "attachments": {},
   "cell_type": "markdown",
   "metadata": {},
   "source": [
    "## Implementation \"Targets\"\n",
    "\n",
    "Every non-nodegraph implementation must specify a `target` that it supports. \n",
    "\n",
    "A `target` name is used to identify shading languages and their variants. The naming convention is:\n",
    "```\n",
    "  gen<language name>\n",
    "```\n",
    "These are represented as a <a href=\"https://materialx.org/docs/api/class_target_def.html\" target=\"_blank\">`TargetDef`</a>. \n",
    "The target identifiers are loaded in as part of the standard library, and these can be queried by\n",
    "looking for elements of category `targetdef`. For convenience, a list of available targets can be retrieved from a \n",
    "document using the `getTargetDefs()` API.\n",
    "\n",
    "However, at time of writing, this is missing from the Python API. Thus a simple utility function is provided here."
   ]
  },
  {
   "cell_type": "code",
   "execution_count": null,
   "metadata": {},
   "outputs": [],
   "source": [
    "# The targetdef type and support API does not currently exist so cannot be used.\n",
    "#doc.getTargetDefs()\n",
    "#doc.getChildOfType(mx.TargetDef)\n",
    "\n",
    "# Utility that basically does what doc.getTargetDefs() does.\n",
    "# Matching the category can be used in lieu to testing for the class type.\n",
    "def getTargetDefs(doc):\n",
    "    targets = []\n",
    "    for element in doc.getChildren():\n",
    "        if element.getCategory() == 'targetdef':\n",
    "            targets.append(element.getName())\n",
    "    return targets\n",
    "\n",
    "foundTargets = getTargetDefs(doc)\n",
    "for target in foundTargets:\n",
    "    implcount = 0\n",
    "    # Find out how many implementations we have \n",
    "    for impl in implmentations:\n",
    "        testtarget = target\n",
    "        if target == 'essl':\n",
    "            testtarget = 'genglsl'\n",
    "        if impl.getTarget() == testtarget:\n",
    "            implcount = implcount + 1\n",
    "    print('Found target identifier:', target, 'with', implcount, 'source implementations.')      "
   ]
  },
  {
   "attachments": {},
   "cell_type": "markdown",
   "metadata": {},
   "source": [
    "## Code Generators\n",
    "\n",
    "### Generator Creation\n",
    "\n",
    "Every code generator must have a `target` identifier to indicate which shading langauge / variant it supports.\n",
    "A language version can be used to distinguish a variant if appropriate (e.g. ESSL is distinguishable this way)\n",
    "\n",
    "It is recommended that all new generators have a unique target name. \n",
    "\n",
    "Currently there is no \"registry\" for generators by target so the user must know before hand which generators exist and\n",
    "go through all generators to find one with the appropriate `target` to use.\n",
    "\n",
    "Targets themselves can be \"inherited\" which is reflected in the inheritance hierarchy for generators.\n",
    "For example the `essl` (ESSL) target inherits from the `genglsl` (GLSL) target as does the corresponding generators. \n",
    "Inheritance is generally used to specialize code generation to handle shading language variations. \n",
    "\n",
    "For a list of generators and their derivations see documentation for the base class <a href=\"https://materialx.org/docs/api/class_shader_generator.html\" target=\"_blank\">ShaderGenerator</a>\n",
    "\n",
    "<img src=\"https://kwokcb.github.io/MaterialX_Learn/documents/images/ShaderGenerator_inheritance.png\" style=\"width:50%\"></img>\n",
    "\n",
    "Note that Vulkan has the same target as `genglsl`, but has it's own generator.\n",
    "\n",
    "Integrations are free to create custom generators. Some notable existing generators include those used to support USD HDStorm, VEX, and Arnold OSL.\n",
    "\n",
    "Any such generator can be instantiated and use the same generation process as described here.\n",
    "\n",
    "For this example, we will show how all the the generators can be created, but will only produce OSL code via an `OslShaderGenerator` generator. This can be found in the `PyMaterialXGenOsl` Python submodule and corresponding `MaterialXGenOsl` library in C++.  "
   ]
  },
  {
   "cell_type": "code",
   "execution_count": null,
   "metadata": {},
   "outputs": [],
   "source": [
    "\n",
    "# Create all generators\n",
    "generators = []\n",
    "generators.append(mx_gen_osl.OslShaderGenerator.create())\n",
    "generators.append(mx_gen_mdl.MdlShaderGenerator.create())\n",
    "generators.append(mx_gen_glsl.EsslShaderGenerator.create())\n",
    "generators.append(mx_gen_glsl.VkShaderGenerator.create())\n",
    "\n",
    "# Create a dictionary based on target identifier\n",
    "generatordict = {}\n",
    "for gen in generators:\n",
    "    generatordict[gen.getTarget()] = gen\n",
    "\n",
    "# Choose generator to use based on target identifier\n",
    "language = 'mdl'\n",
    "target = 'genosl'\n",
    "if language == 'osl':\n",
    "    target = 'genosl'\n",
    "elif language == 'mdl':\n",
    "    target = 'genmdl'\n",
    "elif language == 'essl':\n",
    "    target = 'essl'\n",
    "elif language in ['essl', 'glsl', 'vulkan']:\n",
    "    target = 'genglsl'\n",
    "\n",
    "test_language = 'essl'\n",
    "test_shadergen = generatordict[test_language]\n",
    "print('Find code generator for target:', test_shadergen.getTarget(), ' for language:', test_language, \". Version:\", test_shadergen.getVersion())\n",
    "\n",
    "shadergen = generatordict[target]\n",
    "print('Use code generator for target:', shadergen.getTarget(), ' for language: ', language)"
   ]
  },
  {
   "attachments": {},
   "cell_type": "markdown",
   "metadata": {},
   "source": [
    "### Generator Contexts\n",
    "\n",
    "A \"generation context\" is required to be created for each generator instance. This is represented by a \n",
    "<a href=\"https://materialx.org/docs/api/class_gen_context.html\" target=\"_blank\">`GenContext`</a> structure. \n",
    "\n",
    "This context provides a number of settings and options to be used for code generation. \n",
    "\n",
    "For simplicity, we will only point out the minimal requirements. This includes providing a search path to where source code implementations can be found. Any number of paths can be added using the `registerSourceCodeSearchPath()` function, on the context. The search order is first to last path added.\n",
    "\n",
    "Adding the path to the `libraries` folder is sufficient to find the source code for standard library definitions found in sub-folders. If the user has custom definitions in other locations, the root of those locations should be added. "
   ]
  },
  {
   "cell_type": "code",
   "execution_count": null,
   "metadata": {},
   "outputs": [],
   "source": [
    " # Create a context for a generator\n",
    "context = mx_gen_shader.GenContext(shadergen)\n",
    "\n",
    "# Register a path to where implmentations can be found.\n",
    "context.registerSourceCodeSearchPath(searchPath)\n"
   ]
  },
  {
   "attachments": {},
   "cell_type": "markdown",
   "metadata": {},
   "source": [
    "### Color Management\n",
    "\n",
    "Color management is used to ensure that input colors are interpreted properly via shader code.\n",
    "\n",
    "A \"color management system\" cab be created and specified to be used by a shader generator. \n",
    "During code generation, additional logic is emitted into the shader source code via the system.\n",
    "\n",
    "Usage of such as system during code generation is optional, as some renderers perform color management on input values\n",
    "and images before binding them to shading code.\n",
    "\n",
    "Color management systems need to be derived from the base API interface <a href=\"https://materialx.org/docs/api/class_color_management_system.html\" target=\"_blank\">`ColorManagementSystem`</a>). A \"default\" system is provided\n",
    "as part of the MaterialX distribution.\n",
    "\n",
    "It is necessary to indicate which `target` shading language code when instantiating the color management system. Naturally specifying a non-matching target will inject incompatible code.\n",
    "\n",
    "The setup steps are:\n",
    "\n",
    "1. Create the system. In this example the \"default\" system is created with the `target` being specified at creation time.\n",
    "2. Setting where the library of definitions exists for the system. In this case the main document which contains the standard library is specified.\n",
    "3. Setting the color management system on the generator. If it is not set or cleared then no color management will occur during code generation."
   ]
  },
  {
   "cell_type": "code",
   "execution_count": null,
   "metadata": {},
   "outputs": [],
   "source": [
    "# Create default CMS\n",
    "cms = mx_gen_shader.DefaultColorManagementSystem.create(shadergen.getTarget())  \n",
    "# Indicate to the CMS where definitions can be found\n",
    "cms.loadLibrary(doc)\n",
    "# Indicate to the code generator to use this CMS\n",
    "shadergen.setColorManagementSystem(cms)\n",
    "\n",
    "cms = shadergen.getColorManagementSystem()\n",
    "if cms:\n",
    "    print('Set up CMS: %s for target: %s' \n",
    "          % (cms.getName(), shadergen.getTarget()))"
   ]
  },
  {
   "attachments": {},
   "cell_type": "markdown",
   "metadata": {},
   "source": [
    "### Real World Units\n",
    "\n",
    "To handle real-world unit specifiers a \"unit system\" should be instantiated and associated with the generator.\n",
    "The API interface is a <a href=\"https://materialx.org/docs/api/class_unit_system.html\" target=\"_blank\">UnitSystem</a> which definitions. \n",
    "\n",
    "By default a unit system does not know how to perform any conversions. This is provided by a \n",
    "<a href=\"https://materialx.org/docs/api/class_unit_converter_registry.html\" target=\"_blank\">`UnitConverterRegistry`</a> which contains a list of convertors. \n",
    "\n",
    "Currently MaterialX supports convertors for converting linear units: distance, and angle.\n",
    "The corresponding API interface is <a href=\"https://materialx.org/docs/api/class_linear_unit_converter.html\" target=\"_blank\">`LinearUnitConverter`</a>.\n"
   ]
  },
  {
   "cell_type": "code",
   "execution_count": null,
   "metadata": {},
   "outputs": [],
   "source": [
    "# Create unit registry\n",
    "registry = mx.UnitConverterRegistry.create()\n",
    "if registry:\n",
    "    # Get distance and angle unit type definitions and create a linear converter for each\n",
    "    distanceTypeDef = doc.getUnitTypeDef('distance')\n",
    "    if distanceTypeDef:\n",
    "        registry.addUnitConverter(distanceTypeDef, mx.LinearUnitConverter.create(distanceTypeDef))\n",
    "    angleTypeDef = doc.getUnitTypeDef('angle')\n",
    "    if angleTypeDef:\n",
    "        registry.addUnitConverter(angleTypeDef, mx.LinearUnitConverter.create(angleTypeDef))\n",
    "    print('Created unit converter registry')"
   ]
  },
  {
   "attachments": {},
   "cell_type": "markdown",
   "metadata": {},
   "source": [
    "As with a color management system the location of implementations and the registry need to be set on a unit system. \n",
    "The unit system can then be set on the generator."
   ]
  },
  {
   "cell_type": "code",
   "execution_count": null,
   "metadata": {},
   "outputs": [],
   "source": [
    "# Create unit system, set where definitions come from, and\n",
    "# set up what registry to use\n",
    "unitsystem = mx_gen_shader.UnitSystem.create(shadergen.getTarget())\n",
    "unitsystem.loadLibrary(stdlib)\n",
    "unitsystem.setUnitConverterRegistry(registry)\n",
    "\n",
    "if unitsystem:\n",
    "    print('Set unit system on code generator')\n",
    "    shadergen.setUnitSystem(unitsystem)\n"
   ]
  },
  {
   "attachments": {},
   "cell_type": "markdown",
   "metadata": {},
   "source": [
    "This sets up how to perform unit conversions, but does not specify what unis the scene geometry is using.\n",
    "This can be specified as in an \"options\" structure found on the  context.\n",
    "\n",
    "The API interface is: <a href=\"https://materialx.org/docs/api/class_gen_options.html\"  target=\"_blank\">GenOptions</a>."
   ]
  },
  {
   "cell_type": "code",
   "execution_count": null,
   "metadata": {},
   "outputs": [],
   "source": [
    "# Set the target scene unit to be `meter` on the context options\n",
    "genoptions = context.getOptions()\n",
    "genoptions.targetDistanceUnit = 'meter'"
   ]
  },
  {
   "attachments": {},
   "cell_type": "markdown",
   "metadata": {},
   "source": [
    "## Finding Elements to Render\n",
    "\n",
    "There are a few utilities which are included to find elements which are \"renderable\":\n",
    "\n",
    "1. The <a href=\"https://materialx.org/docs/api/_material_x_gen_shader_2_util_8h.html\" target=\"_blank\">findRenderableElement()</a> utility can be used in general to find these. \n",
    "2. Another possible utility is to find only material nodes using `getMaterialNodes()` or \n",
    "2. Shader nodes by looking for nodes of type `SURFACE_SHADER_TYPE_STRING` in a document.\n",
    "\n",
    "For this example, the first \"renderable\" found is used.\n",
    "\n"
   ]
  },
  {
   "cell_type": "code",
   "execution_count": null,
   "metadata": {},
   "outputs": [],
   "source": [
    "\n",
    "# Look for renderable nodes\n",
    "nodes = mx_gen_shader.findRenderableElements(doc, False)\n",
    "print('Found: %d renderables' % len(nodes))\n",
    "if not nodes:\n",
    "    nodes = doc.getMaterialNodes()\n",
    "    if not nodes:\n",
    "        nodes = doc.getNodesOfType(mx.SURFACE_SHADER_TYPE_STRING)\n",
    "\n",
    "node = None \n",
    "if nodes:\n",
    "    node = nodes[0]\n",
    "    print('Found node to render: ', node.getName())\n"
   ]
  },
  {
   "attachments": {},
   "cell_type": "markdown",
   "metadata": {},
   "source": [
    "## Generating Code\n",
    "\n",
    "After all of this setup, code can now be generated.\n",
    "1. First a `createValidName()` utility is called to ensure that the shader name produced is valid. \n",
    "2. Then the generator's <a href=\"https://materialx.org/docs/api/class_shader_generator.html\" target=\"_blank\">generate()</a> interface is called with this name, the \"renderable\" element, and the generation context. Note that derived classes override `generate()` to perform custom generation.\n",
    "\n",
    "Upon success a new <a href=\"https://materialx.org/docs/api/class_shader.html\" target=\"_blank\">Shader</a> instance is created. Note that this is a special interface used to keep track of an entire shader. This instance can be inspected to extract information required for rendering."
   ]
  },
  {
   "cell_type": "code",
   "execution_count": null,
   "metadata": {},
   "outputs": [],
   "source": [
    "shader = None\n",
    "nodeName = node.getName() if node else ''\n",
    "if nodeName:\n",
    "    shaderName = mx.createValidName(nodeName)\n",
    "    try:\n",
    "        shader = shadergen.generate(shaderName, node, context)\n",
    "    except err:\n",
    "        print('Shader generation errors:', err)\n",
    "\n",
    "if shader:\n",
    "    print('Succeeded in generating code for shader \"%s\" code from node \"%s\"' % (shaderName, nodeName)) \n",
    "else:\n",
    "    print('Failed to generate code for shader \"%s\" code from node \"%s\"' % (shaderName, nodeName)) "
   ]
  },
  {
   "attachments": {},
   "cell_type": "markdown",
   "metadata": {},
   "source": [
    "### Generated Code\n",
    "\n",
    "For hardware languages like GLSL, vertex, and pixel shader code is generated. OSL and MDL only produce\n",
    "pixel shader code. To complete this example the pixel shader code is queried from the Shader and\n",
    "shown below.\n",
    "\n",
    "Code can be queried via the <a href=\"https://materialx.org/docs/api/class_shader.html\" target=\"_blank\">getSourceCode()</a> interface with an argument indicating which code to return. The code returned can be directly compiled and used by a renderer.\n",
    "\n",
    "It is at this point in the `generateshader.py` script that validation is performed. (This will not be shown here.) "
   ]
  },
  {
   "cell_type": "code",
   "execution_count": null,
   "metadata": {},
   "outputs": [],
   "source": [
    "pixelSource = ''\n",
    "vertexSource = ''\n",
    "if shader:\n",
    "    errors = ''\n",
    "\n",
    "    # Use extension of .vert and .frag as it's type is\n",
    "    # recognized by glslangValidator\n",
    "    if language in ['glsl', 'essl', 'vulkan']:\n",
    "        vertexSource = shader.getSourceCode(mx_gen_shader.VERTEX_STAGE)\n",
    "        display_markdown('### Vertex Source Code' , raw=True)\n",
    "        display_markdown('------------------', raw=True)\n",
    "        display_markdown('```ccc {' + vertexSource + '}```', raw=True)\n",
    "\n",
    "    pixelSource = shader.getSourceCode(mx_gen_shader.PIXEL_STAGE)\n",
    "    display_markdown('### Pixel Source Code' , raw=True)\n",
    "    display_markdown('------------------', raw=True)\n",
    "    display_markdown('```cpp {' + pixelSource + ' }```', raw=True)\n"
   ]
  }
 ],
 "metadata": {
  "kernelspec": {
   "display_name": "Python 3",
   "language": "python",
   "name": "python3"
  },
  "language_info": {
   "codemirror_mode": {
    "name": "ipython",
    "version": 3
   },
   "file_extension": ".py",
   "mimetype": "text/x-python",
   "name": "python",
   "nbconvert_exporter": "python",
   "pygments_lexer": "ipython3",
   "version": "3.9.4"
  },
  "orig_nbformat": 4,
  "vscode": {
   "interpreter": {
    "hash": "e68bafc6deccff08e1ee0f9acfc0c6e898f368699f8f06df9a6af08fb2a0309e"
   }
  }
 },
 "nbformat": 4,
 "nbformat_minor": 2
}
