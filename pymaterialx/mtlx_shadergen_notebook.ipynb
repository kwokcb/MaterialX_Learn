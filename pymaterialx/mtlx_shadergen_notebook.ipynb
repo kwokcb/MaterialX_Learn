{
 "cells": [
  {
   "attachments": {},
   "cell_type": "markdown",
   "metadata": {},
   "source": [
    "# Shader Generation\n",
    "\n",
    "This book will examine how to set up MaterialX for code generation. This book covers the \n",
    "<a href=\"https://github.com/AcademySoftwareFoundation/MaterialX/blob/main/python/Scripts/generateshader.py\" target=\"_blank\">\n",
    "generateshader.py</a> \n",
    "script provided as part of the core distribution.\n",
    "\n",
    "Topics covered:\n",
    "1. Submodules per code generator\n",
    "2. Context and options for generation\n",
    "3. Real world unit and color management transform. \n",
    "4. Finding \"renderable\" items\n",
    "5. Per `target` (shading language) generators.\n",
    "5. Introspection and source code extraction.\n",
    "\n",
    "Not covered are the details behind code generation and the pros and cons of different generation options.\n",
    "Code Generation is covered \n",
    "<a href=\"https://github.com/AcademySoftwareFoundation/MaterialX/blob/main/documents/DeveloperGuide/ShaderGeneration.md\"\n",
    "target =\"_blank\">here.</a>"
   ]
  },
  {
   "attachments": {},
   "cell_type": "markdown",
   "metadata": {},
   "source": [
    "## Code Generation Submodules\n",
    "\n",
    "For the Python distribution, each code generator has created to be a submodule under the MaterialX module. \n",
    "\n",
    "The name of each submodule is of the form:\n",
    "```\n",
    "   PyMaterialXGen<target>\n",
    "``` \n",
    "where target is the code generation target written in camel-case. \n",
    "\n",
    "All target names start with `gen` and then the shading language name:\n",
    "```\n",
    "   gen<target>\n",
    "``` \n",
    "\n",
    "For example the target for the OSL shading language is `genosl`, with the submodule's target string being `GenOsl`.\n",
    "The variants for GLSL include: `genglsl` and `genessl`, with single submodule with target string `GenGlsl`.\n",
    "\n",
    "Each sub-module is roughly equivalent to a library (dynamic or static) for the C++ distribution which has the name:\n",
    "```\n",
    "   MaterialXGen<target>\n",
    "```\n",
    "That is with the `Py` prefix\n",
    "\n",
    "The submodule `PyMaterialxShader` contains the base support for all code generators.\n",
    "\n",
    "In the code below the submodule is imported in addition to  all generators which are part of the core distribution of MaterialX."
   ]
  },
  {
   "cell_type": "code",
   "execution_count": 31,
   "metadata": {},
   "outputs": [],
   "source": [
    "import sys, os, subprocess\n",
    "import MaterialX as mx\n",
    "import MaterialX.PyMaterialXGenShader as mx_gen_shader\n",
    "import MaterialX.PyMaterialXGenGlsl as mx_gen_glsl\n",
    "import MaterialX.PyMaterialXGenOsl as mx_gen_osl\n",
    "import MaterialX.PyMaterialXGenMdl as mx_gen_mdl\n"
   ]
  },
  {
   "attachments": {},
   "cell_type": "markdown",
   "metadata": {},
   "source": [
    "## Setup\n",
    "\n",
    "The basic setup requires that a document is created, the standard libraries are loaded, and the document containing the elements to generate code for to be present.\n",
    "\n",
    "Additional modules can be imported to support such as shader validation.\n",
    "\n",
    "### Code Validation\n",
    "\n",
    "For `GLSL`, `ESSL`, and `Vulkan` languages <a href=\"https://github.com/KhronosGroup/glslang\" target=\"_blank\">glslangValidator</a> \n",
    "can be used for syntax and compilation validation. It is installed using `vcpkg` and run as part of the CI process. For OSL and MDL: `olsc` and `mdlc` are used respectively.\n",
    "\n",
    "The `generateshader.py` script supports passing in a external program argument which can be executed against the produced source code. \n",
    "It runs the program with the source code as input and returns whether the program is 'valid'.\n",
    "\n",
    "The utility function from that script has been extracted out and is included below."
   ]
  },
  {
   "cell_type": "code",
   "execution_count": 32,
   "metadata": {},
   "outputs": [],
   "source": [
    "\n",
    "def validateCode(sourceCodeFile, codevalidator, codevalidatorArgs):\n",
    "    if codevalidator:\n",
    "        cmd = codevalidator + ' ' + sourceCodeFile \n",
    "        if codevalidatorArgs:\n",
    "            cmd += ' ' + codevalidatorArgs\n",
    "        print('----- Run Validator: '+ cmd)\n",
    "        try:\n",
    "            output = subprocess.check_output(cmd, stderr=subprocess.STDOUT)\n",
    "            result = output.decode(encoding='utf-8')\n",
    "        except subprocess.CalledProcessError as out:                                                                                                   \n",
    "            return (out.output.decode(encoding='utf-8'))\n",
    "    return \"\"\n"
   ]
  },
  {
   "attachments": {},
   "cell_type": "markdown",
   "metadata": {},
   "source": [
    "### Exception Handling\n",
    "\n",
    "In the following code, a MaterialX file which defines a \"marble\" material is loaded.\n",
    "As mentioned a document is created and the file loaded in.\n",
    "\n",
    "MaterialX throws exceptions when encountering errors instead of keeping track of status code.\n",
    "There are some specific exceptions which provide additional information beyond the regular exception information.\n",
    "\n",
    "This includes custom exceptions for file I/O,  code generation and rendering. \n",
    "It is always prudent to catch exceptions and especially so for these usage areas.\n",
    "In this example a \"file missing\" exception may be returned if the file cannot be read.\n",
    "See the possible `Exception` types as defined <a href=\"https://materialx.org/docs/api/class_exception.html\" target=\"_blank\">in the API\n",
    "documentation</a>. In Python, the exception name is the same as the C++ class name."
   ]
  },
  {
   "cell_type": "code",
   "execution_count": 33,
   "metadata": {},
   "outputs": [
    {
     "name": "stdout",
     "output_type": "stream",
     "text": [
      "Read in valid file \"standard_surface_marble_solid.mtlx\" for code generation.\n"
     ]
    }
   ],
   "source": [
    "# Read in MaterialX file\n",
    "#\n",
    "inputFilename = 'standard_surface_marble_solid.mtlx'\n",
    "doc = mx.createDocument()\n",
    "try:\n",
    "    mx.readFromXmlFile(doc, inputFilename)    \n",
    "    \n",
    "    valid, msg = doc.validate()\n",
    "    if not valid:\n",
    "        raise mx.Exception('Document is invalid')\n",
    "\n",
    "    print('Read in valid file \"'\"%s\"'\" for code generation.' % inputFilename)\n",
    "\n",
    "except mx.ExceptionMissing as err:\n",
    "    print('File %s could not be loaded: \"' % inputFilename, err, '\"')\n",
    "except mx.Exception as err:\n",
    "    print('File %s fail to load properly: \"' % inputFilename, err, '\"')\n"
   ]
  },
  {
   "attachments": {},
   "cell_type": "markdown",
   "metadata": {},
   "source": [
    "### Implementations\n",
    "\n",
    "The standard library includes both definitions as well as implementations for each shading language. \n",
    "The `stdlib`, `stdlib`, and 'bxdf' folders contain definitions and any corresponding node graph implementations.\n",
    "These are shading language agnostic. The sub-folders starting with `gen` contain source code implementations.\n",
    "<pre>\n",
    "├───bxdf\n",
    "│   ├───lama\n",
    "│   └───translation\n",
    "├───lights\n",
    "│   └───genglsl\n",
    "├───pbrlib\n",
    "│   ├───genglsl  <-- e.g. target 'genglsl's implementations can be found here\n",
    "│   ├───genmdl\n",
    "│   └───genosl\n",
    "├───stdlib\n",
    "│   ├───genglsl\n",
    "│   ├───genmdl\n",
    "│   └───genosl\n",
    "└───targets\n",
    "</pre>\n",
    "\n",
    "Without these, no code generation can occur, thus the `libraries` folder found at the root of the\n",
    "MaterialX distribution (or within the search path) must always be read in. Additional libraries can be loaded as required.\n",
    "\n",
    "Implementations are of the type <a href=\"https://materialx.org/docs/api/class_implementation.html\" target=\"_blank\">`Implementation`</a>."
   ]
  },
  {
   "cell_type": "code",
   "execution_count": 34,
   "metadata": {},
   "outputs": [
    {
     "name": "stdout",
     "output_type": "stream",
     "text": [
      "Standard library definitions and implementations loaded.\n"
     ]
    }
   ],
   "source": [
    "# Load in standard libraries\n",
    "stdlib = mx.createDocument()\n",
    "searchPath = mx.FileSearchPath(os.path.dirname(inputFilename))\n",
    "libraryFolders = []\n",
    "libraryFolders.append(\"libraries\")\n",
    "try:\n",
    "    mx.loadLibraries(libraryFolders, searchPath, stdlib)\n",
    "    doc.importLibrary(stdlib)\n",
    "    print('Standard library definitions and implementations loaded.')\n",
    "except err:\n",
    "    print('Standard library definitions and implementation failed to load: \"', err, '\"')\n",
    "    sys.exit(-1)\n"
   ]
  },
  {
   "attachments": {},
   "cell_type": "markdown",
   "metadata": {},
   "source": [
    "\n",
    "There are many implementations as code for all supported shading languages implementations is read in. \n",
    "\n",
    "The `getImplementations()` API is used to get a list of `Implementation` references."
   ]
  },
  {
   "cell_type": "code",
   "execution_count": 35,
   "metadata": {},
   "outputs": [
    {
     "name": "stdout",
     "output_type": "stream",
     "text": [
      "Read in 1746 implementations\n"
     ]
    }
   ],
   "source": [
    "implmentations = doc.getImplementations()\n",
    "if implmentations:\n",
    "    print('Read in %d implementations' % len(implmentations))    "
   ]
  },
  {
   "attachments": {},
   "cell_type": "markdown",
   "metadata": {},
   "source": [
    "## Implementation \"Targets\"\n",
    "\n",
    "Every non-nodegraph implementation must specify a `target` that it supports. \n",
    "\n",
    "A `target` name is used to identify shading languages and their variants. The naming convention is:\n",
    "```\n",
    "  gen<language name>\n",
    "```\n",
    "These are represented as a <a href=\"https://materialx.org/docs/api/class_target_def.html\" target=\"_blank\">`TargetDef`</a>. \n",
    "The target identifiers are loaded in as part of the standard library, and these can be queried by\n",
    "looking for elements of category `targetdef`. For convenience, a list of available targets can be retrieved from a \n",
    "document using the `getTargetDefs()` API.\n",
    "\n",
    "However, at time of writing, this is missing from the Python API. Thus a simple utility function is provided here."
   ]
  },
  {
   "cell_type": "code",
   "execution_count": 36,
   "metadata": {},
   "outputs": [
    {
     "name": "stdout",
     "output_type": "stream",
     "text": [
      "Found target identifier: essl\n",
      "Found target identifier: genglsl\n",
      "Found target identifier: genmdl\n",
      "Found target identifier: genosl\n"
     ]
    }
   ],
   "source": [
    "# The targetdef type and support API does not currently exist so cannot be used.\n",
    "#doc.getTargetDefs()\n",
    "#doc.getChildOfType(mx.TargetDef)\n",
    "\n",
    "# Utility that basically does what doc.getTargetDefs() does.\n",
    "# Matching the category can be used in lieu to testing for the class type.\n",
    "def getTargetDefs(doc):\n",
    "    targets = []\n",
    "    for element in doc.getChildren():\n",
    "        if element.getCategory() == 'targetdef':\n",
    "            targets.append(element.getName())\n",
    "    return targets\n",
    "\n",
    "foundTargets = getTargetDefs(doc)\n",
    "for target in foundTargets:\n",
    "    print('Found target identifier:', target)"
   ]
  },
  {
   "attachments": {},
   "cell_type": "markdown",
   "metadata": {},
   "source": [
    "## Code Generators\n",
    "\n",
    "### Generator Creation\n",
    "\n",
    "Every code generator must have a `target` identifier to indicate which shading langauge / variant it supports.\n",
    "A language version can be used to distinguish a variant if appropriate (e.g. ESSL is distinguishable this way)\n",
    "\n",
    "It is recommended that any new generators be unique. \n",
    "\n",
    "Currently there is no \"registry\" for generators by target so the user must know before hand which generators exist and\n",
    "go through all generators to find one with the appropriate `target` to use.\n",
    "\n",
    "Targets themselves can be \"inherited\" which is reflected in the inheritance hierarcht for generators.\n",
    "For example the `essl` (ESSL) target inherits from the `genglsl` (GLSL) target as does the corresponding generators. \n",
    "Inheritance is generally used to specialize code generation to handle shading language variations. \n",
    "\n",
    "For a list of generators and their derivations see documentation for the base class <a href=\"https://materialx.org/docs/api/class_shader_generator.html\" target=\"_blank\">ShaderGenerator<a>\n",
    "\n",
    "<img src=\"https://kwokcb.github.io/MaterialX_Learn/documents/images/ShaderGenerator_inheritance.png\" style=\"width:50%\"></img>"
   ]
  },
  {
   "attachments": {},
   "cell_type": "markdown",
   "metadata": {},
   "source": [
    "Note that Vulkan has the same target as `genglsl`, but has it's own generator.\n",
    "\n",
    "Integrations are free to create custom generators. Some notable existing generators include those used to support USD HDStorm, VEX, and Arnold OSL.\n",
    "\n",
    "Any such generator can be instantiated and use the same generation process as described here.\n",
    "\n",
    "For this example, we will show how all the the generators can be created, but will choose to only produce GLSL code via an `GlslShaderGenerator` generator. This can be found in the `PyMaterialXGenGlsl` Python submodule and corresponding `MaterialXGenGlsl` library in C++.  "
   ]
  },
  {
   "cell_type": "code",
   "execution_count": 37,
   "metadata": {},
   "outputs": [
    {
     "name": "stdout",
     "output_type": "stream",
     "text": [
      "Find code generator for target: essl  for language:  essl . Version:  300 es\n",
      "Use code generator for target: genglsl  for language:  glsl\n"
     ]
    }
   ],
   "source": [
    "\n",
    "# Create all generators\n",
    "generators = []\n",
    "generators.append(mx_gen_osl.OslShaderGenerator.create())\n",
    "generators.append(mx_gen_mdl.MdlShaderGenerator.create())\n",
    "generators.append(mx_gen_glsl.EsslShaderGenerator.create())\n",
    "generators.append(mx_gen_glsl.VkShaderGenerator.create())\n",
    "\n",
    "# Create a dictionary based on target identifier\n",
    "generatordict = {}\n",
    "for gen in generators:\n",
    "    generatordict[gen.getTarget()] = gen\n",
    "\n",
    "# Choose generator to use based on target identifier\n",
    "language = 'glsl'\n",
    "target = 'genglsl'\n",
    "if language == 'osl':\n",
    "    target = 'genosl'\n",
    "elif language == 'mdl':\n",
    "    target = 'genmdl'\n",
    "elif language == 'essl':\n",
    "    target = 'essl'\n",
    "elif language in ['essl', 'glsl', 'vulkan']:\n",
    "    target = 'genglsl'\n",
    "\n",
    "test_language = 'essl'\n",
    "test_shadergen = generatordict[test_language]\n",
    "print('Find code generator for target:', test_shadergen.getTarget(), ' for language: ', test_language, \". Version: \", test_shadergen.getVersion())\n",
    "\n",
    "shadergen = generatordict[target]\n",
    "print('Use code generator for target:', shadergen.getTarget(), ' for language: ', language)"
   ]
  },
  {
   "attachments": {},
   "cell_type": "markdown",
   "metadata": {},
   "source": [
    "### Generator Contexts\n",
    "\n",
    "All generators require a \"context\"to be provided. This is represented by a \n",
    "<a href=\"https://materialx.org/docs/api/class_gen_context.html\" target=\"_blank\">`GenContext`</a> structure. \n",
    "\n",
    "At a minimum a path to where the source code implementations must be provided as part of the context.\n",
    "Any number of paths can be added using the `registerSourceCodeSearchPath()` function. Searching will occur in first to last added order.\n",
    "Here the path to the `libraries` folder can be used so that source code for standard libraries can be found."
   ]
  },
  {
   "cell_type": "code",
   "execution_count": 38,
   "metadata": {},
   "outputs": [],
   "source": [
    "        \n",
    "# Create a context for a generator\n",
    "context = mx_gen_shader.GenContext(shadergen)\n",
    "\n",
    "# Register a path to where implmentations can be found.\n",
    "context.registerSourceCodeSearchPath(searchPath)\n"
   ]
  },
  {
   "attachments": {},
   "cell_type": "markdown",
   "metadata": {},
   "source": [
    "### Color Management\n",
    "\n",
    "Color management is used to ensure that input colors are interpreted properly.\n",
    "When specified additional logic will be emitted into the shader source code via a \"color management system\".\n",
    "\n",
    "For color management it is necessary to indicate for which shading language\n",
    "`target` the color management system. Naturally specifying a non-matching target will inject incompatible code.\n",
    "\n",
    "The basic steps are to:\n",
    "1. Create the system. In this case the \"default\" system is created with the `target` being specified at creation time.\n",
    "A color management system is derived from the base API interface <a href=\"https://materialx.org/docs/api/class_color_management_system.html\" target=\"_blank\">`ColorManagementSystem`</a>). \n",
    "2. Setting where the library of definitions exists for the system. In this case the main document is specified.\n",
    "3. Setting the color management system on the generator. If it is not set or cleared then no color management will occur."
   ]
  },
  {
   "cell_type": "code",
   "execution_count": 39,
   "metadata": {},
   "outputs": [
    {
     "name": "stdout",
     "output_type": "stream",
     "text": [
      "Set up CMS: default_cms\n"
     ]
    }
   ],
   "source": [
    "cms = mx_gen_shader.DefaultColorManagementSystem.create(shadergen.getTarget())  \n",
    "cms.loadLibrary(doc)\n",
    "shadergen.setColorManagementSystem(cms)\n",
    "\n",
    "cms = shadergen.getColorManagementSystem()\n",
    "if cms:\n",
    "    print('Set up CMS:', cms.getName())\n"
   ]
  },
  {
   "attachments": {},
   "cell_type": "markdown",
   "metadata": {},
   "source": [
    "### Real World Units\n",
    "\n",
    "To handle real-world unit specifiers a \"unit system\" should be instantiated and associated with the generator.\n",
    "The API interface is a <a href=\"https://materialx.org/docs/api/class_unit_system.html\" target=\"_blank\">UnitSystem</a> which definitions. \n",
    "\n",
    "By default a unit system does not know how to perform any conversions. This is provided by a \n",
    "<a href=\"https://materialx.org/docs/api/class_unit_converter_registry.html\" target=\"_blank\">`UnitConverterRegistry`</a> which\n",
    "contains a list of convertor. Currently MaterialX supports convertors for converting linear units: distance, and angle.\n",
    "The corresponding API interface is <a href=\"https://materialx.org/docs/api/class_linear_unit_converter.html\" target=\"_blank\">`LinearUnitConverter`</a>.\n"
   ]
  },
  {
   "cell_type": "code",
   "execution_count": 40,
   "metadata": {},
   "outputs": [
    {
     "name": "stdout",
     "output_type": "stream",
     "text": [
      "Created unit converter registry\n"
     ]
    }
   ],
   "source": [
    "\n",
    "registry = mx.UnitConverterRegistry.create()\n",
    "if registry:\n",
    "    distanceTypeDef = doc.getUnitTypeDef('distance')\n",
    "    if distanceTypeDef:\n",
    "        registry.addUnitConverter(distanceTypeDef, mx.LinearUnitConverter.create(distanceTypeDef))\n",
    "    angleTypeDef = doc.getUnitTypeDef('angle')\n",
    "    if angleTypeDef:\n",
    "        registry.addUnitConverter(angleTypeDef, mx.LinearUnitConverter.create(angleTypeDef))\n",
    "    print('Created unit converter registry')"
   ]
  },
  {
   "attachments": {},
   "cell_type": "markdown",
   "metadata": {},
   "source": [
    "As with a color management system the implementations need to be set in addition to setting the registry. \n",
    "The unit system can then be set on the generator."
   ]
  },
  {
   "cell_type": "code",
   "execution_count": 41,
   "metadata": {},
   "outputs": [
    {
     "name": "stdout",
     "output_type": "stream",
     "text": [
      "Set unit system on code\n"
     ]
    }
   ],
   "source": [
    "unitsystem = mx_gen_shader.UnitSystem.create(shadergen.getTarget())\n",
    "unitsystem.loadLibrary(stdlib)\n",
    "unitsystem.setUnitConverterRegistry(registry)\n",
    "\n",
    "if unitsystem:\n",
    "    print('Set unit system on code')\n",
    "    shadergen.setUnitSystem(unitsystem)\n"
   ]
  },
  {
   "attachments": {},
   "cell_type": "markdown",
   "metadata": {},
   "source": [
    "This sets up how to perform unit conversions, but does not specify to which unit the values should convert to.\n",
    "For this access is needed to the \"options\" for the context which are stored in a <a href=\"https://materialx.org/docs/api/class_gen_options.html\"  target=\"_blank\">GenOptions</a> structure on the context."
   ]
  },
  {
   "cell_type": "code",
   "execution_count": 42,
   "metadata": {},
   "outputs": [],
   "source": [
    "# Set the target unit to be meter.\n",
    "genoptions = context.getOptions()\n",
    "genoptions.targetDistanceUnit = 'meter'"
   ]
  },
  {
   "attachments": {},
   "cell_type": "markdown",
   "metadata": {},
   "source": [
    "## Finding Elements to Render\n",
    "\n",
    "There are a few utilities which are included to find elements which are \"renderable\":\n",
    "\n",
    "1. The <a href=\"https://materialx.org/docs/api/_material_x_gen_shader_2_util_8h.html\" target=\"_blank\">findRenderableElement()</a> utility can be used in general to find these. \n",
    "2. Another possible utility is to find only material nodes using `getMaterialNodes()` or \n",
    "2. Shader nodes by looking for nodes of type `SURFACE_SHADER_TYPE_STRING` in a document.\n",
    "\n",
    "For this example, the first \"renderable\" found is used.\n",
    "\n"
   ]
  },
  {
   "cell_type": "code",
   "execution_count": 43,
   "metadata": {},
   "outputs": [
    {
     "name": "stdout",
     "output_type": "stream",
     "text": [
      "Found: 1 renderables\n",
      "Found node to render:  Marble_3D\n"
     ]
    }
   ],
   "source": [
    "\n",
    "# Look for renderable nodes\n",
    "nodes = mx_gen_shader.findRenderableElements(doc, False)\n",
    "print('Found: %d renderables' % len(nodes))\n",
    "if not nodes:\n",
    "    nodes = doc.getMaterialNodes()\n",
    "    if not nodes:\n",
    "        nodes = doc.getNodesOfType(mx.SURFACE_SHADER_TYPE_STRING)\n",
    "\n",
    "node = None \n",
    "if nodes:\n",
    "    node = nodes[0]\n",
    "    print('Found node to render: ', node.getName())\n"
   ]
  },
  {
   "attachments": {},
   "cell_type": "markdown",
   "metadata": {},
   "source": [
    "## Generating Code\n",
    "\n",
    "After all of this setup, code can be generated.\n",
    "1. First a valid name is generated using `createValidName` to ensure that the shader name produced is valid. \n",
    "2. Then the generator's <a href=\"https://materialx.org/docs/api/class_shader_generator.html\" target=\"_blank\">generate()</a> interface is called with this name, the node, and the generation context. Note that derived classes will override this interface to perform custom generation.\n",
    "\n",
    "Upon success a new <a href=\"https://materialx.org/docs/api/class_shader.html\" target=\"_blank\">Shader</a> instance is created. Note that this is a special interface used to keep track of an entire shader. This instance can be inspected to extract information required for rendering."
   ]
  },
  {
   "cell_type": "code",
   "execution_count": 44,
   "metadata": {},
   "outputs": [
    {
     "name": "stdout",
     "output_type": "stream",
     "text": [
      "Succeeded in generating code for shader \"Marble_3D\" code from node \"Marble_3D\"\n"
     ]
    }
   ],
   "source": [
    "shader = None\n",
    "nodeName = node.getName() if node else ''\n",
    "if nodeName:\n",
    "    shaderName = mx.createValidName(nodeName)\n",
    "    try:\n",
    "        shader = shadergen.generate(shaderName, node, context)\n",
    "    except err:\n",
    "        print('Shader generation errors:', err)\n",
    "\n",
    "if shader:\n",
    "    print('Succeeded in generating code for shader \"%s\" code from node \"%s\"' % (shaderName, nodeName)) \n",
    "else:\n",
    "    print('Failed to generate code for shader \"%s\" code from node \"%s\"' % (shaderName, nodeName)) "
   ]
  },
  {
   "attachments": {},
   "cell_type": "markdown",
   "metadata": {},
   "source": [
    "### Generated Code\n",
    "\n",
    "For hardware languages like GLSL, currently vertex, and pixel shader code is generated.\n",
    "To complete this example the pixel shader code generated is examined.\n",
    "\n",
    "All code is available via the <a href=\"https://materialx.org/docs/api/class_shader.html\" target=\"_blank\">getSourceCode()</a>\n",
    "with a argument as to which code to return. This code can be directly compiled and used for a renderer.\n",
    "\n",
    "It is at this point in the `generateshader.py` that validation is performed. "
   ]
  },
  {
   "cell_type": "code",
   "execution_count": 45,
   "metadata": {},
   "outputs": [],
   "source": [
    "        \n",
    "\n",
    "pixelSource = ''\n",
    "vertexSource = ''\n",
    "if shader:\n",
    "    errors = ''\n",
    "\n",
    "    # Use extension of .vert and .frag as it's type is\n",
    "    # recognized by glslangValidator\n",
    "    if language in ['glsl', 'essl', 'vulkan']:\n",
    "        vertexSource = shader.getSourceCode(mx_gen_shader.VERTEX_STAGE)\n",
    "        f = open('vertexSource.' + target, 'w')        \n",
    "        print(vertexSource, file=f)\n",
    "        f.close()\n",
    "\n",
    "    pixelSource = shader.getSourceCode(mx_gen_shader.PIXEL_STAGE)\n",
    "    f = open('pixelSource.' + target, 'w')        \n",
    "    print(pixelSource, file=f)\n",
    "    f.close()\n"
   ]
  },
  {
   "attachments": {},
   "cell_type": "markdown",
   "metadata": {},
   "source": [
    "**Pixel Source Code**\n",
    "<iframe src=\"pixelSource.genglsl\" title=\"ShaderGen Notebook\" width=\"80%\" height=\"800\"></iframe>\n"
   ]
  }
 ],
 "metadata": {
  "kernelspec": {
   "display_name": "Python 3",
   "language": "python",
   "name": "python3"
  },
  "language_info": {
   "codemirror_mode": {
    "name": "ipython",
    "version": 3
   },
   "file_extension": ".py",
   "mimetype": "text/x-python",
   "name": "python",
   "nbconvert_exporter": "python",
   "pygments_lexer": "ipython3",
   "version": "3.9.4"
  },
  "orig_nbformat": 4,
  "vscode": {
   "interpreter": {
    "hash": "e68bafc6deccff08e1ee0f9acfc0c6e898f368699f8f06df9a6af08fb2a0309e"
   }
  }
 },
 "nbformat": 4,
 "nbformat_minor": 2
}
