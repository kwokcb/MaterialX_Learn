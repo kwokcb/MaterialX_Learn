{
 "cells": [
  {
   "attachments": {},
   "cell_type": "markdown",
   "metadata": {},
   "source": [
    " # Rendering\n",
    "\n",
    " This book will examine how to set up for rendering with MaterialX. It is not about how to write a renderer.\n",
    "\n",
    " The topics covered include:\n",
    "\n",
    " 1. What is `renderable` and how to find `renderable`\n",
    " 2. Setting up graphs which are renderable.\n",
    " 2. Semantic differences between `roots` and handling \"transparency\".\n",
    " 3. Accessing inputs and binding resources.\n",
    "\n",
    " This book is **WIP**."
   ]
  },
  {
   "attachments": {},
   "cell_type": "markdown",
   "metadata": {},
   "source": [
    " ## Setup\n",
    "\n",
    " The following code will be used to perform basic setup, which includes creating a working document\n",
    " and loading in standard libraries."
   ]
  },
  {
   "cell_type": "code",
   "execution_count": 1,
   "metadata": {
    "execution": {
     "iopub.execute_input": "2025-01-22T20:43:55.582892Z",
     "iopub.status.busy": "2025-01-22T20:43:55.581892Z",
     "iopub.status.idle": "2025-01-22T20:43:55.715607Z",
     "shell.execute_reply": "2025-01-22T20:43:55.715607Z"
    }
   },
   "outputs": [
    {
     "name": "stdout",
     "output_type": "stream",
     "text": [
      "Loaded 780 standard library definitions\n"
     ]
    }
   ],
   "source": [
    "import MaterialX as mx\n",
    "import MaterialX.PyMaterialXGenShader as mx_gen_shader\n",
    "import MaterialX.PyMaterialXGenGlsl as mx_gen_glsl\n",
    "import MaterialX.PyMaterialXRender as mx_render\n",
    "import MaterialX.PyMaterialXRenderGlsl as mx_render_glsl\n",
    "import os, inspect, sys\n",
    "\n",
    "from mtlxutils import mxshadergen\n",
    "\n",
    "stdlib = mx.createDocument()\n",
    "searchPath = mx.getDefaultDataSearchPath()\n",
    "#searchPath.append(os.path.dirname(inputFilename))        \n",
    "libraryFolders = mx.getDefaultDataLibraryFolders()\n",
    "try:\n",
    "    libFiles = mx.loadLibraries(libraryFolders, searchPath, stdlib)\n",
    "except mx.Exception as err:\n",
    "    print('Failed to load standard library definitions: \"', err, '\"')\n",
    "\n",
    "if libFiles:\n",
    "    doc = mx.createDocument()\n",
    "    doc.importLibrary(stdlib)\n",
    "    print('Loaded %s standard library definitions' % len(doc.getNodeDefs()))\n"
   ]
  },
  {
   "cell_type": "code",
   "execution_count": 2,
   "metadata": {
    "execution": {
     "iopub.execute_input": "2025-01-22T20:43:55.747614Z",
     "iopub.status.busy": "2025-01-22T20:43:55.746649Z",
     "iopub.status.idle": "2025-01-22T20:43:55.876628Z",
     "shell.execute_reply": "2025-01-22T20:43:55.876628Z"
    }
   },
   "outputs": [
    {
     "name": "stdout",
     "output_type": "stream",
     "text": [
      "Read in valid file \"./data/unlit_marble_solid.mtlx\" for rendering.\n"
     ]
    }
   ],
   "source": [
    "\n",
    "#inputFilename = './data/standard_surface_marble_solid.mtlx'\n",
    "inputFilename = './data/unlit_marble_solid.mtlx'\n",
    "#inputFilename = './data/unlit_image.mtlx'\n",
    "try:\n",
    "    mx.readFromXmlFile(doc, inputFilename)        \n",
    "    valid, msg = doc.validate()\n",
    "    if not valid:\n",
    "        raise mx.Exception('Document is invalid')\n",
    "\n",
    "    print('Read in valid file \"'\"%s\"'\" for rendering.' % inputFilename)\n",
    "\n",
    "except mx.ExceptionFileMissing as err:\n",
    "    print('File %s could not be loaded: \"' % inputFilename, err, '\"')\n",
    "except mx.Exception as err:\n",
    "    print('File %s fail to load properly: \"' % inputFilename, err, '\"')\n"
   ]
  },
  {
   "cell_type": "code",
   "execution_count": 3,
   "metadata": {
    "execution": {
     "iopub.execute_input": "2025-01-22T20:43:55.879628Z",
     "iopub.status.busy": "2025-01-22T20:43:55.879628Z",
     "iopub.status.idle": "2025-01-22T20:43:55.896114Z",
     "shell.execute_reply": "2025-01-22T20:43:55.896114Z"
    }
   },
   "outputs": [],
   "source": [
    "#import PIL \n",
    "#help(Image)\n",
    "\n",
    "def imageLoaderTest():\n",
    "    return False\n",
    "    #if imageLoader:\n",
    "    #    print('created image loader')\n",
    "    #    newImage = imageLoader.loadImage('./images/Houdini_Node_Editor.png')\n",
    "    #    print('load image:', newImage.getWidth(), ',', newImage.getHeight(), ',', newImage.getChannelCount())\n",
    "    #    print('- bt:', newImage.getBaseType(), '. bs', newImage.getBaseStride() )\n",
    "    #    imageLoader.saveImage('./test.png', newImage, False)\n",
    "\n",
    "    #self.image = mx_render.Image.create(512, 512, 4, mx_render.BaseType.UINT8 )\n",
    "    #if self.image:\n",
    "    #    self.image.createResourceBuffer()\n",
    "    #    color = mx.Color4(1, 1, 0, 1)\n",
    "    #    self.image.setUniformColor(color)\n",
    "\n",
    "class GlslRenderer():\n",
    "    \n",
    "    def __init__(self):\n",
    "        # Renderer      \n",
    "        self.renderer = None\n",
    "\n",
    "        # Code Generator\n",
    "        self.mxgen = None \n",
    "        self.activeShader = None\n",
    "        self.activeShaderErrors = ''\n",
    "        self.sourceCode = {}\n",
    "\n",
    "        # Image capture\n",
    "        self.capturedImage = None\n",
    "\n",
    "        # Geometry loading\n",
    "        self.haveCGLTFLoader = False\n",
    "        for className, classObject in inspect.getmembers(sys.modules['MaterialX.PyMaterialXRender']):\n",
    "            if className == 'CgltfLoader' and inspect.isclass(classObject):\n",
    "                self.haveCGLTFLoader = True\n",
    "                break\n",
    "\n",
    "        # Light setup\n",
    "        self.lightHandler = None\n",
    "\n",
    "    def getRenderer(self):\n",
    "        return self.renderer\n",
    "    \n",
    "    def getCodeGenerator(self):\n",
    "        return self.mxgen\n",
    "    \n",
    "    def getActiveShader(self):\n",
    "        return self.activeShader\n",
    "\n",
    "    def getActiveShaderErrors(self):\n",
    "        return self.activeShaderErrors\n",
    "    \n",
    "    def getSourceCode(self):\n",
    "        return self.sourceCode\n",
    "    \n",
    "    def haveGLTFLoader(self):\n",
    "        return self.haveCGLTFLoader\n",
    "    \n",
    "    def getLightHandler(self):\n",
    "        return self.lightHandler\n",
    "\n",
    "    def initialize(self, w=512, h=512, bufferFormat=mx_render.BaseType.UINT8):\n",
    "        self.renderer = mx_render_glsl.GlslRenderer.create(w, h, bufferFormat)\n",
    "        if self.renderer:\n",
    "            self.renderer.initialize()\n",
    "            self.initializeImageHandler()\n",
    "            self.initializeGeometryHandler()\n",
    "\n",
    "    def resize(self, w, h):\n",
    "        if not self.renderer:\n",
    "            return False\n",
    "        \n",
    "        self.renderer.setSize(w, h)\n",
    "        self.capturedImage = None\n",
    "\n",
    "    def initializeImageHandler(self):        \n",
    "        imageLoader = mx_render.StbImageLoader.create()\n",
    "        imageHandler = mx_render_glsl.GLTextureHandler.create(imageLoader)    \n",
    "        # Missing fom the Python API !\n",
    "        #imageHandler = renderer.createImageHandler()\n",
    "        if imageHandler:\n",
    "            imageHandler.setSearchPath(searchPath)\n",
    "            print('Initialize image handler on renderer')\n",
    "            self.renderer.setImageHandler(imageHandler)\n",
    "\n",
    "    def initializeGeometryHandler(self):\n",
    "        # renderer has a geometry handler created by\n",
    "        # default so not need to call: mx_render.GeometryHandler.create()\n",
    "        geometryHandler = self.renderer.getGeometryHandler()\n",
    "        # TODO: Currently missing gltf loader from Python API\n",
    "        if self.haveCGLTFLoader:\n",
    "            gltfLoader = mx_render.CgltfLoader.create()\n",
    "            geometryHandler.addLoader(gltfLoader)\n",
    "\n",
    "    def loadGeometry(self, fileName):\n",
    "        geometryHandler = self.renderer.getGeometryHandler()\n",
    "        if geometryHandler:\n",
    "            texcoordVerticalFlip = True\n",
    "            if not geometryHandler.hasGeometry(fileName):\n",
    "                geometryHandler.loadGeometry(fileName, texcoordVerticalFlip)\n",
    "\n",
    "    def getGeometyHandler(self):\n",
    "        return self.renderer.getGeometryHandler()\n",
    "\n",
    "    def initializeLights(self, doc, enableDirectLighting, radianceIBLPath, irradianceIBLPath, enableReferenceQuality):\n",
    "        self.lightHandler = mx_render.LightHandler.create()\n",
    "\n",
    "        # Scan for lights\n",
    "        if enableDirectLighting:\n",
    "            lights = []\n",
    "            self.lightHandler.findLights(doc, lights)\n",
    "            mxcontext = self.mxgen.getContext()\n",
    "            self.lightHandler.registerLights(doc, lights, mxcontext)\n",
    "\n",
    "            # Set the list of lights on the with the generator\n",
    "            self.lightHandler.setLightSources(lights)\n",
    "\n",
    "        # Load environment lights.\n",
    "        imageHandler = self.renderer.getImageHandler()\n",
    "        envRadiance = imageHandler.acquireImage(radianceIBLPath)\n",
    "        envIrradiance = imageHandler.acquireImage(irradianceIBLPath)\n",
    "\n",
    "        # Apply light settings for render tests.\n",
    "        self.lightHandler.setEnvRadianceMap(envRadiance)\n",
    "        self.lightHandler.setEnvIrradianceMap(envIrradiance)\n",
    "        self.lightHandler.setEnvSampleCount(4096 if enableReferenceQuality else 1024)\n",
    "        # TODO: Python API missing\n",
    "        #self.lightHandler.setRefractionTwoSided(True)\n",
    "\n",
    "    def captureImage(self):\n",
    "\n",
    "        self.capturedImage = self.renderer.captureImage(self.capturedImage)\n",
    "\n",
    "    def saveCapture(self, filePath, verticalFlip=True): \n",
    "        if not self.capturedImage:\n",
    "            self.captureImage()\n",
    "        \n",
    "        imageHandler = self.renderer.getImageHandler()\n",
    "        if imageHandler:\n",
    "            imageHandler.saveImage(filePath, self.capturedImage, verticalFlip)            \n",
    "\n",
    "    def getImageHandler(self):\n",
    "        return self.renderer.getImageHandler()\n",
    "\n",
    "    def getCapturedImage(self):\n",
    "        return self.capturedImage\n",
    "\n",
    "    def setupGenerator(self, doc, stdlib, searchPath):\n",
    "        # Setup generation\n",
    "        self.mxgen = mxshadergen.MtlxShaderGen(stdlib)\n",
    "        self.mxgen.setup()\n",
    "\n",
    "        # Set generator and generator options\n",
    "        mxcontext = self.mxgen.setGeneratorForTarget('genglsl')\n",
    "        mxgenerator = mxcontext.getShaderGenerator()\n",
    "\n",
    "        # Set source code path\n",
    "        self.mxgen.registerSourceCodeSearchPath(searchPath)\n",
    "\n",
    "    def findRenderableElements(self, doc):\n",
    "        # Generate shader for a given node\n",
    "        self.nodes = self.mxgen.findRenderableElements(doc)\n",
    "        return self.nodes\n",
    "\n",
    "    def generateShader(self, node):\n",
    "        self.activeShader = None\n",
    "        if not node:\n",
    "            return None\n",
    "        \n",
    "        # Set up generation options.\n",
    "        # Detect requirement for shading and transparency.\n",
    "        mxcontext = self.mxgen.getContext()\n",
    "        mxoptions = mxcontext.getOptions()\n",
    "        mxgenerator = mxcontext.getShaderGenerator()\n",
    "        if not mx_gen_shader.elementRequiresShading(node):\n",
    "            mxoptions.hwMaxActiveLightSources = 0\n",
    "        else:\n",
    "            mxoptions.hwMaxActiveLightSources = 0\n",
    "        mxoptions.hwTransparency = mx_gen_shader.isTransparentSurface(node, mxgenerator.getTarget())\n",
    "        mxoptions.targetColorSpaceOverride = 'lin_rec709'\n",
    "\n",
    "        self.activeShader, self.activeShaderErrors = self.mxgen.generateShader(node)        \n",
    "        if self.activeShader:\n",
    "            self.sourceCode[mx_gen_shader.VERTEX_STAGE] = self.activeShader.getSourceCode(mx_gen_shader.VERTEX_STAGE)\n",
    "            self.sourceCode[mx_gen_shader.PIXEL_STAGE] = self.activeShader.getSourceCode(mx_gen_shader.PIXEL_STAGE)\n",
    "\n",
    "        return self.activeShader\n",
    "\n",
    "    def createProgram(self):\n",
    "        if not self.activeShader:\n",
    "            return False\n",
    "        \n",
    "        #psStage = shader.getStage('pixel') #mx_gen_shader.Stage.PIXEL\n",
    "        #block = psStage.getUniformBlock('PublicUniforms') #mx_gen_shader.HW.PUBLIC_UNIFORMS)\n",
    "        # getVariableOrder() is not defined in the Python API\n",
    "        #for uniform in block: #.getVariableOrder():\n",
    "        #    uniformVariable = uniform.getVariable()\n",
    "        #    print(uniformVariable)\n",
    "\n",
    "        self.renderer.setLightHandler(self.lightHandler)\n",
    "        self.renderer.createProgram(self.activeShader)\n",
    "        #self.renderer.validateInputs()\n",
    "\n",
    "        program = self.renderer.getProgram()\n",
    "        if program:\n",
    "            return True\n",
    "        else:\n",
    "            return False\n",
    "\n",
    "    def getProgram(self):\n",
    "        if self.renderer:\n",
    "            return self.renderer.getProgram() \n",
    "\n",
    "    def render(self):\n",
    "        if not self.renderer:\n",
    "            return False, 'No renderer'\n",
    "        \n",
    "        # Render\n",
    "        try:\n",
    "            print('Render')\n",
    "            self.renderer.render()\n",
    "            print('Render done')\n",
    "        except LookupError as err:\n",
    "            return False, err\n",
    "        \n",
    "        return True, ''\n"
   ]
  },
  {
   "attachments": {},
   "cell_type": "markdown",
   "metadata": {},
   "source": [
    " ## Rendering Setup"
   ]
  },
  {
   "cell_type": "code",
   "execution_count": 4,
   "metadata": {
    "execution": {
     "iopub.execute_input": "2025-01-22T20:43:55.899122Z",
     "iopub.status.busy": "2025-01-22T20:43:55.899122Z",
     "iopub.status.idle": "2025-01-22T20:43:56.360762Z",
     "shell.execute_reply": "2025-01-22T20:43:56.360762Z"
    }
   },
   "outputs": [
    {
     "name": "stdout",
     "output_type": "stream",
     "text": [
      "Initialize image handler on renderer\n",
      "Setup lighting:\n",
      "- Loaded radiance map: 1 x 1\n",
      "- Loaded irradiance map: 1 x 1\n",
      "Setup geometry:\n",
      "- Initialze geometry mesh: \".\\data\\sphere.obj\"\n",
      "- Iniitialize generator for target: genglsl\n"
     ]
    }
   ],
   "source": [
    "glslRenderer = GlslRenderer()\n",
    "glslRenderer.initialize(512, 512, mx_render.BaseType.UINT8)\n",
    "# This is not exposed\n",
    "#clearColor = mx.Color3(1.0, 1.0, 1.0)\n",
    "#glslRenderer.setScreenColor(clearColor)\n",
    "\n",
    "glslRenderer.initializeLights(doc, False, \n",
    "                              './data/lights/san_giuseppe_bridge.hdr', \n",
    "                              './data/lights/irradiance/san_giuseppe_bridge.hdr',\n",
    "                              False)\n",
    "lightHandler = glslRenderer.getLightHandler()\n",
    "if lightHandler:\n",
    "    print('Setup lighting:')\n",
    "    radMap = lightHandler.getEnvRadianceMap()\n",
    "    irradMap = lightHandler.getEnvIrradianceMap()\n",
    "    print('- Loaded radiance map: %d x %d' % (radMap.getWidth(), radMap.getHeight()))\n",
    "    print('- Loaded irradiance map: %d x %d' % (irradMap.getWidth(), irradMap.getHeight()))\n",
    "\n",
    "geometryFile = './data/sphere.obj'\n",
    "#if glslRenderer.haveGLTFLoader():\n",
    "#    geometryFile = './data/shaderball.glb'\n",
    "\n",
    "glslRenderer.loadGeometry(geometryFile)\n",
    "geometryHandler = glslRenderer.getGeometyHandler() \n",
    "if geometryHandler:\n",
    "    print('Setup geometry:')\n",
    "    for mesh in geometryHandler.getMeshes():\n",
    "        print('- Initialze geometry mesh: \"%s\"' % mesh.getName())\n",
    "\n",
    "glslRenderer.setupGenerator(doc, stdlib, searchPath)\n",
    "context = glslRenderer.getCodeGenerator().getContext()\n",
    "if context:\n",
    "    generator = context.getShaderGenerator()\n",
    "    if generator:\n",
    "        print('- Iniitialize generator for target:', generator.getTarget())\n"
   ]
  },
  {
   "cell_type": "code",
   "execution_count": 5,
   "metadata": {
    "execution": {
     "iopub.execute_input": "2025-01-22T20:43:56.363773Z",
     "iopub.status.busy": "2025-01-22T20:43:56.363773Z",
     "iopub.status.idle": "2025-01-22T20:43:56.371670Z",
     "shell.execute_reply": "2025-01-22T20:43:56.371670Z"
    }
   },
   "outputs": [
    {
     "name": "stdout",
     "output_type": "stream",
     "text": [
      "Generate shader for node: surfacematerial\n"
     ]
    }
   ],
   "source": [
    "# Set up additional options for generation\n",
    "context = glslRenderer.getCodeGenerator().getContext()\n",
    "genOptions = context.getOptions()\n",
    "# TODO: This has not been exposed in Python\n",
    "#genOptions.addUpstreamDependencies = True\n",
    "\n",
    "# Find a renderable and generate the shader for it\n",
    "nodes = glslRenderer.findRenderableElements(doc)\n",
    "shader = None\n",
    "printSource = True\n",
    "if nodes:\n",
    "    shader = glslRenderer.generateShader(nodes[0])\n",
    "    if shader:\n",
    "        print('Generate shader for node: %s' % nodes[0].getNamePath())\n"
   ]
  },
  {
   "attachments": {},
   "cell_type": "markdown",
   "metadata": {},
   "source": [
    " ## Shader Stages / Uniform Blocks / Shader Ports\n",
    "\n",
    " * For languages like OSL and MSL there is only one shader which is the `pixel` shader -- and thus one stage.\n",
    " * For hardware shading languages like GLSL, MSL, Vulkan there can be more than 1 stage. Currently the\n",
    " defaults code generators only emit a `vertex` and `pixel` stage.\n",
    " * Within each stage the list of uniforms can be extracted. These are organized into \"blocks\". User facing uniforms will be organiz \"public\" blocks, and internal ones in \"private\" blocks.\n",
    " * Lighting uniforms are exposed as a \"lighting\" block. For example environment lighting can be bound there.\n",
    " * Within each block the each uniform is represented as a <a href=\"\" target=\"_blank\">ShaderPort</a>\n",
    "\n",
    " ### Shader Ports\n",
    " * shader ports will provide the exact name of the uniform in the shader via `getVariable()` interface\n",
    " * they will also provide the value after all \"resolves\" have been performed. Note that this can differ\n",
    " from the original value stored on a node Input. For example tokens may be resolved on geometric attribute and\n",
    " filenames.\n",
    " * It is possible to \"pre-resolve\" values as needed. For example MDL has a special resolver to handle file names.\n",
    " It makes use of the <a href=\"\" target=\"_blank\">flattenFilenames()</a> utility before performing additional resolves\n",
    " for `Omniverse` compatibility\n",
    "\n",
    " * To find correspondence back to the original MaterialX input the path may be found using `getPath()`, and then\n",
    " calling `Document.getDescendent()` with the path as the interface argument. An `Input` will be returned if found.\n",
    "   * Note that an input to an graph's interior node may be returned as the port path. In this case,\n",
    "     the interface input should be found to provide the correct upstream corresponding path. The method\n",
    "     `getPortPath()` shows this logic.\n",
    "   * Note that a Shader may be generated at a given time, and if the MaterialX graph changes then the Shader paths\n",
    "     may reference inputs which may no longer exist. It is up the integration to regenerate shaders on any \"topological\"\n",
    "     changes.\n",
    "\n",
    " In the sample funciton `debugStages()`, each stage is iterated over. For each stage the list of uniform blocks is extracted.\n",
    " Then for each block the list of shader ports is printed out. Note that \"private\" vertex stage uniforms involve things like model / view transforms, there are private and pixel stage uniforms as well as \"light data\" uniforms for environment map binding."
   ]
  },
  {
   "cell_type": "code",
   "execution_count": 6,
   "metadata": {
    "execution": {
     "iopub.execute_input": "2025-01-22T20:43:56.374716Z",
     "iopub.status.busy": "2025-01-22T20:43:56.373712Z",
     "iopub.status.idle": "2025-01-22T20:43:56.382337Z",
     "shell.execute_reply": "2025-01-22T20:43:56.382337Z"
    }
   },
   "outputs": [
    {
     "name": "stdout",
     "output_type": "stream",
     "text": [
      "Stage name: \"vertex\"\n",
      "------------------------------\n",
      "- Block:  PublicUniforms\n",
      "Stage name: \"pixel\"\n",
      "------------------------------\n",
      "- Block:  PublicUniforms\n",
      "  - Variable: backsurfaceshader. Value: (<NONE>). Type: surfaceshader, Path: \"<NONE>\"\n",
      "  - Variable: displacementshader1. Value: (<NONE>). Type: displacementshader, Path: \"<NONE>\"\n",
      "  - Variable: add_xyz_in2. Value: (1, 1, 1). Type: vector3, Path: \"NG_marble1/add_xyz/in2\"\n",
      "  - Variable: scale_pos_in2. Value: (4). Type: float, Path: \"NG_marble1/noise_scale_2\"\n",
      "  - Variable: scale_xyz_in2. Value: (6). Type: float, Path: \"NG_marble1/noise_scale_1\"\n",
      "  - Variable: noise_amplitude. Value: (1). Type: float, Path: \"NG_marble1/noise/amplitude\"\n",
      "  - Variable: noise_octaves. Value: (3). Type: integer, Path: \"NG_marble1/noise_octaves\"\n",
      "  - Variable: noise_lacunarity. Value: (2). Type: float, Path: \"NG_marble1/noise/lacunarity\"\n",
      "  - Variable: noise_diminish. Value: (0.5). Type: float, Path: \"NG_marble1/noise/diminish\"\n",
      "  - Variable: scale_noise_in2. Value: (3). Type: float, Path: \"NG_marble1/scale_noise/in2\"\n",
      "  - Variable: scale_in2. Value: (0.5). Type: float, Path: \"NG_marble1/scale/in2\"\n",
      "  - Variable: bias_in2. Value: (0.5). Type: float, Path: \"NG_marble1/bias/in2\"\n",
      "  - Variable: power_in2. Value: (3). Type: float, Path: \"NG_marble1/noise_power\"\n",
      "  - Variable: color_mix_fg. Value: (0.1, 0.1, 0.3). Type: color3, Path: \"NG_marble1/base_color_2\"\n",
      "  - Variable: color_mix_bg. Value: (0.8, 0.8, 0.8). Type: color3, Path: \"NG_marble1/base_color_1\"\n",
      "  - Variable: surface_unlit_emission. Value: (1). Type: float, Path: \"surface_unlit/emission\"\n",
      "  - Variable: surface_unlit_transmission. Value: (0). Type: float, Path: \"surface_unlit/transmission\"\n",
      "  - Variable: surface_unlit_transmission_color. Value: (1, 1, 1). Type: color3, Path: \"surface_unlit/transmission_color\"\n",
      "  - Variable: surface_unlit_opacity. Value: (1). Type: float, Path: \"surface_unlit/opacity\"\n"
     ]
    }
   ],
   "source": [
    "def getPortPath(inputPath, doc):\n",
    "    '''\n",
    "    Find any upstream interface input which maps to a given path\n",
    "    '''\n",
    "    if not inputPath:\n",
    "        return inputPath, None\n",
    "    \n",
    "    input = doc.getDescendant(inputPath)\n",
    "    if input:\n",
    "        # Redirect to interface input if it exists.\n",
    "        # TODO: This should be done during shader generation !\n",
    "        interfaceInput = input.getInterfaceInput()\n",
    "        if interfaceInput:\n",
    "            input = interfaceInput\n",
    "            return input.getNamePath(), interfaceInput\n",
    "\n",
    "    return inputPath, None\n",
    "\n",
    "def debugStages(shader, doc, filter='Public'):\n",
    "    '''\n",
    "    Scan through each stage of a shader and get the uniform blocks for each stage.\n",
    "    For each block, print out list of assocaited ports.\n",
    "    '''\n",
    "    if not shader:\n",
    "        return\n",
    "\n",
    "    for i in range(0, shader.numStages()):\n",
    "        stage = shader.getStage(i)\n",
    "        if stage:\n",
    "            print('Stage name: \"%s\"' % stage.getName())\n",
    "            print('-' * 30)\n",
    "            if stage.getName():\n",
    "                for blockName in stage.getUniformBlocks():\n",
    "                    block = stage.getUniformBlock(blockName)\n",
    "                    if filter:\n",
    "                        if filter not in block.getName():\n",
    "                            continue                        \n",
    "                    print('- Block: ', block.getName())  \n",
    "\n",
    "                    for shaderPort in block:\n",
    "                        variable = shaderPort.getVariable()\n",
    "                        value = shaderPort.getValue().getValueString() if shaderPort.getValue() else '<NONE>'\n",
    "                        origPath = shaderPort.getPath()\n",
    "                        path, interfaceInput = getPortPath(shaderPort.getPath(), doc)                                                \n",
    "                        if not path:\n",
    "                            path = '<NONE>'\n",
    "                        else:\n",
    "                            if path != origPath:\n",
    "                                path = origPath + ' --> ' + path\n",
    "                        type = shaderPort.getType().getName()\n",
    "                        print('  - Variable: %s. Value: (%s). Type: %s, Path: \"%s\"' % (variable, value, type, path))\n",
    "\n",
    "                        unit = shaderPort.getUnit()\n",
    "                        if interfaceInput:\n",
    "                            colorspace = interfaceInput.getColorSpace()\n",
    "                        else:\n",
    "                            colorspace = shaderPort.getColorSpace() \n",
    "                        if unit or colorspace:                            \n",
    "                            print('   - Unit:%s, ColorSpace:%s' % (unit,colorspace))\n",
    "                        \n",
    "if shader:\n",
    "    # Examine public uniforms first\n",
    "    debugStages(shader, doc, 'Public')\n"
   ]
  },
  {
   "attachments": {},
   "cell_type": "markdown",
   "metadata": {},
   "source": [
    " <img src='./data/unlit_image_graph.png' width='80%'>\n",
    " <img src='./data/unlit_image_top_level.png' width='80%'>\n"
   ]
  },
  {
   "attachments": {},
   "cell_type": "markdown",
   "metadata": {},
   "source": [
    "\n",
    " In the output, you will note that:\n",
    " * the shader variable `multiply_color3_in1` corresponds to an input: `nodegraph1/multiply_color3/in1` maps to the interface input `nodegraph1/color3_port`.\n",
    " * the shader variable `image_color3_file` corresponds to an interior input: `nodegraph1/image_color3/file` is maps to the interface input `nodegraph1/filename_port`.\n",
    "\n",
    " Then updating the interface ports, the appropriate shader uniform needs ot be used.\n",
    "\n",
    " The file image input 'nodegraph1/filename_port' is an interface input which has a `colorspace` transform specified."
   ]
  },
  {
   "attachments": {},
   "cell_type": "markdown",
   "metadata": {},
   "source": [
    " ### Building UI\n",
    "\n",
    " MaterialXRender has the utility `createUIPropertyGroups()` which performs parsing on a block to build\n",
    " UI for the MaterialX Viewer and Graph Editor.\n",
    "\n",
    " It goes through the interface mapping step as well as extracting desired information from the MaterialX `Inputs` and `ShaderPort` inputs."
   ]
  },
  {
   "attachments": {},
   "cell_type": "markdown",
   "metadata": {},
   "source": [
    " ### Source Code\n",
    "\n",
    " The uniform information can be compared against the produced source code.\n",
    " In the sample code below we scan the source for \"uniforms\" and prints them out."
   ]
  },
  {
   "cell_type": "code",
   "execution_count": 7,
   "metadata": {
    "execution": {
     "iopub.execute_input": "2025-01-22T20:43:56.384375Z",
     "iopub.status.busy": "2025-01-22T20:43:56.384375Z",
     "iopub.status.idle": "2025-01-22T20:43:56.388849Z",
     "shell.execute_reply": "2025-01-22T20:43:56.388849Z"
    }
   },
   "outputs": [
    {
     "name": "stdout",
     "output_type": "stream",
     "text": [
      "--------------------------------------------------------------------------------\n",
      "- \"vertex\" Stage Code:\n",
      "   uniform mat4 u_worldMatrix = mat4(1.0);\n",
      "   uniform mat4 u_viewProjectionMatrix = mat4(1.0);\n",
      "--------------------------------------------------------------------------------\n",
      "- \"pixel\" Stage Code:\n",
      "   uniform mat4 u_envMatrix = mat4(-1.000000, 0.000000, 0.000000, 0.000000, 0.000000, 1.000000, 0.000000, 0.000000, 0.000000, 0.000000, -1.000000, 0.000000, 0.000000, 0.000000, 0.000000, 1.000000);\n",
      "   uniform sampler2D u_envRadiance;\n",
      "   uniform float u_envLightIntensity = 1.000000;\n",
      "   uniform int u_envRadianceMips = 1;\n",
      "   uniform int u_envRadianceSamples = 16;\n",
      "   uniform sampler2D u_envIrradiance;\n",
      "   uniform bool u_refractionTwoSided = false;\n",
      "   uniform surfaceshader backsurfaceshader;\n",
      "   uniform displacementshader displacementshader1;\n",
      "   uniform vec3 add_xyz_in2 = vec3(1.000000, 1.000000, 1.000000);\n",
      "   uniform float scale_pos_in2 = 4.000000;\n",
      "   uniform float scale_xyz_in2 = 6.000000;\n",
      "   uniform float noise_amplitude = 1.000000;\n",
      "   uniform int noise_octaves = 3;\n",
      "   uniform float noise_lacunarity = 2.000000;\n",
      "   uniform float noise_diminish = 0.500000;\n",
      "   uniform float scale_noise_in2 = 3.000000;\n",
      "   uniform float scale_in2 = 0.500000;\n",
      "   uniform float bias_in2 = 0.500000;\n",
      "   uniform float power_in2 = 3.000000;\n",
      "   uniform vec3 color_mix_fg = vec3(0.100000, 0.100000, 0.300000);\n",
      "   uniform vec3 color_mix_bg = vec3(0.800000, 0.800000, 0.800000);\n",
      "   uniform float surface_unlit_emission = 1.000000;\n",
      "   uniform float surface_unlit_transmission = 0.000000;\n",
      "   uniform vec3 surface_unlit_transmission_color = vec3(1.000000, 1.000000, 1.000000);\n",
      "   uniform float surface_unlit_opacity = 1.000000;\n"
     ]
    }
   ],
   "source": [
    "if printSource:\n",
    "    sourceCode = glslRenderer.getSourceCode()\n",
    "    for stage in sourceCode:\n",
    "        print('-' * 80)\n",
    "        print('- \"%s\" Stage Code:' % stage)\n",
    "        lines = sourceCode[stage].split('\\n')\n",
    "        for l in lines:\n",
    "            if l.startswith('uniform'):\n",
    "                print('  ', l)\n",
    "\n"
   ]
  },
  {
   "attachments": {},
   "cell_type": "markdown",
   "metadata": {},
   "source": [
    "\n",
    " ## Note on Topological Changes\n",
    " * In previous version there was a dirty/notification system which could be hooked into when a document changed. As this no longer exists, it is up the integration to keep track of relevant changes.\n",
    " * Value changes can require rebinding of resources such as geometry and images as well as scalar values.\n",
    " * Topological changes can include:\n",
    "   * changes between node port connections,\n",
    "   * changes in value on conditional nodes,\n",
    "   * changes to attributes which extract channels from a tuple,\n",
    "   * changes to values which affect transparency\n",
    "   * changes which affect \"uniform blocks\", if the blocks organization / layout changes. (e.g. `Vulkan` creates uniform blocks)\n",
    "   For this it would be **very useful if there was a way to specify a hint that a value change means a topological change.**\n",
    " * Value changes only require rebinding to an existing shader while topological changes require a shader to be rebuilt.\n",
    "\n"
   ]
  },
  {
   "attachments": {},
   "cell_type": "markdown",
   "metadata": {},
   "source": [
    " ## Binding Inputs\n",
    "\n",
    " **WIP**"
   ]
  },
  {
   "cell_type": "code",
   "execution_count": 8,
   "metadata": {
    "execution": {
     "iopub.execute_input": "2025-01-22T20:43:56.390893Z",
     "iopub.status.busy": "2025-01-22T20:43:56.390893Z",
     "iopub.status.idle": "2025-01-22T20:43:56.407966Z",
     "shell.execute_reply": "2025-01-22T20:43:56.407966Z"
    }
   },
   "outputs": [
    {
     "name": "stdout",
     "output_type": "stream",
     "text": [
      "Generated shader for node: surfacematerial\n",
      "Create renderer program from shader\n"
     ]
    }
   ],
   "source": [
    "createdProgram = False\n",
    "if shader:\n",
    "    print('Generated shader for node: %s' % nodes[0].getNamePath())\n",
    "    createdProgram = glslRenderer.createProgram()\n",
    "\n",
    "printAttribs = False\n",
    "if createdProgram:\n",
    "    print('Create renderer program from shader')\n",
    "\n",
    "    program = glslRenderer.getProgram()\n",
    "    if program:\n",
    "        if printAttribs:\n",
    "            attribs = program.getAttributesList()\n",
    "            print('%d geometry attribs in program' % len(attribs))   \n",
    "            for attrib in attribs:\n",
    "                print('- attribute: %s' % attrib)\n",
    "                input = attribs[attrib] \n",
    "            \n",
    "            uniforms = program.getUniformsList()\n",
    "            print('%d uniforms' % len(uniforms))\n",
    "            for uniform in uniforms:\n",
    "                print('- Uniform:', uniform)\n",
    "                port = uniforms[uniform]\n",
    "                print('  - Port type:', port.gltype)   \n",
    "\n",
    "\n"
   ]
  },
  {
   "attachments": {},
   "cell_type": "markdown",
   "metadata": {},
   "source": [
    " ## Rendering and Capturing Images"
   ]
  },
  {
   "cell_type": "code",
   "execution_count": 9,
   "metadata": {
    "execution": {
     "iopub.execute_input": "2025-01-22T20:43:56.411008Z",
     "iopub.status.busy": "2025-01-22T20:43:56.410008Z",
     "iopub.status.idle": "2025-01-22T20:43:56.452984Z",
     "shell.execute_reply": "2025-01-22T20:43:56.452984Z"
    }
   },
   "outputs": [
    {
     "name": "stdout",
     "output_type": "stream",
     "text": [
      "Render\n",
      "Render done\n",
      "Rendered frame.\n",
      "Saved rendering to: ./data/render_notebook_capture.png\n"
     ]
    }
   ],
   "source": [
    "\n",
    "runRender = True\n",
    "if createdProgram and runRender:\n",
    "    rendered, renderErrors = glslRenderer.render()\n",
    "    if not rendered:\n",
    "        print('Failed to render, Errors:', renderErrors)\n",
    "    else:\n",
    "        print('Rendered frame.')\n",
    "\n",
    "glslRenderer.captureImage()\n",
    "capturedImage = glslRenderer.getCapturedImage()\n",
    "if capturedImage:\n",
    "    flipImage = True\n",
    "    fileName = './data/render_notebook_capture.png'\n",
    "    print('Saved rendering to: %s' % fileName)\n",
    "    glslRenderer.saveCapture(fileName, flipImage) \n"
   ]
  },
  {
   "attachments": {},
   "cell_type": "markdown",
   "metadata": {},
   "source": [
    " Rendering Images\n",
    "\n",
    " <img src=\"./data/render_notebook_capture.png\" style=\"border:5px outset silver\">"
   ]
  }
 ],
 "metadata": {
  "kernelspec": {
   "display_name": ".venv",
   "language": "python",
   "name": "python3"
  },
  "language_info": {
   "codemirror_mode": {
    "name": "ipython",
    "version": 3
   },
   "file_extension": ".py",
   "mimetype": "text/x-python",
   "name": "python",
   "nbconvert_exporter": "python",
   "pygments_lexer": "ipython3",
   "version": "3.11.0"
  }
 },
 "nbformat": 4,
 "nbformat_minor": 2
}
