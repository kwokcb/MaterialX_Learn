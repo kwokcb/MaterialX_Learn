{
 "cells": [
  {
   "cell_type": "markdown",
   "metadata": {},
   "source": [
    "# Targets and Implementations\n",
    "\n",
    "This notebook will go over some of the details about adding implementations for custom \"targets\". \n",
    "\n",
    "We will cover:\n",
    "\n",
    "1. Creating a new target definition\n",
    "2. Inheriting from an existing target\n",
    "3. Setting the target for an implementation\n",
    "4. Associating a target with a node definition\n",
    "4. Implementations without targets versus ones with targets."
   ]
  },
  {
   "cell_type": "markdown",
   "metadata": {},
   "source": [
    "### Setup\n",
    "\n",
    "For this setup all is the core package"
   ]
  },
  {
   "cell_type": "code",
   "execution_count": 1,
   "metadata": {
    "execution": {
     "iopub.execute_input": "2025-01-22T20:44:05.500618Z",
     "iopub.status.busy": "2025-01-22T20:44:05.500618Z",
     "iopub.status.idle": "2025-01-22T20:44:05.526235Z",
     "shell.execute_reply": "2025-01-22T20:44:05.526235Z"
    }
   },
   "outputs": [],
   "source": [
    "import MaterialX as mx"
   ]
  },
  {
   "cell_type": "markdown",
   "metadata": {},
   "source": [
    "## Target Definitions\n",
    "\n",
    "A target is defined by the <a href=\"https://materialx.org/docs/api/class_target_def.html\" target=\"_blank\">TargetDef</a> interface.\n",
    "\n",
    "Any string can be used but for code generation it is advised to follow the\n",
    "existing naming conventions if contributing back to the MaterialX repo. The provided target definitions can be found by loading in the standard libraries.\n"
   ]
  },
  {
   "cell_type": "code",
   "execution_count": 2,
   "metadata": {
    "execution": {
     "iopub.execute_input": "2025-01-22T20:44:05.529244Z",
     "iopub.status.busy": "2025-01-22T20:44:05.529244Z",
     "iopub.status.idle": "2025-01-22T20:44:05.598440Z",
     "shell.execute_reply": "2025-01-22T20:44:05.598440Z"
    }
   },
   "outputs": [
    {
     "name": "stdout",
     "output_type": "stream",
     "text": [
      "Standard library target definitions:\n",
      "- essl\n",
      "- genglsl\n",
      "- genmdl\n",
      "- genmsl\n",
      "- genosl\n"
     ]
    }
   ],
   "source": [
    "doc = mx.createDocument()\n",
    "searchPath = mx.getDefaultDataSearchPath()\n",
    "libFiles = mx.loadLibraries(mx.getDefaultDataLibraryFolders(), searchPath, doc)\n",
    "\n",
    "print('Standard library target definitions:')\n",
    "for targetDef in doc.getTargetDefs():\n",
    "    print('-', targetDef.getName()) "
   ]
  },
  {
   "cell_type": "markdown",
   "metadata": {},
   "source": [
    "## Creating a New Target\n",
    "\n",
    "A new target can be created using the Document API addTargetDef.\n",
    "Any valid logical name can be used."
   ]
  },
  {
   "cell_type": "code",
   "execution_count": 3,
   "metadata": {
    "execution": {
     "iopub.execute_input": "2025-01-22T20:44:05.629450Z",
     "iopub.status.busy": "2025-01-22T20:44:05.629450Z",
     "iopub.status.idle": "2025-01-22T20:44:05.643547Z",
     "shell.execute_reply": "2025-01-22T20:44:05.643547Z"
    }
   },
   "outputs": [
    {
     "name": "stdout",
     "output_type": "stream",
     "text": [
      "<materialx version=\"1.39\">\n",
      "  <targetdef name=\"mytarget\">\n",
      "</materialx>\n"
     ]
    }
   ],
   "source": [
    "doc = mx.createDocument()\n",
    "mytargetDef = doc.addTargetDef(\"mytarget\")\n",
    "print('%s' % mx.prettyPrint(doc) + '</materialx>')"
   ]
  },
  {
   "cell_type": "markdown",
   "metadata": {},
   "source": [
    "If the implementations for this target are meant to override an existing target's implementation then it should \"inherit\" from that target by setting the inheritance attribute. In this example, the parent target is for OSL (`genosl`)."
   ]
  },
  {
   "cell_type": "code",
   "execution_count": 4,
   "metadata": {
    "execution": {
     "iopub.execute_input": "2025-01-22T20:44:05.646581Z",
     "iopub.status.busy": "2025-01-22T20:44:05.645581Z",
     "iopub.status.idle": "2025-01-22T20:44:05.649180Z",
     "shell.execute_reply": "2025-01-22T20:44:05.649180Z"
    }
   },
   "outputs": [
    {
     "name": "stdout",
     "output_type": "stream",
     "text": [
      "<materialx version=\"1.39\">\n",
      "  <targetdef name=\"mytarget\" inherit=\"genosl\">\n",
      "</materialx>\n"
     ]
    }
   ],
   "source": [
    "mytargetDef.setInheritString('genosl')\n",
    "print('%s' % mx.prettyPrint(doc) + '</materialx>')"
   ]
  },
  {
   "cell_type": "markdown",
   "metadata": {},
   "source": [
    "This target can then be used by new implementations by setting the `target` property on the implementation using the <a href=\"https://materialx.org/docs/api/class_interface_element.htm\" target=\"_blank\">setTarget()</a> interface which\n",
    "is defined on the `InterfaceElement` class. \n",
    "\n",
    "Assuming the function to implement is called `function`, we follow the recommended convention of prefixing the function name with `IM_` (for implementation, and appending the target name to come up with the identifier `IM_function_mytarget`"
   ]
  },
  {
   "cell_type": "code",
   "execution_count": 5,
   "metadata": {
    "execution": {
     "iopub.execute_input": "2025-01-22T20:44:05.651223Z",
     "iopub.status.busy": "2025-01-22T20:44:05.651223Z",
     "iopub.status.idle": "2025-01-22T20:44:05.654984Z",
     "shell.execute_reply": "2025-01-22T20:44:05.654984Z"
    }
   },
   "outputs": [
    {
     "name": "stdout",
     "output_type": "stream",
     "text": [
      "<materialx version=\"1.39\">\n",
      "  <targetdef name=\"mytarget\" inherit=\"genosl\">\n",
      "  <implementation name=\"IM_functon_mytarget\" target=\"mytarget\">\n",
      "</materialx>\n"
     ]
    }
   ],
   "source": [
    "myimpl = doc.addImplementation('IM_functon_mytarget')\n",
    "myimpl.setTarget('mytarget')\n",
    "print('%s' % mx.prettyPrint(doc) + '</materialx>')"
   ]
  },
  {
   "cell_type": "markdown",
   "metadata": {},
   "source": [
    "To be useful an implementation needs to associated with a node definition.\n",
    "This can be done by additionally specifying the `nodedef` property.\n",
    "\n",
    "We will add in a sample definition which outputs a color to reference in the example. \n",
    "Again we follow recommended conventions by prefixing the definition name with `ND_` (for `nodedef`). As definitions define function interfaces they *do not* have a target specifier. \n"
   ]
  },
  {
   "cell_type": "code",
   "execution_count": 6,
   "metadata": {
    "execution": {
     "iopub.execute_input": "2025-01-22T20:44:05.656991Z",
     "iopub.status.busy": "2025-01-22T20:44:05.656991Z",
     "iopub.status.idle": "2025-01-22T20:44:05.661397Z",
     "shell.execute_reply": "2025-01-22T20:44:05.661397Z"
    }
   },
   "outputs": [
    {
     "name": "stdout",
     "output_type": "stream",
     "text": [
      "<materialx version=\"1.39\">\n",
      "  <targetdef name=\"mytarget\" inherit=\"genosl\">\n",
      "  <implementation name=\"IM_functon_mytarget\" target=\"mytarget\" nodedef=\"ND_myfunction\">\n",
      "  <nodedef name=\"ND_myfunction\" node=\"myfunction\">\n",
      "    <output name=\"out\" type=\"color3\">\n",
      "</materialx>\n"
     ]
    }
   ],
   "source": [
    "mynodeDef = doc.addNodeDef(\"ND_myfunction\", \"color3\", \"myfunction\")\n",
    "myimpl.setNodeDefString(\"ND_myfunction\")\n",
    "print('%s' % mx.prettyPrint(doc) + '</materialx>')"
   ]
  },
  {
   "cell_type": "markdown",
   "metadata": {},
   "source": [
    "Any number of implementations can be defined for different node definitions. It is not valid to have two implementations with the same target for a given definition. The first one found will be used and any others ignored so can be unpredictable as to which one is associated."
   ]
  },
  {
   "cell_type": "markdown",
   "metadata": {},
   "source": [
    "## Inheritance Example\n",
    "\n",
    "The following example show creating a base and derived target and adding a different implementation for each target."
   ]
  },
  {
   "cell_type": "code",
   "execution_count": 7,
   "metadata": {
    "execution": {
     "iopub.execute_input": "2025-01-22T20:44:05.664404Z",
     "iopub.status.busy": "2025-01-22T20:44:05.663404Z",
     "iopub.status.idle": "2025-01-22T20:44:05.668283Z",
     "shell.execute_reply": "2025-01-22T20:44:05.668283Z"
    }
   },
   "outputs": [
    {
     "name": "stdout",
     "output_type": "stream",
     "text": [
      "<materialx version=\"1.39\">\n",
      "  <targetdef name=\"base\">\n",
      "  <targetdef name=\"derived\" inherit=\"base\">\n",
      "  <implementation name=\"IM_function_base\" target=\"base\" nodedef=\"ND_function\">\n",
      "  <implementation name=\"IM_functon_derived\" target=\"derived\" nodedef=\"ND_function\">\n",
      "  <nodedef name=\"ND_function\" node=\"function\">\n",
      "    <output name=\"out\" type=\"color3\">\n",
      "</materialx>\n"
     ]
    }
   ],
   "source": [
    "doc = mx.createDocument()\n",
    "\n",
    "# Create a base and derived targetdef\n",
    "base_targetDef = doc.addTargetDef(\"base\")\n",
    "derived_targetDef = doc.addTargetDef(\"derived\")\n",
    "derived_targetDef.setInheritString('base')\n",
    "\n",
    "# Create an implementation for the base targetdef\n",
    "base_impl = doc.addImplementation(\"IM_function_base\")\n",
    "base_impl.setTarget(\"base\")\n",
    "base_impl.setNodeDefString(\"ND_function\")\n",
    "\n",
    "# Create an implementation for the derived targetdef\n",
    "derived_impl = doc.addImplementation(\"IM_functon_derived\")\n",
    "derived_impl.setTarget(\"derived\")\n",
    "derived_impl.setNodeDefString(\"ND_function\")\n",
    "\n",
    "# Create a nodedef\n",
    "nodeDef = doc.addNodeDef(\"ND_function\", \"color3\", \"function\")\n",
    "\n",
    "print('%s' % mx.prettyPrint(doc) + '</materialx>')\n"
   ]
  },
  {
   "cell_type": "markdown",
   "metadata": {},
   "source": [
    "We can then query for the implementation based on target."
   ]
  },
  {
   "cell_type": "code",
   "execution_count": 8,
   "metadata": {
    "execution": {
     "iopub.execute_input": "2025-01-22T20:44:05.670289Z",
     "iopub.status.busy": "2025-01-22T20:44:05.670289Z",
     "iopub.status.idle": "2025-01-22T20:44:05.674228Z",
     "shell.execute_reply": "2025-01-22T20:44:05.674228Z"
    }
   },
   "outputs": [
    {
     "name": "stdout",
     "output_type": "stream",
     "text": [
      "Got derived target: \"derived\". Implementation name: \"IM_functon_derived\"\n",
      "Got base target: \"base\". Implementation name: \"IM_function_base\"\n"
     ]
    }
   ],
   "source": [
    "impl = nodeDef.getImplementation('derived')\n",
    "print('Got derived target: \"%s\". Implementation name: \"%s\"' % (impl.getTarget(), impl.getName()))\n",
    "\n",
    "impl = nodeDef.getImplementation('base')\n",
    "print('Got base target: \"%s\". Implementation name: \"%s\"' % (impl.getTarget(), impl.getName()))\n"
   ]
  },
  {
   "cell_type": "markdown",
   "metadata": {},
   "source": [
    "## Functional Node Graphs: Implementations Without Targets\n",
    "\n",
    "Node graphs which are used as implementations (`functional graph`) do not have a shader `target`.\n",
    "\n",
    "Many of the standard library implementations are node graphs composed of instances of other node definitions. The implementations of these definitions can in turn be composed of other node instances. Basically, more complex functionality can be made up of lower level functionality.\n",
    "\n",
    "At some point the implementation is made up of actual shader code which is explicitly specified or generated via a shader generator and hence a `target`` must be specified.\n",
    "\n",
    "Node graph implementations can either be associated with node definitions by adding a reference from the graph itself or via an `implementation` declaration (added after 1.38). Below is one such case used for \"Autodesk Standard Surface\".\n",
    "\n",
    "```xml\n",
    " <implementation name=\"IMPL_standard_surface_surfaceshader_101\" nodedef=\"ND_standard_surface_surfaceshader\" nodegraph=\"NG_standard_surface_surfaceshader_100\" />\n",
    "\n",
    "  <implementation name=\"IMPL_standard_surface_surfaceshader_100\" nodedef=\"ND_standard_surface_surfaceshader_100\" nodegraph=\"NG_standard_surface_surfaceshader_100\" />\n",
    "```"
   ]
  },
  {
   "cell_type": "markdown",
   "metadata": {},
   "source": [
    "## Implementation Association Caveats\n",
    "\n",
    "### Finding Implementation Given a Node Definition\n",
    "\n",
    "There are currently issues in the search for implementations if any of the implementations in the target hierarchy have no target. The result is that\n",
    "the implementation which has no target is always returned.\n",
    "\n",
    "In the following example we have a base implementation without a target.\n",
    "Even though we ask for the implementation by name (`derived`) the implementation\n",
    "returned in the one without a target.\n",
    "\n",
    "This should hopefully be addressed in an upcoming release."
   ]
  },
  {
   "cell_type": "code",
   "execution_count": 9,
   "metadata": {
    "execution": {
     "iopub.execute_input": "2025-01-22T20:44:05.676234Z",
     "iopub.status.busy": "2025-01-22T20:44:05.676234Z",
     "iopub.status.idle": "2025-01-22T20:44:05.680030Z",
     "shell.execute_reply": "2025-01-22T20:44:05.680030Z"
    }
   },
   "outputs": [
    {
     "name": "stdout",
     "output_type": "stream",
     "text": [
      "Want derived, but got this target: \"derived\". Implementation name: \"IM_functon_derived\"\n",
      "Asked for no target implementation and got it: \"\". Implementation name:\" IM_function_base\"\n"
     ]
    }
   ],
   "source": [
    "base_impl.setTarget('')\n",
    "\n",
    "impl = nodeDef.getImplementation('derived')\n",
    "print('Want derived, but got this target: \"%s\". Implementation name: \"%s\"' % (impl.getTarget(), impl.getName()))\n",
    "\n",
    "impl = nodeDef.getImplementation()\n",
    "print('Asked for no target implementation and got it: \"%s\". Implementation name:\" %s\"' % (impl.getTarget(), impl.getName()))"
   ]
  },
  {
   "cell_type": "markdown",
   "metadata": {},
   "source": [
    "### Finding Implementations Given a Node Instance\n",
    "\n",
    "In the example below we reuse some code from the \"Basics\" book to create a node\n",
    "based on the definition previously specified."
   ]
  },
  {
   "cell_type": "code",
   "execution_count": 10,
   "metadata": {
    "execution": {
     "iopub.execute_input": "2025-01-22T20:44:05.682258Z",
     "iopub.status.busy": "2025-01-22T20:44:05.682258Z",
     "iopub.status.idle": "2025-01-22T20:44:05.686765Z",
     "shell.execute_reply": "2025-01-22T20:44:05.686765Z"
    }
   },
   "outputs": [
    {
     "name": "stdout",
     "output_type": "stream",
     "text": [
      "Created node via nodedef \"ND_function\"\n",
      "Get implementation: \n",
      "Get implementation: derived\n"
     ]
    }
   ],
   "source": [
    "definitionName = 'ND_function'\n",
    "nodeName = 'test_function'\n",
    "childName = doc.createValidChildName(nodeName)\n",
    "shaderNode = doc.addNodeInstance(nodeDef, childName)\n",
    "if shaderNode:\n",
    "    shaderName = shaderNode.getName()\n",
    "    print('Created node via nodedef \"%s\"' % definitionName)\n",
    "\n",
    "definition = shaderNode.getNodeDef()\n",
    "impl = shaderNode.getImplementation()\n",
    "if impl:\n",
    "    print('Get implementation:', impl.getTarget())\n",
    "impl = shaderNode.getImplementation('derived')\n",
    "if impl:\n",
    "    print('Get implementation:', impl.getTarget())    "
   ]
  },
  {
   "cell_type": "markdown",
   "metadata": {},
   "source": [
    "With an empty base implementation, the `getImplementation()` call from the instance actually fails to return an implementation. \n",
    "\n",
    "Only after restoring the `base` target does it work again:"
   ]
  },
  {
   "cell_type": "code",
   "execution_count": 11,
   "metadata": {
    "execution": {
     "iopub.execute_input": "2025-01-22T20:44:05.688800Z",
     "iopub.status.busy": "2025-01-22T20:44:05.688800Z",
     "iopub.status.idle": "2025-01-22T20:44:05.692817Z",
     "shell.execute_reply": "2025-01-22T20:44:05.692817Z"
    }
   },
   "outputs": [
    {
     "name": "stdout",
     "output_type": "stream",
     "text": [
      "Get implementation: base\n",
      "Get implementation: derived\n"
     ]
    }
   ],
   "source": [
    "base_impl.setTarget('base')\n",
    "impl = shaderNode.getImplementation()\n",
    "if impl:\n",
    "    print('Get implementation:', impl.getTarget())\n",
    "\n",
    "impl = shaderNode.getImplementation('derived')\n",
    "if impl:\n",
    "    print('Get implementation:', impl.getTarget())    "
   ]
  },
  {
   "cell_type": "markdown",
   "metadata": {},
   "source": [
    "## Node Definition Targets\n",
    "\n",
    "It is possible for a node definition to also specify a target. This is less common and adds some additional checking when trying to find an implementation for a given node\n",
    "as the definition needs to be queried with a `target`.\n",
    "\n",
    "We will not cover this in detail as such as there appears to be outstanding issues with support in this area.\n",
    "\n",
    "The basic setup would be similar to the example below where we associate implementations for separate definitions with differing targets."
   ]
  },
  {
   "cell_type": "code",
   "execution_count": 12,
   "metadata": {
    "execution": {
     "iopub.execute_input": "2025-01-22T20:44:05.694802Z",
     "iopub.status.busy": "2025-01-22T20:44:05.694802Z",
     "iopub.status.idle": "2025-01-22T20:44:05.700752Z",
     "shell.execute_reply": "2025-01-22T20:44:05.700752Z"
    }
   },
   "outputs": [
    {
     "name": "stdout",
     "output_type": "stream",
     "text": [
      "<materialx version=\"1.39\">\n",
      "  <implementation name=\"IM_function_base\" target=\"base\" nodedef=\"ND_function_base\">\n",
      "  <implementation name=\"IM_functon_derived\" target=\"derived\" nodedef=\"ND_function_derived\">\n",
      "  <nodedef name=\"ND_function_base\" node=\"function\" target=\"base\">\n",
      "    <output name=\"out\" type=\"color3\">\n",
      "  <nodedef name=\"ND_function_derived\" node=\"function\" target=\"derived\">\n",
      "    <output name=\"out\" type=\"color3\">\n",
      "</materialx>\n",
      "\n",
      "- Incorrectly find derived on base?: \"derived\". Implementation name: \"IM_functon_derived\"\n",
      "- Find base on base: \"base\". Implementation name:\" IM_function_base\"\n",
      "- Incorrectly find base on derived?: \"base\". Implementation name: \"IM_function_base\"\n",
      "- Find derived on derived: \"derived\". Implementation name:\" IM_functon_derived\"\n"
     ]
    }
   ],
   "source": [
    "doc = mx.createDocument()\n",
    "\n",
    "base_impl = doc.addImplementation(\"IM_function_base\")\n",
    "base_impl.setTarget(\"base\")\n",
    "base_impl.setNodeDefString(\"ND_function_base\")\n",
    "\n",
    "# Create an implementation for the derived targetdef\n",
    "derived_impl = doc.addImplementation(\"IM_functon_derived\")\n",
    "derived_impl.setTarget(\"derived\")\n",
    "derived_impl.setNodeDefString(\"ND_function_derived\")\n",
    "\n",
    "base_nodeDef = doc.addNodeDef(\"ND_function_base\", \"color3\", \"function\")\n",
    "base_nodeDef.setTarget(\"base\")\n",
    "\n",
    "derived_nodeDef = doc.addNodeDef(\"ND_function_derived\", \"color3\", \"function\")\n",
    "derived_nodeDef.setTarget(\"derived\")\n",
    "\n",
    "print('%s' % mx.prettyPrint(doc) + '</materialx>\\n')\n",
    "\n",
    "mpl = base_nodeDef.getImplementation('derived')\n",
    "print('- Incorrectly find derived on base?: \"%s\". Implementation name: \"%s\"' % (impl.getTarget(), impl.getName()))\n",
    "\n",
    "impl = base_nodeDef.getImplementation()\n",
    "print('- Find base on base: \"%s\". Implementation name:\" %s\"' % (impl.getTarget(), impl.getName()))\n",
    "\n",
    "mpl = derived_nodeDef.getImplementation('derived')\n",
    "print('- Incorrectly find base on derived?: \"%s\". Implementation name: \"%s\"' % (impl.getTarget(), impl.getName()))\n",
    "\n",
    "impl = derived_nodeDef.getImplementation()\n",
    "print('- Find derived on derived: \"%s\". Implementation name:\" %s\"' % (impl.getTarget(), impl.getName()))"
   ]
  }
 ],
 "metadata": {
  "kernelspec": {
   "display_name": ".venv",
   "language": "python",
   "name": "python3"
  },
  "language_info": {
   "codemirror_mode": {
    "name": "ipython",
    "version": 3
   },
   "file_extension": ".py",
   "mimetype": "text/x-python",
   "name": "python",
   "nbconvert_exporter": "python",
   "pygments_lexer": "ipython3",
   "version": "3.11.0"
  }
 },
 "nbformat": 4,
 "nbformat_minor": 2
}
