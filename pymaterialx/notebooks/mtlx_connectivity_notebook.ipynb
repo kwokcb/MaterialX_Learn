{
 "cells": [
  {
   "cell_type": "markdown",
   "metadata": {},
   "source": [
    "## Graph Connectivity\n",
    "\n",
    "<img src=\"./images/cascade_graph_example.svg\">\n",
    "\n",
    "This notebook will look at how to extract out connectivity information from a MaterialX document. \n",
    "\n",
    "1. The first goal is to extract out the list of nodes for each node graph in a document, noting that the \"top-level\" document is itself a node graph (a GraphElement). Issues addressed include how to navigate the \"unduly complex\" representation of connections as the representation is geared towards\n",
    "a text representation suitable for storage rather than a run-time representation. Note that both `compound` and `functional` graphs (used by definitions are handled).\n",
    "\n",
    "2. Once extracted the connectivity information can be used for various purposes. This book will examine the information to produce a node graph in Mermaid format. Issues addressed include how to map the node and connectivity information to a graph syntax which has no concept of \"ports\" or \"pins\". Additionally meta data is examined to provide for graphs which are visually easier to examine by adding attributes such as user coloring of different node types. \n",
    "\n",
    "The logic shown here has been encapsulated as two Python classes in the `mtlxutils` library insdie `traversal.py`:\n",
    "1. `MtlxGraphBuilder` : Class which builds the connectivity information and allows for serialization to JSON format.\n",
    "2. `MxMermaidGraphExporter` : Class which can read and parse the connectivity information to produce Mermaid graphs. <img src=\"../documents/images/mermaid-logo.png\" width=24px>\n",
    "\n",
    "For this site:\n",
    "- The utilities (including Mermaid generation) in this tutorial are collected in the `mtlxutils` file: `mxtraversal.py`.\n",
    "- The command `mxgraphio.py` found in the `pymaterialx` folder wraps up these utilities.  \n",
    "- All Mermaid diagrams on this site are generated using the `mxgraphio.py` command line utility or the `mtlxutils` library.\n",
    "- The Javascript module `JsMaterialGraph` is used for interactive graph generation on the <a href=\"../javascript/graphing_utilities.html\">Graph Editing</a> page."
   ]
  },
  {
   "cell_type": "markdown",
   "metadata": {},
   "source": [
    "### Setup\n",
    "\n",
    "The basic setup includes loading MaterialX as well as support libraries. The assumption is that at least version 1.38.7 of MaterialX has been installed."
   ]
  },
  {
   "cell_type": "code",
   "execution_count": 1,
   "metadata": {
    "execution": {
     "iopub.execute_input": "2025-01-22T20:43:19.403376Z",
     "iopub.status.busy": "2025-01-22T20:43:19.403376Z",
     "iopub.status.idle": "2025-01-22T20:43:19.435137Z",
     "shell.execute_reply": "2025-01-22T20:43:19.435137Z"
    }
   },
   "outputs": [
    {
     "name": "stdout",
     "output_type": "stream",
     "text": [
      "Using MaterialX version: 1.39.2\n"
     ]
    }
   ],
   "source": [
    "# Helpers\n",
    "import os\n",
    "from IPython.display import display_markdown # For markdown display in Jupyter\n",
    "\n",
    "# MaterialX imports\n",
    "import MaterialX as mx\n",
    "from mtlxutils.mxbase import *\n",
    "\n",
    "# Do a version check\n",
    "haveVersion1387 = haveVersion(1, 38, 7) \n",
    "if not haveVersion1387:\n",
    "    print(\"** Warning: Recommended minimum version is 1.38.7 for tutorials. Have version: \", mx.__version__)\n",
    "else:\n",
    "    print(\"Using MaterialX version:\", mx.__version__)"
   ]
  },
  {
   "cell_type": "markdown",
   "metadata": {},
   "source": [
    "### Definition Library Requirement\n",
    "\n",
    "To be able to handle any non-explicitly defined inputs and outputs and node information, the standard MaterialX node library is required. \n",
    "As a first step we load in libraries and create a working document."
   ]
  },
  {
   "cell_type": "code",
   "execution_count": 2,
   "metadata": {
    "execution": {
     "iopub.execute_input": "2025-01-22T20:43:19.454293Z",
     "iopub.status.busy": "2025-01-22T20:43:19.454293Z",
     "iopub.status.idle": "2025-01-22T20:43:19.572426Z",
     "shell.execute_reply": "2025-01-22T20:43:19.572426Z"
    }
   },
   "outputs": [
    {
     "name": "stdout",
     "output_type": "stream",
     "text": [
      "Create working document and loaded in: 780 standard library definitions\n"
     ]
    }
   ],
   "source": [
    "def createWorkingDocument():\n",
    "    stdlib = mx.createDocument()\n",
    "    searchPath = mx.getDefaultDataSearchPath()\n",
    "    libraryFolders = mx.getDefaultDataLibraryFolders()\n",
    "    try:\n",
    "        libFiles = mx.loadLibraries(libraryFolders, searchPath, stdlib)\n",
    "        print('Create working document and loaded in: %s standard library definitions' % len(stdlib.getNodeDefs()))\n",
    "    except mx.Exception as err:\n",
    "        print('Failed to load standard library definitions: \"', err, '\"')\n",
    "\n",
    "    doc = mx.createDocument()\n",
    "    doc.importLibrary(stdlib)\n",
    "\n",
    "    return doc\n",
    "\n",
    "doc = createWorkingDocument()"
   ]
  },
  {
   "cell_type": "markdown",
   "metadata": {},
   "source": [
    "### Graph \"Dictionary\"\n",
    "\n",
    "As a first step a \"dictionary\" containing all the nodes in a document, grouped by graph is generated.\n",
    "Each dictionary is of the form:\n",
    "```\n",
    "<graph path string> [ <node path string >... ]\n",
    "```\n",
    "such that for each graph (keyed by path), a list of node paths is kept.\n",
    "As the root `Document` has no path name an emptry string indicates the root graph.\n",
    "\n",
    "Two functions are shown below to for graph dictionary building:\n",
    "1. `updateGraphDictionaryPath()` : Add a child node path to the list of node paths for a given graph path.\n",
    "2. `updateGraphDictionaryItem()` : Add a new graph / node pair. "
   ]
  },
  {
   "cell_type": "code",
   "execution_count": 3,
   "metadata": {
    "execution": {
     "iopub.execute_input": "2025-01-22T20:43:19.572426Z",
     "iopub.status.busy": "2025-01-22T20:43:19.572426Z",
     "iopub.status.idle": "2025-01-22T20:43:19.580817Z",
     "shell.execute_reply": "2025-01-22T20:43:19.580817Z"
    }
   },
   "outputs": [],
   "source": [
    "def updateGraphDictionaryPath(key, item, nodetype, type, value, graphDictionary):\n",
    "    '''\n",
    "    Add a parent / child to the GraphElement dictionary\n",
    "\n",
    "    Arguments:\n",
    "    key: The parent graph path\n",
    "    value: The graph node path\n",
    "    nodetype: The type of the node\n",
    "    graphDictionary: The dictionary to add the Element to.\n",
    "    '''\n",
    "    if key in graphDictionary:\n",
    "        #print('add:', key, value, nodetype)\n",
    "        graphDictionary[key].append([item, nodetype, type, value])\n",
    "    else:\n",
    "        #print('add:', key, value, nodetype)\n",
    "        graphDictionary[key] = [[item, nodetype, type, value]]\n",
    "\n",
    "def updateGraphDictionaryItem(item, graphDictionary):\n",
    "    \"\"\"\n",
    "    Add a Element to the GraphElement dictionary, where the keys are the GraphElement's path, and the value\n",
    "    is a list of child Element paths\n",
    "    \"\"\"\n",
    "    if not item:\n",
    "        return\n",
    "\n",
    "    parentElem = item.getParent()\n",
    "    if not parentElem or not parentElem.isA(mx.GraphElement):\n",
    "        return\n",
    "\n",
    "    key = parentElem.getNamePath()\n",
    "    value = item.getNamePath()\n",
    "    itemType = item.getType()\n",
    "    itemCategory = item.getCategory()\n",
    "    itemValue = ''\n",
    "    if item.isA(mx.Node):\n",
    "        inputs = item.getInputs()\n",
    "        if len(inputs) == 1:\n",
    "            itemValue = inputs[0].getValueString()\n",
    "    elif item.isA(mx.Input):\n",
    "        itemValue = item.getValueString()\n",
    "\n",
    "    updateGraphDictionaryPath(key, value, itemCategory, itemType, itemValue, graphDictionary)"
   ]
  },
  {
   "cell_type": "markdown",
   "metadata": {},
   "source": [
    "To examine the contents of the dictionay a `printGraphDictionary()` function is added. "
   ]
  },
  {
   "cell_type": "code",
   "execution_count": 4,
   "metadata": {
    "execution": {
     "iopub.execute_input": "2025-01-22T20:43:19.580817Z",
     "iopub.status.busy": "2025-01-22T20:43:19.580817Z",
     "iopub.status.idle": "2025-01-22T20:43:19.588064Z",
     "shell.execute_reply": "2025-01-22T20:43:19.588064Z"
    }
   },
   "outputs": [],
   "source": [
    "def printGraphDictionary(graphDictionary: dict):\n",
    "    \"\"\"\n",
    "    Print out the graph dictionary\n",
    "    \"\"\"\n",
    "    for graphPath in graphDictionary:\n",
    "        if graphPath == '':\n",
    "            print('Root Document:')\n",
    "        else:\n",
    "            print(graphPath + ':')\n",
    "\n",
    "        filter = 'input'\n",
    "        # Top level document has not path, so just output some identifier string\n",
    "        for item in graphDictionary[graphPath]:\n",
    "            if item[1] != filter:\n",
    "                continue\n",
    "            print('- ', item)\n",
    "        filter = 'output'\n",
    "        # Top level document has not path, so just output some identifier string\n",
    "        for item in graphDictionary[graphPath]:\n",
    "            if item[1] != filter:\n",
    "                continue\n",
    "            print('- ', item)\n",
    "        filter = ['output', 'input']\n",
    "        # Top level document has not path, so just output some identifier string\n",
    "        for item in graphDictionary[graphPath]:\n",
    "            if item[1] not in filter:\n",
    "                print('- ', item)\n",
    "\n",
    "def getParentGraph(elem):\n",
    "    '''\n",
    "    Find the parent graph of the given element\n",
    "    '''\n",
    "    while (elem and not elem.isA(mx.GraphElement)):\n",
    "        elem = elem.getParent()\n",
    "    return elem\n"
   ]
  },
  {
   "cell_type": "markdown",
   "metadata": {},
   "source": [
    "### Connection Utlities\n",
    "\n",
    "To aid with building connection information a few additional functions are added below."
   ]
  },
  {
   "cell_type": "markdown",
   "metadata": {},
   "source": [
    "#### Finding Default Upstream Output\n",
    "\n",
    "To handle when an output is not explicitly specified for a graph or node, a utility function called `getDefaultOutput()` is added.\n",
    "It will simply return the first output found. \n",
    "\n",
    "This is useful when trying to find the upstream output port connecged to downstream output, but the name of the output is not explicitly specified.\n",
    "This is an inconsistency which must be handled where only for upstream nodes or graphs which have more than one output allows for a output to be specified -- otherwise validation fails."
   ]
  },
  {
   "cell_type": "code",
   "execution_count": 5,
   "metadata": {
    "execution": {
     "iopub.execute_input": "2025-01-22T20:43:19.588064Z",
     "iopub.status.busy": "2025-01-22T20:43:19.588064Z",
     "iopub.status.idle": "2025-01-22T20:43:19.594155Z",
     "shell.execute_reply": "2025-01-22T20:43:19.594155Z"
    }
   },
   "outputs": [],
   "source": [
    "\n",
    "def getDefaultOutput(node: mx.Element) -> str:\n",
    "    '''\n",
    "    Get the default output of a node or nodegraph. Returns the first output found. \n",
    "    '''\n",
    "    if not node:\n",
    "        return ''\n",
    "\n",
    "    defaultOutput = None\n",
    "    if node.isA(mx.Node):\n",
    "        nodedef = node.getNodeDef()\n",
    "        if nodedef:\n",
    "            defaultOutput = nodedef.getActiveOutputs()[0]\n",
    "        else:\n",
    "            print('Cannot find nodedef for node:', node.getNamePath())\n",
    "    elif node.isA(mx.NodeGraph):\n",
    "        defaultOutput = node.getOutputs()[0]\n",
    "\n",
    "    if defaultOutput:\n",
    "        return defaultOutput.getName()\n",
    "    return ''    \n"
   ]
  },
  {
   "cell_type": "markdown",
   "metadata": {},
   "source": [
    "#### Appending Path Identifiers\n",
    "\n",
    "A utility called `appendPath()` is added as a simple helper as there is no formal API for manipulating graph paths. It is assumed that `/` is always the path seperator."
   ]
  },
  {
   "cell_type": "code",
   "execution_count": 6,
   "metadata": {
    "execution": {
     "iopub.execute_input": "2025-01-22T20:43:19.594155Z",
     "iopub.status.busy": "2025-01-22T20:43:19.594155Z",
     "iopub.status.idle": "2025-01-22T20:43:19.599404Z",
     "shell.execute_reply": "2025-01-22T20:43:19.599404Z"
    }
   },
   "outputs": [],
   "source": [
    "def appendPath(p1: str, p2: str) -> str:\n",
    "    '''\n",
    "    Append two paths together, with a '/' separator.\n",
    "\n",
    "    Arguments:\n",
    "    p1: The first path\n",
    "    p2: The second path\n",
    "\n",
    "    Returns:\n",
    "    The appended path\n",
    "    '''\n",
    "    PATH_SEPARATOR = '/'\n",
    "\n",
    "    if p2:\n",
    "        return p1 + PATH_SEPARATOR + p2\n",
    "    return p1\n"
   ]
  },
  {
   "cell_type": "markdown",
   "metadata": {},
   "source": [
    "### Core Connection Logic\n",
    "\n",
    "The function `buildPortConnection()` contains the core logic to determine what output node / graph and port is connected to an downstream node / nodegraph port.\n",
    "\n",
    "Each connection is of the form:\n",
    "```\n",
    "[ <upstream element>, [<upstream output>], <downstream element>, <downstream input>, <type of connection>]\n",
    "```\n",
    "where the `<upstream element>` may be path to  `input` or `output` or other node type, `<upstream output` is any output port on the upstream element (if it's not an `input` or `output` node), `<downstream element>` a path to an `input`, `output` or other node type, and `<downdsteam input` is the input port on the downstream element (if it's not an `input` or `output` node). The `<type of connection` is additional meta-data to reflect the original connection syntax encountered.\n",
    "\n",
    "Additional \"undue\" complexity is added as:\n",
    "\n",
    "1. Only relative paths are provided so parent graph searching is required.\n",
    "2. There are multiple keywords used to indicate the type of item that is connected to upstream.\n",
    "3. The output port is only specified if the upstream element has multiple outputs\n",
    "4. Input nodes under a graph (nodegraph or document)  must be handled differently from Inputs which are chilren of nodes. The latter are not nodes.\n",
    "\n",
    "This differs from say `OpenUSD` where a full path to a specific port is specified making it simple to just find the correct descendent from the root."
   ]
  },
  {
   "cell_type": "code",
   "execution_count": 7,
   "metadata": {
    "execution": {
     "iopub.execute_input": "2025-01-22T20:43:19.599404Z",
     "iopub.status.busy": "2025-01-22T20:43:19.599404Z",
     "iopub.status.idle": "2025-01-22T20:43:19.611564Z",
     "shell.execute_reply": "2025-01-22T20:43:19.611564Z"
    }
   },
   "outputs": [],
   "source": [
    "def buildPortConnection(doc: mx.GraphElement, graphDictionary: dict, portPath: str, connections: list, portIsNode: bool):\n",
    "    '''\n",
    "    Build a list of connections for the given graphElement.\n",
    "\n",
    "    Arguments:\n",
    "    - doc: The document to search for the portPath\n",
    "    - portPath: The path to the port to search for connections\n",
    "    - connections: The list of connections to append to. Returned.\n",
    "    - portIsNode: If True, the portPath is a node, otherwise it is a port \n",
    "    '''\n",
    "\n",
    "    root = doc.getDocument()\n",
    "    port = root.getDescendant(portPath)\n",
    "    if not port:\n",
    "        print('Element not found:', portPath)\n",
    "        return\n",
    "    \n",
    "    if not (port.isA(mx.Input) or port.isA(mx.Output)):\n",
    "        print('Element is not an input or output')\n",
    "        return\n",
    "\n",
    "    parent = port.getParent()\n",
    "    parentPath = parent.getNamePath()\n",
    "    parentGraph = getParentGraph(port)\n",
    "\n",
    "    # Need to \"jump out\" of current graph if considering an input interfae\n",
    "    # on a graph\n",
    "    if port.isA(mx.Input) and parent.isA(mx.NodeGraph):\n",
    "        parentGraph = parentGraph.getParent()\n",
    "\n",
    "    if not parentGraph:\n",
    "        print('Cannot find parent graph of port', port)\n",
    "    parentGraphPath = parentGraph.getNamePath()\n",
    "\n",
    "    outputName = port.getOutputString()\n",
    "\n",
    "    destNode = portPath if portIsNode else parentPath\n",
    "    destPort = '' if portIsNode else port.getName()\n",
    "\n",
    "    nodename = port.getAttribute('nodename')\n",
    "    if nodename:\n",
    "        if len(parentGraphPath) == 0:\n",
    "            result = [appendPath(nodename, ''), outputName, destNode, destPort, 'nodename']\n",
    "        else:\n",
    "            result = [appendPath(parentGraphPath, nodename), outputName, destNode, destPort, 'nodename']\n",
    "        connections.append(result)\n",
    "        return\n",
    "    \n",
    "    nodegraph = port.getNodeGraphString()\n",
    "    if nodegraph:\n",
    "        if not outputName:\n",
    "            outputName = getDefaultOutput(parentGraph.getChild(nodegraph))\n",
    "        if len(parentGraphPath) == 0:\n",
    "            result = [appendPath(nodegraph, outputName), '', destNode, destPort, 'nodename']\n",
    "        else:\n",
    "            result = [appendPath(parentGraphPath, nodegraph), outputName, destNode, destPort, 'nodegraph']\n",
    "        connections.append(result)\n",
    "        return            \n",
    "    \n",
    "    interfaceName = port.getInterfaceName()\n",
    "    if interfaceName:\n",
    "        if len(parentGraphPath) == 0:\n",
    "            if not outputName:\n",
    "                outputName = getDefaultOutput(parentGraph.getChild(interfaceName))\n",
    "            result = [appendPath(interfaceName, outputName), '', destNode, destPort, 'nodename']\n",
    "        else:\n",
    "            outputName = ''\n",
    "            # This should be invalid but you can have an input name on a nodedef be the\n",
    "            # same a node in the functional braph. Emit a warning and rename it.\n",
    "            itemValue = ''\n",
    "            if destNode == (parentGraphPath + '/' + interfaceName):\n",
    "                dictItem = graphDictionary.get(parentGraphPath)\n",
    "                if dictItem:\n",
    "                    found = False\n",
    "                    for item in dictItem:\n",
    "                        if item[0] == parentGraphPath + '/' + interfaceName:\n",
    "                            found = True\n",
    "                            break\n",
    "                    if found:\n",
    "                        print('Warning: Rename duplicate interface:', parentGraphPath + '/' + interfaceName + ':in')\n",
    "                        interfaceName = interfaceName + ':in'                \n",
    "\n",
    "            found = False\n",
    "            dictItem = graphDictionary.get(parentGraphPath)\n",
    "            if dictItem:\n",
    "                for item in dictItem:\n",
    "                    if item[0] == parentGraphPath + '/' + interfaceName:\n",
    "                        found = True\n",
    "                        break\n",
    "\n",
    "            if not found:\n",
    "                # TODO: Grab the input value from the nodedef.\n",
    "                #print('- Dyanmically add in interfaceName:', interfaceName, 'to  graph:', parentGraphPath, '.Value: ', itemValue)\n",
    "                updateGraphDictionaryPath(parentGraphPath, parentGraphPath + '/' + interfaceName, 'input', port.getType(), itemValue, graphDictionary)\n",
    "            result = [appendPath(parentGraphPath, interfaceName), outputName, destNode, destPort, 'interfacename']\n",
    "        #if portIsNode:\n",
    "        #print('append interface connection:', result)\n",
    "        connections.append(result)\n",
    "        return\n",
    "\n",
    "    if outputName:\n",
    "        if len(parentGraphPath) == 0:\n",
    "            result = [appendPath(outputName, ''), '', parentPath, port.getName(), 'nodename']\n",
    "        else:\n",
    "            result = [appendPath(parentGraphPath, outputName), '', parentPath, port.getName(), 'output']\n",
    "        #if portIsNode:\n",
    "        #print('append connection:', result)\n",
    "        connections.append(result)\n",
    "        return\n",
    "\n",
    "    #if port.isA(mx.Input):\n",
    "    #    portValue = port.getValueString()\n",
    "    #    if portValue:\n",
    "    #        result = [portValue, '', destNode, destPort, 'value']\n",
    "    #        connections.append(result)\n",
    "\n"
   ]
  },
  {
   "cell_type": "markdown",
   "metadata": {},
   "source": [
    "The `buildConnections()` utility will find all connections for a graph by scanning all children elements as necessary:\n",
    "\n",
    "1. For a `Input` or `Output` nodes we directly check for connections\n",
    "2. For other `Node` types we scan all child `Inputs`\n",
    "3. For `NodeGraphs` we recursively call `buildConnectons()`. This will handle nested `GraphElements` such as Document / NodeGraph relationships as well as NodeGraph / NodeGraph relationships. Note that any `GraphElement` can be passed in -- not just the top level Document to allow connection introspection of arbitrary graphs. "
   ]
  },
  {
   "cell_type": "code",
   "execution_count": 8,
   "metadata": {
    "execution": {
     "iopub.execute_input": "2025-01-22T20:43:19.611564Z",
     "iopub.status.busy": "2025-01-22T20:43:19.611564Z",
     "iopub.status.idle": "2025-01-22T20:43:19.619003Z",
     "shell.execute_reply": "2025-01-22T20:43:19.619003Z"
    }
   },
   "outputs": [],
   "source": [
    "\n",
    "def buildConnections(doc, graphDictionary, graphElement, connections):\n",
    "    \n",
    "    #print('get children for graph: \"%s\"' % graphElement.getNamePath())\n",
    "    root = doc.getDocument()\n",
    "    for elem in graphElement.getChildren():            \n",
    "        if not elem.hasSourceUri():\n",
    "            if elem.isA(mx.Input):\n",
    "                buildPortConnection(root, graphDictionary, elem.getNamePath(), connections, True)\n",
    "            elif elem.isA(mx.Output):\n",
    "                buildPortConnection(root, graphDictionary, elem.getNamePath(), connections, True)\n",
    "            elif elem.isA(mx.Node):\n",
    "                nodeInputs = elem.getInputs()\n",
    "                for nodeInput in nodeInputs:\n",
    "                    buildPortConnection(root, graphDictionary, nodeInput.getNamePath(), connections, False)\n",
    "            elif elem.isA(mx.NodeGraph):\n",
    "                nodedef = elem.getNodeDef()\n",
    "                if nodedef:\n",
    "                    connections.append([elem.getNamePath(), '', nodedef.getName(), '', 'nodedef'])\n",
    "                visited = set()\n",
    "                path = elem.getNamePath()\n",
    "                if path not in visited:\n",
    "                    visited.add(path)\n",
    "                    buildConnections(root, graphDictionary, elem, connections)"
   ]
  },
  {
   "cell_type": "markdown",
   "metadata": {},
   "source": [
    "### Example \n",
    "\n",
    "In the example below load in an example which can be found in the unit test suite for MaterialX. It contains a few nodegraphs that are connected in a cascading manner and is used for testing graph traversal for shader code generation. "
   ]
  },
  {
   "cell_type": "code",
   "execution_count": 9,
   "metadata": {
    "execution": {
     "iopub.execute_input": "2025-01-22T20:43:19.619003Z",
     "iopub.status.busy": "2025-01-22T20:43:19.619003Z",
     "iopub.status.idle": "2025-01-22T20:43:19.630580Z",
     "shell.execute_reply": "2025-01-22T20:43:19.630580Z"
    }
   },
   "outputs": [
    {
     "name": "stdout",
     "output_type": "stream",
     "text": [
      "Read file:  ./data/cascade_nodegraphs.mtlx\n"
     ]
    }
   ],
   "source": [
    "filename = './data/cascade_nodegraphs.mtlx'\n",
    "if os.path.exists(filename):\n",
    "    mx.readFromXmlFile(doc, filename)\n",
    "    print(\"Read file: \", filename)\n",
    "else:\n",
    "    print(\"File not found: \", filename)"
   ]
  },
  {
   "cell_type": "markdown",
   "metadata": {},
   "source": [
    "The utility function will build the graph dictionary by scan through all the children of a GraphElement and building dictionary entries.\n",
    "\n",
    "We group the entries by scanning by child type. e.g. grouping all input connections together.\n",
    "After building the graph we print outs it's contents."
   ]
  },
  {
   "cell_type": "code",
   "execution_count": 10,
   "metadata": {
    "execution": {
     "iopub.execute_input": "2025-01-22T20:43:19.630580Z",
     "iopub.status.busy": "2025-01-22T20:43:19.630580Z",
     "iopub.status.idle": "2025-01-22T20:43:19.639411Z",
     "shell.execute_reply": "2025-01-22T20:43:19.639411Z"
    }
   },
   "outputs": [],
   "source": [
    "def buildGraphDictionary(doc):\n",
    "    '''\n",
    "    Build a dictionary of the graph elements in the document. The dictionary\n",
    "    has the graph path as the key, and a list of child elements as the value.\n",
    "\n",
    "    Arguments:\n",
    "    - doc: The document to build the graph dictionary from\n",
    "\n",
    "    Returnes:\n",
    "    - The graph dictionary    \n",
    "    '''\n",
    "    graphDictionary = {}\n",
    "\n",
    "    # Traverse all edges and add up and downstream nodes to\n",
    "    # the graph dictionary\n",
    "    root = doc.getDocument()\n",
    "    skipped = []\n",
    "\n",
    "    for elem in doc.getChildren():\n",
    "        if elem.hasSourceUri():\n",
    "            skipped.append(elem.getNamePath())\n",
    "        else:\n",
    "            if elem.isA(mx.Input) or elem.isA(mx.Output) or elem.isA(mx.Node):\n",
    "                updateGraphDictionaryItem(elem, graphDictionary)\n",
    "            elif (elem.isA(mx.NodeGraph)):\n",
    "                # Temporarily copy over inputs and from nodedef this is a\n",
    "                # functional graph\n",
    "                if elem.getAttribute('nodedef'):\n",
    "                    nodeDef = elem.getAttribute('nodedef')\n",
    "                    nodeDef = root.getDescendant(nodeDef)\n",
    "                    if nodeDef:\n",
    "                        nodeDefName = nodeDef.getName()\n",
    "                        for nodeDefInput in nodeDef.getInputs():                        \n",
    "                            newInput = elem.addInput(nodeDefInput.getName(), nodeDefInput.getType())\n",
    "                            newInput.copyContentFrom(nodeDefInput)\n",
    "\n",
    "                for node in elem.getInputs():\n",
    "                    updateGraphDictionaryItem(node, graphDictionary)\n",
    "                for node in elem.getOutputs():\n",
    "                    updateGraphDictionaryItem(node, graphDictionary)\n",
    "                for node in elem.getNodes():\n",
    "                    updateGraphDictionaryItem(node, graphDictionary)\n",
    "                for node in elem.getTokens():\n",
    "                    updateGraphDictionaryItem(node, graphDictionary)\n",
    "            elif elem.isA(mx.NodeDef):\n",
    "                updateGraphDictionaryItem(elem, graphDictionary)\n",
    "            elif elem.isA(mx.Token):            \n",
    "                updateGraphDictionaryItem(elem, graphDictionary)\n",
    "    \n",
    "    return graphDictionary"
   ]
  },
  {
   "cell_type": "code",
   "execution_count": 11,
   "metadata": {
    "execution": {
     "iopub.execute_input": "2025-01-22T20:43:19.640467Z",
     "iopub.status.busy": "2025-01-22T20:43:19.640467Z",
     "iopub.status.idle": "2025-01-22T20:43:19.653137Z",
     "shell.execute_reply": "2025-01-22T20:43:19.653137Z"
    }
   },
   "outputs": [
    {
     "name": "stdout",
     "output_type": "stream",
     "text": [
      "upstream3:\n",
      "-  ['upstream3/file', 'input', 'filename', 'resources/Images/cloth.png']\n",
      "-  ['upstream3/file1', 'input', 'filename', 'resources/Images/grid.png']\n",
      "-  ['upstream3/out', 'output', 'color3', '']\n",
      "-  ['upstream3/out1', 'output', 'color3', '']\n",
      "-  ['upstream3/upstream_image', 'image', 'color3', '']\n",
      "-  ['upstream3/upstream_image1', 'image', 'color3', '']\n",
      "upstream2:\n",
      "-  ['upstream2/upstream2_in1', 'input', 'color3', '']\n",
      "-  ['upstream2/upstream2_in2', 'input', 'color3', '']\n",
      "-  ['upstream2/upstream2_out1', 'output', 'color3', '']\n",
      "-  ['upstream2/upstream2_out2', 'output', 'color3', '']\n",
      "-  ['upstream2/multiply_by_image', 'multiply', 'color3', '']\n",
      "-  ['upstream2/make_red', 'multiply', 'color3', '']\n",
      "-  ['upstream2/image', 'image', 'color3', 'resources/Images/grid.png']\n",
      "upstream1:\n",
      "-  ['upstream1/upstream1_in1', 'input', 'color3', '']\n",
      "-  ['upstream1/upstream1_in2', 'input', 'color3', '']\n",
      "-  ['upstream1/upstream1_out1', 'output', 'color3', '']\n",
      "-  ['upstream1/upstream1_out2', 'output', 'color3', '']\n",
      "-  ['upstream1/make_yellow', 'multiply', 'color3', '']\n",
      "-  ['upstream1/remove_red', 'multiply', 'color3', '']\n",
      "Root Document:\n",
      "-  ['top_upstream1_out1', 'output', 'color3', '']\n",
      "-  ['top_upstream1_out2', 'output', 'color3', '']\n",
      "-  ['standard_surface', 'standard_surface', 'surfaceshader', '']\n",
      "-  ['standard_surface1', 'standard_surface', 'surfaceshader', '']\n",
      "-  ['surfacematerial', 'surfacematerial', 'material', '']\n",
      "-  ['surfacematerial1', 'surfacematerial', 'material', '']\n"
     ]
    }
   ],
   "source": [
    "# Build and print out dictionary\n",
    "graphDictionary = buildGraphDictionary(doc)\n",
    "printGraphDictionary(graphDictionary)\n"
   ]
  },
  {
   "cell_type": "markdown",
   "metadata": {},
   "source": [
    "Next we build the connection information and again print out each connection."
   ]
  },
  {
   "cell_type": "code",
   "execution_count": 12,
   "metadata": {
    "execution": {
     "iopub.execute_input": "2025-01-22T20:43:19.653137Z",
     "iopub.status.busy": "2025-01-22T20:43:19.653137Z",
     "iopub.status.idle": "2025-01-22T20:43:19.663346Z",
     "shell.execute_reply": "2025-01-22T20:43:19.663346Z"
    }
   },
   "outputs": [
    {
     "name": "stdout",
     "output_type": "stream",
     "text": [
      "['upstream3/file', '', 'upstream3/upstream_image', 'file', 'interfacename']\n",
      "['upstream3/file1', '', 'upstream3/upstream_image1', 'file', 'interfacename']\n",
      "['upstream3/upstream_image', '', 'upstream3/out', '', 'nodename']\n",
      "['upstream3/upstream_image1', '', 'upstream3/out1', '', 'nodename']\n",
      "['upstream3/out', '', 'upstream2/upstream2_in1', '', 'nodename']\n",
      "['upstream3/out1', '', 'upstream2/upstream2_in2', '', 'nodename']\n",
      "['upstream2/upstream2_in1', '', 'upstream2/multiply_by_image', 'in1', 'interfacename']\n",
      "['upstream2/image', '', 'upstream2/multiply_by_image', 'in2', 'nodename']\n",
      "['upstream2/upstream2_in2', '', 'upstream2/make_red', 'in1', 'interfacename']\n",
      "['upstream2/multiply_by_image', '', 'upstream2/upstream2_out1', '', 'nodename']\n",
      "['upstream2/make_red', '', 'upstream2/upstream2_out2', '', 'nodename']\n",
      "['upstream2/upstream2_out1', '', 'upstream1/upstream1_in1', '', 'nodename']\n",
      "['upstream2/upstream2_out2', '', 'upstream1/upstream1_in2', '', 'nodename']\n",
      "['upstream1/upstream1_in1', '', 'upstream1/make_yellow', 'in1', 'interfacename']\n",
      "['upstream1/upstream1_in2', '', 'upstream1/remove_red', 'in1', 'interfacename']\n",
      "['upstream1/make_yellow', '', 'upstream1/upstream1_out1', '', 'nodename']\n",
      "['upstream1/remove_red', '', 'upstream1/upstream1_out2', '', 'nodename']\n",
      "['upstream1/upstream1_out1', '', 'top_upstream1_out1', '', 'nodename']\n",
      "['upstream1/upstream1_out2', '', 'top_upstream1_out2', '', 'nodename']\n",
      "['upstream1/upstream1_out1', '', 'standard_surface', 'base_color', 'nodename']\n",
      "['upstream1/upstream1_out2', '', 'standard_surface1', 'base_color', 'nodename']\n",
      "['standard_surface', '', 'surfacematerial', 'surfaceshader', 'nodename']\n",
      "['standard_surface1', '', 'surfacematerial1', 'surfaceshader', 'nodename']\n"
     ]
    }
   ],
   "source": [
    "\n",
    "connections = []\n",
    "buildConnections(doc, graphDictionary, doc, connections)\n",
    "for connection in connections:\n",
    "    print(connection) "
   ]
  },
  {
   "cell_type": "markdown",
   "metadata": {},
   "source": [
    "To allow for this information to be stored out the utility function `exporGraphAsJSON()` is shown below.\n",
    "Content in this form can be used with or without MaterialX runtime as desired. "
   ]
  },
  {
   "cell_type": "code",
   "execution_count": 13,
   "metadata": {
    "execution": {
     "iopub.execute_input": "2025-01-22T20:43:19.663346Z",
     "iopub.status.busy": "2025-01-22T20:43:19.663346Z",
     "iopub.status.idle": "2025-01-22T20:43:19.672320Z",
     "shell.execute_reply": "2025-01-22T20:43:19.672320Z"
    }
   },
   "outputs": [
    {
     "name": "stdout",
     "output_type": "stream",
     "text": [
      "Write graph in JSON format: ./data/sample_graph_connections.json\n"
     ]
    }
   ],
   "source": [
    "# Export as JSON\n",
    "import json\n",
    "\n",
    "def exportGraphAsJSON(graphDictionary, connections, filename):\n",
    "    data = {}\n",
    "    data['graph'] = graphDictionary\n",
    "    data['connections'] = connections\n",
    "\n",
    "    with open(filename, 'w') as outfile:\n",
    "        # Write json with indentation\n",
    "        json.dump(data, outfile, indent=2)\n",
    "\n",
    "filename = './data/sample_graph_connections.json'\n",
    "print('Write graph in JSON format:', filename)\n",
    "exportGraphAsJSON(graphDictionary, connections, filename)"
   ]
  },
  {
   "cell_type": "markdown",
   "metadata": {},
   "source": [
    " <h4>JSON Export</h4>\n",
    "\n",
    "Below is the graph dictionary contents written to file:\n",
    "\n",
    " <iframe class=\"rounded\" src=\"./data/sample_graph_connections.json\" title=\"JSON Export\" width=\"80%\"\n",
    "              height=\"400\"></iframe>\n",
    "\n",
    "> Note that it is possible to view this output with better formatting by installing an appropriate plug-in\n",
    "when viewed from a browser."
   ]
  },
  {
   "cell_type": "markdown",
   "metadata": {},
   "source": [
    "### Mermaid Graph Visualization \n",
    "\n",
    "To demonstrate how to parse the dictionary and connections a sample `Mermaid` diagram generator is provided below.\n",
    "\n",
    "The general logic:\n",
    "1. Outputs all nodes and graphs first, adding in various user formatting.\n",
    "2. Outputs the connections, again adding in various user formatting.\n",
    "\n",
    "Of note is that the original path information is used as element identifiers with \"nice\" names being generated as necessary.\n",
    "\n",
    "> Note that there is no dependence on MaterialX for any of the parsing or display logic. "
   ]
  },
  {
   "cell_type": "code",
   "execution_count": 14,
   "metadata": {
    "execution": {
     "iopub.execute_input": "2025-01-22T20:43:19.672320Z",
     "iopub.status.busy": "2025-01-22T20:43:19.672320Z",
     "iopub.status.idle": "2025-01-22T20:43:19.686741Z",
     "shell.execute_reply": "2025-01-22T20:43:19.686741Z"
    }
   },
   "outputs": [],
   "source": [
    "class MxMermaidGraphExporter:\n",
    "    def __init__(self, graphDictionary, connections):\n",
    "        self.graphDictionary = graphDictionary\n",
    "        self.connections = connections\n",
    "        self.mermaid = []\n",
    "        self.orientation = 'LR'\n",
    "        self.emitCategory = False\n",
    "        self.emitType = False\n",
    "\n",
    "    def setOrientation(self, orientation):\n",
    "        self.orientation = orientation\n",
    "\n",
    "    def setEmitCategory(self, emitCategory):\n",
    "        self.emitCategory = emitCategory\n",
    "\n",
    "    def setEmitType(self, emitType):\n",
    "        self.emitType = emitType\n",
    "\n",
    "    def sanitizeString(self, path):\n",
    "        #return path\n",
    "        path = path.replace('/default', '/default1')\n",
    "        path = path.replace('/', '_')\n",
    "        path = path.replace(' ', '_')\n",
    "        return path\n",
    "\n",
    "    def execute(self):\n",
    "        mermaid = []\n",
    "        mermaid.append('graph %s' % self.orientation)\n",
    "        for graphPath in self.graphDictionary:\n",
    "            isSubgraph = graphPath != ''\n",
    "            if isSubgraph:\n",
    "                mermaid.append('    subgraph %s' % graphPath)\n",
    "            for item in self.graphDictionary[graphPath]:\n",
    "                path = item[0]\n",
    "                # Get \"base name\" of the path\n",
    "                label = path.split('/')[-1]\n",
    "                # Sanitize the path name\n",
    "                path = self.sanitizeString(path)\n",
    "\n",
    "                if self.emitCategory:\n",
    "                    label = item[1]\n",
    "                if self.emitType:\n",
    "                    label += \":\" + item[2]\n",
    "                if item[3]:\n",
    "                    label += \":\" + item[3]\n",
    "                # Color nodes\n",
    "                if item[1] == 'input' or item[1] == 'output':\n",
    "                    if item[1] == 'input':\n",
    "                        mermaid.append('    %s([%s])' % (path, label))\n",
    "                        mermaid.append('    style %s  fill:#09D, color:#111' % path)\n",
    "                    else:\n",
    "                        mermaid.append('    %s([%s])' % (path, label))\n",
    "                        mermaid.append('    style %s   fill:#0C0, color:#111' % path)\n",
    "                elif item[1] == 'surfacematerial':\n",
    "                    mermaid.append('    %s([%s])' % (path, label))\n",
    "                    mermaid.append('    style %s   fill:#090, color:#111' % path)\n",
    "                elif item[1] == 'nodedef':\n",
    "                    mermaid.append('    %s[[%s]]' % (path, label))\n",
    "                    mermaid.append('    style %s  fill:#00C, color:#111' % path)\n",
    "                elif item[1] in ['ifequal', 'ifgreatereq', 'switch']:\n",
    "                    mermaid.append('    %s{%s}' % (path, label))\n",
    "                    mermaid.append('    style %s   fill:#C72, color:#111' % path)\n",
    "                elif item[1] == 'token':\n",
    "                    mermaid.append('    %s{{%s}}' % (path, label))\n",
    "                    mermaid.append('    style %s  fill:#222, color:#111' % path) \n",
    "                elif item[1] == 'constant':\n",
    "                    mermaid.append('    %s([%s])' % (path, label))\n",
    "                    mermaid.append('    style %s  fill:#500, color:#111' % path)               \n",
    "                else:\n",
    "                    mermaid.append('    %s[%s]' % (path, label))\n",
    "\n",
    "            if isSubgraph:\n",
    "                mermaid.append('    end')\n",
    "        self.mermaid = mermaid\n",
    "        \n",
    "        for connection in self.connections:\n",
    "            source = ''\n",
    "\n",
    "            # Sanitize path names\n",
    "            connection[0] = self.sanitizeString(connection[0])\n",
    "            connection[2] = self.sanitizeString(connection[2])\n",
    "\n",
    "            # Set source node. If nodes is in a graph then we use <graph>/<node> as source\n",
    "            source = connection[0]\n",
    "            \n",
    "            # Set destination node\n",
    "            dest = connection[2]\n",
    "\n",
    "            # Edge can be combo of source output port + destination input port\n",
    "            if len(connection[1]) > 0:\n",
    "                if len(connection[3]) > 0:\n",
    "                    edge = connection[1] + '-->' + connection[3]\n",
    "                else:\n",
    "                    edge = connection[1]\n",
    "            else:\n",
    "                edge = connection[3]\n",
    "\n",
    "            if connection[4] == 'value':\n",
    "                sourceNode = mx.createValidName(source)\n",
    "                if len(edge) == 0:                \n",
    "                    connectString = '    %s[\"%s\"] --> %s' % (sourceNode, source, dest)\n",
    "                else:\n",
    "                    connectString = '    %s[\"%s\"] --%s--> %s' % (sourceNode, source, edge, dest)\n",
    "            else:\n",
    "                if len(edge) > 0:                \n",
    "                    connectString = '    %s --\"%s\"--> %s' % (source, edge, dest)\n",
    "                else:\n",
    "                    connectString = '    %s --> %s' % (source, dest)\n",
    "            mermaid.append(connectString)\n",
    "\n",
    "        return mermaid\n",
    "\n",
    "    def write(self, filename):\n",
    "        with open(filename, 'w') as f:\n",
    "            for line in self.export():\n",
    "                f.write('%s\\n' % line)\n",
    "\n",
    "    def getGraph(self, wrap=True):\n",
    "        result = ''\n",
    "        if wrap:\n",
    "            result = '```mermaid\\n' + '\\n'.join(self.mermaid) + '\\n```'\n",
    "        else:\n",
    "            result = '\\n'.join(self.mermaid)\n",
    "        # Sanitize\n",
    "        result = result.replace('/default', '/default1')\n",
    "        return result\n",
    "\n",
    "    def display(self):\n",
    "        display_markdown(self.getGraph(), raw=True)\n",
    "\n",
    "     # Export mermaid\n",
    "    def export(self, filename):\n",
    "        mermaidGraph = self.getGraph()\n",
    "        with open(filename, 'w') as outFile:\n",
    "            outFile.write(mermaidGraph)"
   ]
  },
  {
   "cell_type": "markdown",
   "metadata": {},
   "source": [
    "To visualize the Mermaid graph we export the graph to Markdown within a HTML document."
   ]
  },
  {
   "cell_type": "code",
   "execution_count": 15,
   "metadata": {
    "execution": {
     "iopub.execute_input": "2025-01-22T20:43:19.686741Z",
     "iopub.status.busy": "2025-01-22T20:43:19.686741Z",
     "iopub.status.idle": "2025-01-22T20:43:19.696411Z",
     "shell.execute_reply": "2025-01-22T20:43:19.696411Z"
    }
   },
   "outputs": [
    {
     "data": {
      "text/markdown": [
       "```mermaid\n",
       "graph TB\n",
       "    subgraph upstream3\n",
       "    upstream3_file([file:resources/Images/cloth.png])\n",
       "    style upstream3_file  fill:#09D, color:#111\n",
       "    upstream3_file1([file1:resources/Images/grid.png])\n",
       "    style upstream3_file1  fill:#09D, color:#111\n",
       "    upstream3_out([out])\n",
       "    style upstream3_out   fill:#0C0, color:#111\n",
       "    upstream3_out1([out1])\n",
       "    style upstream3_out1   fill:#0C0, color:#111\n",
       "    upstream3_upstream_image[upstream_image]\n",
       "    upstream3_upstream_image1[upstream_image1]\n",
       "    end\n",
       "    subgraph upstream2\n",
       "    upstream2_upstream2_in1([upstream2_in1])\n",
       "    style upstream2_upstream2_in1  fill:#09D, color:#111\n",
       "    upstream2_upstream2_in2([upstream2_in2])\n",
       "    style upstream2_upstream2_in2  fill:#09D, color:#111\n",
       "    upstream2_upstream2_out1([upstream2_out1])\n",
       "    style upstream2_upstream2_out1   fill:#0C0, color:#111\n",
       "    upstream2_upstream2_out2([upstream2_out2])\n",
       "    style upstream2_upstream2_out2   fill:#0C0, color:#111\n",
       "    upstream2_multiply_by_image[multiply_by_image]\n",
       "    upstream2_make_red[make_red]\n",
       "    upstream2_image[image:resources/Images/grid.png]\n",
       "    end\n",
       "    subgraph upstream1\n",
       "    upstream1_upstream1_in1([upstream1_in1])\n",
       "    style upstream1_upstream1_in1  fill:#09D, color:#111\n",
       "    upstream1_upstream1_in2([upstream1_in2])\n",
       "    style upstream1_upstream1_in2  fill:#09D, color:#111\n",
       "    upstream1_upstream1_out1([upstream1_out1])\n",
       "    style upstream1_upstream1_out1   fill:#0C0, color:#111\n",
       "    upstream1_upstream1_out2([upstream1_out2])\n",
       "    style upstream1_upstream1_out2   fill:#0C0, color:#111\n",
       "    upstream1_make_yellow[make_yellow]\n",
       "    upstream1_remove_red[remove_red]\n",
       "    end\n",
       "    top_upstream1_out1([top_upstream1_out1])\n",
       "    style top_upstream1_out1   fill:#0C0, color:#111\n",
       "    top_upstream1_out2([top_upstream1_out2])\n",
       "    style top_upstream1_out2   fill:#0C0, color:#111\n",
       "    standard_surface[standard_surface]\n",
       "    standard_surface1[standard_surface1]\n",
       "    surfacematerial([surfacematerial])\n",
       "    style surfacematerial   fill:#090, color:#111\n",
       "    surfacematerial1([surfacematerial1])\n",
       "    style surfacematerial1   fill:#090, color:#111\n",
       "    upstream3_file --\"file\"--> upstream3_upstream_image\n",
       "    upstream3_file1 --\"file\"--> upstream3_upstream_image1\n",
       "    upstream3_upstream_image --> upstream3_out\n",
       "    upstream3_upstream_image1 --> upstream3_out1\n",
       "    upstream3_out --> upstream2_upstream2_in1\n",
       "    upstream3_out1 --> upstream2_upstream2_in2\n",
       "    upstream2_upstream2_in1 --\"in1\"--> upstream2_multiply_by_image\n",
       "    upstream2_image --\"in2\"--> upstream2_multiply_by_image\n",
       "    upstream2_upstream2_in2 --\"in1\"--> upstream2_make_red\n",
       "    upstream2_multiply_by_image --> upstream2_upstream2_out1\n",
       "    upstream2_make_red --> upstream2_upstream2_out2\n",
       "    upstream2_upstream2_out1 --> upstream1_upstream1_in1\n",
       "    upstream2_upstream2_out2 --> upstream1_upstream1_in2\n",
       "    upstream1_upstream1_in1 --\"in1\"--> upstream1_make_yellow\n",
       "    upstream1_upstream1_in2 --\"in1\"--> upstream1_remove_red\n",
       "    upstream1_make_yellow --> upstream1_upstream1_out1\n",
       "    upstream1_remove_red --> upstream1_upstream1_out2\n",
       "    upstream1_upstream1_out1 --> top_upstream1_out1\n",
       "    upstream1_upstream1_out2 --> top_upstream1_out2\n",
       "    upstream1_upstream1_out1 --\"base_color\"--> standard_surface\n",
       "    upstream1_upstream1_out2 --\"base_color\"--> standard_surface1\n",
       "    standard_surface --\"surfaceshader\"--> surfacematerial\n",
       "    standard_surface1 --\"surfaceshader\"--> surfacematerial1\n",
       "```"
      ]
     },
     "metadata": {},
     "output_type": "display_data"
    },
    {
     "name": "stdout",
     "output_type": "stream",
     "text": [
      "Write graph to HTML file: ./data/graphtest_output.html\n"
     ]
    }
   ],
   "source": [
    "exporter = MxMermaidGraphExporter(graphDictionary, connections)\n",
    "exporter.setOrientation('TB')\n",
    "exporter.execute()\n",
    "\n",
    "exporter.display()\n",
    "\n",
    "# In order to get the proper mermaid rendering, we need to add the mermaid script, and write to another file.\n",
    "result = exporter.getGraph()\n",
    "result = result.replace('```mermaid', '<div class=\"mermaid\">')\n",
    "result = result.replace('```', '</div>')\n",
    "result = \"<script src='https://cdn.jsdelivr.net/npm/mermaid@9/dist/mermaid.min.js'></script>\\n\" + result\n",
    "with open('./data/graphtest_output.html', 'w') as f:\n",
    "    f.write(result)\n",
    "\n",
    "print('Write graph to HTML file: ./data/graphtest_output.html')"
   ]
  },
  {
   "cell_type": "markdown",
   "metadata": {
    "vscode": {
     "languageId": "html"
    }
   },
   "source": [
    "<h4>Resulting Graph</h4>\n",
    "\n",
    "<button id=\"openDialogBtn\" style=\"font-size:x-large; background-color: #0091ea; color:white;\">View Graph</button>\n",
    "\n",
    "<div id=\"dialog\" style=\"display:none;\">\n",
    "    <iframe id=\"dialogContent\" width=\"100%\" height=\"400px\"></iframe>\n",
    "</div>\n",
    "\n",
    "<script>\n",
    "    document.addEventListener('DOMContentLoaded', function() {\n",
    "        const openDialogBtn = document.getElementById('openDialogBtn');\n",
    "        const dialog = document.getElementById('dialog');\n",
    "        const dialogContent = document.getElementById('dialogContent');\n",
    "\n",
    "        openDialogBtn.addEventListener('click', function() {\n",
    "            // Set the source of the iframe to the desired HTML file\n",
    "            dialogContent.src = './data/graphtest_output.html';\n",
    "\n",
    "            // Display the dialog\n",
    "            dialog.style.display = 'block';\n",
    "        });\n",
    "    });\n",
    "</script>"
   ]
  },
  {
   "cell_type": "markdown",
   "metadata": {},
   "source": [
    "#### Visualization Options\n",
    "\n",
    "As part of the utility some display options have been included. These include:\n",
    "\n",
    "1. Emitting the node category as the node label as opposed to the node's name\n",
    "2. Emitting the node type.\n",
    "3. Emitting the graph in different orientations."
   ]
  },
  {
   "cell_type": "code",
   "execution_count": 16,
   "metadata": {
    "execution": {
     "iopub.execute_input": "2025-01-22T20:43:19.696411Z",
     "iopub.status.busy": "2025-01-22T20:43:19.696411Z",
     "iopub.status.idle": "2025-01-22T20:43:19.706421Z",
     "shell.execute_reply": "2025-01-22T20:43:19.706421Z"
    }
   },
   "outputs": [
    {
     "data": {
      "text/markdown": [
       "```mermaid\n",
       "graph BT\n",
       "    subgraph upstream3\n",
       "    upstream3_file([input:filename:resources/Images/cloth.png])\n",
       "    style upstream3_file  fill:#09D, color:#111\n",
       "    upstream3_file1([input:filename:resources/Images/grid.png])\n",
       "    style upstream3_file1  fill:#09D, color:#111\n",
       "    upstream3_out([output:color3])\n",
       "    style upstream3_out   fill:#0C0, color:#111\n",
       "    upstream3_out1([output:color3])\n",
       "    style upstream3_out1   fill:#0C0, color:#111\n",
       "    upstream3_upstream_image[image:color3]\n",
       "    upstream3_upstream_image1[image:color3]\n",
       "    end\n",
       "    subgraph upstream2\n",
       "    upstream2_upstream2_in1([input:color3])\n",
       "    style upstream2_upstream2_in1  fill:#09D, color:#111\n",
       "    upstream2_upstream2_in2([input:color3])\n",
       "    style upstream2_upstream2_in2  fill:#09D, color:#111\n",
       "    upstream2_upstream2_out1([output:color3])\n",
       "    style upstream2_upstream2_out1   fill:#0C0, color:#111\n",
       "    upstream2_upstream2_out2([output:color3])\n",
       "    style upstream2_upstream2_out2   fill:#0C0, color:#111\n",
       "    upstream2_multiply_by_image[multiply:color3]\n",
       "    upstream2_make_red[multiply:color3]\n",
       "    upstream2_image[image:color3:resources/Images/grid.png]\n",
       "    end\n",
       "    subgraph upstream1\n",
       "    upstream1_upstream1_in1([input:color3])\n",
       "    style upstream1_upstream1_in1  fill:#09D, color:#111\n",
       "    upstream1_upstream1_in2([input:color3])\n",
       "    style upstream1_upstream1_in2  fill:#09D, color:#111\n",
       "    upstream1_upstream1_out1([output:color3])\n",
       "    style upstream1_upstream1_out1   fill:#0C0, color:#111\n",
       "    upstream1_upstream1_out2([output:color3])\n",
       "    style upstream1_upstream1_out2   fill:#0C0, color:#111\n",
       "    upstream1_make_yellow[multiply:color3]\n",
       "    upstream1_remove_red[multiply:color3]\n",
       "    end\n",
       "    top_upstream1_out1([output:color3])\n",
       "    style top_upstream1_out1   fill:#0C0, color:#111\n",
       "    top_upstream1_out2([output:color3])\n",
       "    style top_upstream1_out2   fill:#0C0, color:#111\n",
       "    standard_surface[standard_surface:surfaceshader]\n",
       "    standard_surface1[standard_surface:surfaceshader]\n",
       "    surfacematerial([surfacematerial:material])\n",
       "    style surfacematerial   fill:#090, color:#111\n",
       "    surfacematerial1([surfacematerial:material])\n",
       "    style surfacematerial1   fill:#090, color:#111\n",
       "    upstream3_file --\"file\"--> upstream3_upstream_image\n",
       "    upstream3_file1 --\"file\"--> upstream3_upstream_image1\n",
       "    upstream3_upstream_image --> upstream3_out\n",
       "    upstream3_upstream_image1 --> upstream3_out1\n",
       "    upstream3_out --> upstream2_upstream2_in1\n",
       "    upstream3_out1 --> upstream2_upstream2_in2\n",
       "    upstream2_upstream2_in1 --\"in1\"--> upstream2_multiply_by_image\n",
       "    upstream2_image --\"in2\"--> upstream2_multiply_by_image\n",
       "    upstream2_upstream2_in2 --\"in1\"--> upstream2_make_red\n",
       "    upstream2_multiply_by_image --> upstream2_upstream2_out1\n",
       "    upstream2_make_red --> upstream2_upstream2_out2\n",
       "    upstream2_upstream2_out1 --> upstream1_upstream1_in1\n",
       "    upstream2_upstream2_out2 --> upstream1_upstream1_in2\n",
       "    upstream1_upstream1_in1 --\"in1\"--> upstream1_make_yellow\n",
       "    upstream1_upstream1_in2 --\"in1\"--> upstream1_remove_red\n",
       "    upstream1_make_yellow --> upstream1_upstream1_out1\n",
       "    upstream1_remove_red --> upstream1_upstream1_out2\n",
       "    upstream1_upstream1_out1 --> top_upstream1_out1\n",
       "    upstream1_upstream1_out2 --> top_upstream1_out2\n",
       "    upstream1_upstream1_out1 --\"base_color\"--> standard_surface\n",
       "    upstream1_upstream1_out2 --\"base_color\"--> standard_surface1\n",
       "    standard_surface --\"surfaceshader\"--> surfacematerial\n",
       "    standard_surface1 --\"surfaceshader\"--> surfacematerial1\n",
       "```"
      ]
     },
     "metadata": {},
     "output_type": "display_data"
    },
    {
     "name": "stdout",
     "output_type": "stream",
     "text": [
      "Write graph to HTML file: ./data/graphtest_output2.html\n"
     ]
    }
   ],
   "source": [
    "exporter = MxMermaidGraphExporter(graphDictionary, connections)\n",
    "exporter.setOrientation('BT')\n",
    "exporter.setEmitCategory(True)\n",
    "exporter.setEmitType(True)\n",
    "exporter.execute()\n",
    "\n",
    "exporter.display()\n",
    "\n",
    "result = exporter.getGraph()\n",
    "result = result.replace('```mermaid', '<div class=\"mermaid\">')\n",
    "result = result.replace('```', '</div>')\n",
    "result = \"<script src='https://cdn.jsdelivr.net/npm/mermaid@9/dist/mermaid.min.js'></script>\\n\" + result\n",
    "with open('./data/graphtest_output2.html', 'w') as f:\n",
    "    f.write(result)\n",
    "\n",
    "print('Write graph to HTML file: ./data/graphtest_output2.html')"
   ]
  },
  {
   "cell_type": "markdown",
   "metadata": {},
   "source": [
    "<button id=\"openDialogBtn2\" style=\"font-size:x-large; background-color: #0091ea; color:white;\">View Graph</button>\n",
    "\n",
    "<div id=\"dialog2\" style=\"display:none;\">\n",
    "    <iframe id=\"dialogContent2\" width=\"100%\" height=\"400px\"></iframe>\n",
    "</div>\n",
    "\n",
    "<script>\n",
    "    document.addEventListener('DOMContentLoaded', function() {\n",
    "        const openDialogBtn = document.getElementById('openDialogBtn2');\n",
    "        const dialog = document.getElementById('dialog2');\n",
    "        const dialogContent = document.getElementById('dialogContent2');\n",
    "\n",
    "        openDialogBtn.addEventListener('click', function() {\n",
    "            // Set the source of the iframe to the desired HTML file\n",
    "            dialogContent.src = './data/graphtest_output2.html';\n",
    "\n",
    "            // Display the dialog\n",
    "            dialog.style.display = 'block';\n",
    "        });\n",
    "    });\n",
    "</script>"
   ]
  }
 ],
 "metadata": {
  "kernelspec": {
   "display_name": ".venv",
   "language": "python",
   "name": "python3"
  },
  "language_info": {
   "codemirror_mode": {
    "name": "ipython",
    "version": 3
   },
   "file_extension": ".py",
   "mimetype": "text/x-python",
   "name": "python",
   "nbconvert_exporter": "python",
   "pygments_lexer": "ipython3",
   "version": "3.11.0"
  },
  "vscode": {
   "interpreter": {
    "hash": "5a1e4ae72c28e5dda2aa2f0312b2bc3d95bc8d852de19efe605de92732ab19fa"
   }
  }
 },
 "nbformat": 4,
 "nbformat_minor": 2
}
