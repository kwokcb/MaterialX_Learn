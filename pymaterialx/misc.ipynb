{
 "cells": [
  {
   "cell_type": "code",
   "execution_count": null,
   "metadata": {},
   "outputs": [],
   "source": []
  },
  {
   "cell_type": "code",
   "execution_count": null,
   "metadata": {},
   "outputs": [],
   "source": [
    "# Perform basic setup\n",
    "libraryPath = mx.FilePath('libraries')\n",
    "stdlib = mx.createDocument()\n",
    "searchPath = mx.FileSearchPath()\n",
    "libFiles = mx.loadLibraries([ libraryPath ], searchPath, stdlib)\n",
    "\n",
    "doc = mx.createDocument()\n",
    "doc.importLibrary(stdlib)\n",
    "\n",
    "# Write predicate\n",
    "def skipLibraryElement(elem):\n",
    "    return not elem.hasSourceUri()"
   ]
  }
 ],
 "metadata": {
  "language_info": {
   "name": "python"
  },
  "orig_nbformat": 4
 },
 "nbformat": 4,
 "nbformat_minor": 2
}
