{
 "cells": [
  {
   "attachments": {},
   "cell_type": "markdown",
   "metadata": {},
   "source": [
    "## Blender Notes:\n",
    "\n",
    "- https://blender.stackexchange.com/questions/tagged/export+materials\n",
    "- Example: https://s-nako.work/2020/08/how-to-get-material-with-python-api-in-blender/"
   ]
  }
 ],
 "metadata": {
  "language_info": {
   "name": "python"
  },
  "orig_nbformat": 4
 },
 "nbformat": 4,
 "nbformat_minor": 2
}
