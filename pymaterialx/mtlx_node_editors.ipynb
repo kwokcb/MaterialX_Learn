{
 "cells": [
  {
   "cell_type": "markdown",
   "metadata": {},
   "source": [
    "## Node Editors\n",
    "\n",
    "Stuff to add here."
   ]
  },
  {
   "cell_type": "markdown",
   "metadata": {},
   "source": [
    "### QuiltX"
   ]
  },
  {
   "cell_type": "code",
   "execution_count": 1,
   "metadata": {
    "vscode": {
     "languageId": "shellscript"
    }
   },
   "outputs": [
    {
     "name": "stdout",
     "output_type": "stream",
     "text": [
      "Requirement already satisfied: QuiltiX in c:\\users\\home\\appdata\\local\\programs\\python\\python310\\lib\\site-packages (0.5.0)\n",
      "Requirement already satisfied: materialx in c:\\users\\home\\appdata\\local\\programs\\python\\python310\\lib\\site-packages (from QuiltiX) (1.39.0)\n",
      "Requirement already satisfied: Qt.py in c:\\users\\home\\appdata\\local\\programs\\python\\python310\\lib\\site-packages (from QuiltiX) (1.3.8)\n",
      "Requirement already satisfied: PySide2>=5.12 in c:\\users\\home\\appdata\\local\\programs\\python\\python310\\lib\\site-packages (from QuiltiX) (5.15.2.1)\n",
      "Requirement already satisfied: PyOpenGL in c:\\users\\home\\appdata\\local\\programs\\python\\python310\\lib\\site-packages (from QuiltiX) (3.1.7)\n",
      "Requirement already satisfied: PyOpenGL-accelerate in c:\\users\\home\\appdata\\local\\programs\\python\\python310\\lib\\site-packages (from QuiltiX) (3.1.7)\n",
      "Requirement already satisfied: NodeGraphQt-QuiltiX-fork in c:\\users\\home\\appdata\\local\\programs\\python\\python310\\lib\\site-packages (from QuiltiX) (0.6.0)\n",
      "Requirement already satisfied: shiboken2==5.15.2.1 in c:\\users\\home\\appdata\\local\\programs\\python\\python310\\lib\\site-packages (from PySide2>=5.12->QuiltiX) (5.15.2.1)\n",
      "Requirement already satisfied: types-PySide2 in c:\\users\\home\\appdata\\local\\programs\\python\\python310\\lib\\site-packages (from Qt.py->QuiltiX) (5.15.2.1.6)\n",
      "Note: you may need to restart the kernel to use updated packages.\n"
     ]
    },
    {
     "name": "stderr",
     "output_type": "stream",
     "text": [
      "\n",
      "[notice] A new release of pip is available: 23.3.1 -> 24.0\n",
      "[notice] To update, run: python.exe -m pip install --upgrade pip\n"
     ]
    }
   ],
   "source": [
    "pip install QuiltiX"
   ]
  },
  {
   "cell_type": "code",
   "execution_count": 2,
   "metadata": {},
   "outputs": [],
   "source": [
    "import QuiltiX as qx\n"
   ]
  },
  {
   "cell_type": "markdown",
   "metadata": {},
   "source": [
    "### Houdini\n"
   ]
  },
  {
   "cell_type": "markdown",
   "metadata": {},
   "source": [
    "### Maya\n"
   ]
  },
  {
   "cell_type": "markdown",
   "metadata": {},
   "source": [
    "### MateriaX Graph Editor\n"
   ]
  },
  {
   "cell_type": "markdown",
   "metadata": {},
   "source": [
    "\n",
    "### Blender (to come)"
   ]
  }
 ],
 "metadata": {
  "kernelspec": {
   "display_name": ".venv",
   "language": "python",
   "name": "python3"
  },
  "language_info": {
   "codemirror_mode": {
    "name": "ipython",
    "version": 3
   },
   "file_extension": ".py",
   "mimetype": "text/x-python",
   "name": "python",
   "nbconvert_exporter": "python",
   "pygments_lexer": "ipython3",
   "version": "3.10.10"
  },
  "orig_nbformat": 4
 },
 "nbformat": 4,
 "nbformat_minor": 2
}
